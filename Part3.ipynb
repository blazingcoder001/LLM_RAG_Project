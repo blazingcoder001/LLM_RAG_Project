{
  "cells": [
    {
      "cell_type": "markdown",
      "metadata": {
        "id": "eAahzI9lcLUr"
      },
      "source": [
        "# Practice: question answering with retrieval\n",
        "\n",
        "In this homework you will build a retrieval-based question answering system, one component at a time.\n",
        "\n",
        "_Okay, realistically, there's like, two components, but technically it's one component at a time._\n",
        "\n",
        "\n",
        "![img](https://www.cs.upc.edu/~mlatifi/index_files/qa-logo.jpg)\n",
        "\n",
        "\n",
        "\n",
        "There are two parts to this type of systems: a retriever and a generator.\n",
        "- the retriever subsystem searches for similar texts from a given databse, e.g. wikipedia\n",
        "- the generator uses the texts found by the retriever to generate an answer in natural language\n",
        "\n",
        "_this seminar is based on original notebook by [Oleg Vasilev](https://github.com/Omrigan/)_\n",
        "\n"
      ]
    },
    {
      "cell_type": "markdown",
      "metadata": {
        "id": "F09wfUH9cLU6"
      },
      "source": [
        "### Retriever training: loss function (2 points)\n",
        "We want our vectorizers to put correct answers closer to question vectors and incorrect answers farther away from them. One way to express this is to use is Pairwise Hinge Loss _(aka Triplet Loss)_.\n",
        "\n",
        "$$ L = \\frac 1N \\underset {q, a^+, a^-} \\sum max(0, \\space \\delta - sim[V_q(q), V_a(a^+)] + sim[V_q(q), V_a(a^-)] )$$\n",
        "\n",
        ", where\n",
        "* sim[a, b] is some similarity function: dot product, cosine or negative distance\n",
        "* δ - loss hyperparameter, e.g. δ=1.0. If sim[a, b] is linear in b, all δ > 0 are equivalent.\n",
        "\n",
        "\n",
        "This reads as __Correct answers must be closer than the wrong ones by at least δ.__\n",
        "\n",
        "![img](https://raw.githubusercontent.com/yandexdataschool/nlp_course/master/resources/margin.png)\n",
        "<center>_image: question vector is green, correct answers are blue, incorrect answers are red_</center>\n",
        "\n",
        "\n",
        "Note: in effect, we train a Deep Semantic Similarity Model [DSSM](https://www.microsoft.com/en-us/research/project/dssm/)."
      ]
    },
    {
      "cell_type": "markdown",
      "metadata": {
        "id": "35yibHtVcLVB"
      },
      "source": [
        "### Optional tasks for bonus points\n",
        "\n",
        "There are many ways to improve our question answering model. Here's a bunch of things you can do to increase your understanding and get bonus points.\n",
        "\n",
        "### 1.  Hard Negatives (2+ pts)\n",
        "\n",
        "Not all wrong answers are equally wrong. As the training progresses, _most negative examples $a^-$ will be to easy._ So easy in fact, that loss function and gradients on such negatives is exactly __0.0__. To improve training efficiency, one can __mine hard negative samples__.\n",
        "\n",
        "Given a list of answers,\n",
        "* __Hard negative__ is the wrong answer with highest similarity with question,\n",
        "\n",
        "$$a^-_{hard} = \\underset {a^-} {argmax} \\space sim[V_q(q), V_a(a^-)]$$\n",
        "\n",
        "* __Semi-hard negative__ is the one with highest similarity _among wrong answers that are farther than positive one. This option is more useful if some wrong answers may actually be mislabelled correct answers.\n",
        "\n",
        "* One can also __sample__ negatives proportionally to $$P(a^-_i) \\sim e ^ {sim[V_q(q), V_a(a^-_i)]}$$\n",
        "\n",
        "\n",
        "The task is to implement at least __hard negative__ sampling and apply it for model training.\n",
        "\n",
        "\n",
        "### 2. Better prompting (2+ pts)\n",
        "\n",
        "In the previous example, we manually engineer a prompt for an LLM to solve produce an answer. However, by this point you know multiple ways to make LLM do your bidding. In this assignment, you should try at least some of them:\n",
        "- try few-shot learning with several handcrafted examples (or hand-picked model inputs)\n",
        "- compare several instruct and/or non-instruct models; for non-instruct models\n",
        "  - please not that you should not use apply_chat_template for non-instruct models\n",
        "- provide some means of quality evaluation to compare your approach against the default one\n",
        "\n",
        "At the minimum, several (10-20) side-by-side examples would do the trick. However, we'd appreciate creative means of evaluation here (crowdsourcing, asking another LM, anything exotic as long as you can explain it).\n",
        "\n",
        "### 3. Search engine (3+ pts)\n",
        "\n",
        "Our basic model only selects answers from 2-5 available sentences in paragraph. You can extend it to search over __the whole dataset__. All sentences in all other paragraphs are viable answers.\n",
        "\n",
        "The goal is to train such a model and use it to __quickly find top-10 answers from the whole set__.\n",
        "\n",
        "* You can ask such model a question of your own making - to see which answers it can find among the entire training dataset or even the entire wikipedia.\n",
        "* Searching for top-K neighbors is easier if you use specialized methods: [KD-Tree](https://scikit-learn.org/stable/modules/generated/sklearn.neighbors.KDTree.html) or [HNSW](https://github.com/nmslib/hnswlib).\n",
        "* This task is much easier to train if you use hard or semi-hard negatives. You can even find hard negatives for one question from correct answers to other questions in batch - do so in-graph for maximum efficiency. See [1.] for more details.\n"
      ]
    },
    {
      "cell_type": "markdown",
      "metadata": {
        "id": "NTM8BrESUMWi"
      },
      "source": [
        "# Doing Bonus 2 Below:-"
      ]
    },
    {
      "cell_type": "code",
      "execution_count": null,
      "metadata": {
        "execution": {
          "iopub.execute_input": "2025-05-07T15:41:38.347968Z",
          "iopub.status.busy": "2025-05-07T15:41:38.347100Z",
          "iopub.status.idle": "2025-05-07T15:41:46.410916Z",
          "shell.execute_reply": "2025-05-07T15:41:46.410327Z",
          "shell.execute_reply.started": "2025-05-07T15:41:38.347936Z"
        },
        "id": "ItyZ1VuPT9pF",
        "trusted": true
      },
      "outputs": [],
      "source": [
        "import numpy as np\n",
        "import torch, torch.nn as nn\n",
        "import torch.nn.functional as F\n",
        "import matplotlib.pyplot as plt\n",
        "%matplotlib inline"
      ]
    },
    {
      "cell_type": "code",
      "execution_count": null,
      "metadata": {
        "execution": {
          "iopub.execute_input": "2025-05-07T15:41:46.412858Z",
          "iopub.status.busy": "2025-05-07T15:41:46.412223Z",
          "iopub.status.idle": "2025-05-07T15:41:46.502747Z",
          "shell.execute_reply": "2025-05-07T15:41:46.501940Z",
          "shell.execute_reply.started": "2025-05-07T15:41:46.412837Z"
        },
        "id": "FCj6NFT5T9pG",
        "trusted": true
      },
      "outputs": [],
      "source": [
        "device = torch.device('cuda:0' if torch.cuda.is_available() else 'cpu') # use 'cuda' for any GPU"
      ]
    },
    {
      "cell_type": "code",
      "execution_count": null,
      "metadata": {
        "execution": {
          "iopub.execute_input": "2025-05-07T15:41:46.503774Z",
          "iopub.status.busy": "2025-05-07T15:41:46.503555Z",
          "iopub.status.idle": "2025-05-07T15:41:48.654192Z",
          "shell.execute_reply": "2025-05-07T15:41:48.653551Z",
          "shell.execute_reply.started": "2025-05-07T15:41:46.503757Z"
        },
        "id": "1OQDxui3T9pG",
        "outputId": "2386dba4-5eb9-40fe-a81b-7f0804ea9992",
        "trusted": true
      },
      "outputs": [
        {
          "name": "stderr",
          "output_type": "stream",
          "text": [
            "[nltk_data] Downloading package punkt_tab to /usr/share/nltk_data...\n",
            "[nltk_data]   Package punkt_tab is already up-to-date!\n"
          ]
        },
        {
          "data": {
            "text/plain": [
              "True"
            ]
          },
          "execution_count": 3,
          "metadata": {},
          "output_type": "execute_result"
        }
      ],
      "source": [
        "import nltk\n",
        "nltk.download('punkt_tab')"
      ]
    },
    {
      "cell_type": "code",
      "execution_count": null,
      "metadata": {
        "execution": {
          "iopub.execute_input": "2025-05-07T15:41:48.655989Z",
          "iopub.status.busy": "2025-05-07T15:41:48.655701Z",
          "iopub.status.idle": "2025-05-07T15:41:53.528451Z",
          "shell.execute_reply": "2025-05-07T15:41:53.527819Z",
          "shell.execute_reply.started": "2025-05-07T15:41:48.655972Z"
        },
        "id": "vCjc5lfPT9pG",
        "outputId": "57669d51-ce2f-497d-ee5b-ac165ab6bbae",
        "trusted": true
      },
      "outputs": [
        {
          "name": "stdout",
          "output_type": "stream",
          "text": [
            "--2025-05-07 15:41:48--  https://raw.githubusercontent.com/yandexdataschool/nlp_course/2023/week_extra/retrieval/data.py\n",
            "Resolving raw.githubusercontent.com (raw.githubusercontent.com)... 185.199.111.133, 185.199.110.133, 185.199.109.133, ...\n",
            "Connecting to raw.githubusercontent.com (raw.githubusercontent.com)|185.199.111.133|:443... connected.\n",
            "HTTP request sent, awaiting response... 200 OK\n",
            "Length: 3553 (3.5K) [text/plain]\n",
            "Saving to: ‘data.py’\n",
            "\n",
            "data.py             100%[===================>]   3.47K  --.-KB/s    in 0s      \n",
            "\n",
            "2025-05-07 15:41:48 (48.5 MB/s) - ‘data.py’ saved [3553/3553]\n",
            "\n"
          ]
        },
        {
          "name": "stderr",
          "output_type": "stream",
          "text": [
            "[nltk_data] Downloading package punkt to /usr/share/nltk_data...\n",
            "[nltk_data]   Package punkt is already up-to-date!\n"
          ]
        }
      ],
      "source": [
        "# %pip install --quiet transformers==4.36.2 accelerate==0.24.0 sentencepiece==0.1.99 optimum==1.13.2 auto-gptq==0.4.2\n",
        "# ^-- if this fails, remove the specific version and install latest ones: pip install --update transformers accelerate ...\n",
        "!wget https://raw.githubusercontent.com/yandexdataschool/nlp_course/2023/week_extra/retrieval/data.py -O data.py\n",
        "!wget https://rajpurkar.github.io/SQuAD-explorer/dataset/train-v2.0.json -O squad-v2.0.json 2> log\n",
        "\n",
        "import data\n",
        "# backup download link: https://www.dropbox.com/s/q4fuihaerqr0itj/squad.tar.gz?dl=1\n",
        "train, test = data.build_dataset('./squad-v2.0.json')"
      ]
    },
    {
      "cell_type": "code",
      "execution_count": null,
      "metadata": {
        "colab": {
          "referenced_widgets": [
            "f1110c68587f41aab52162e7257a10f2",
            "0584af8ef21743188ae22cb7f697866f",
            "f92ef08f3b7a43d88e3c2420afa082c2",
            "d846785df66e472d950193c83854c563",
            "7b4bef0021f7416d80dd808417f7c05e",
            "3e7cbd44575a45ad9d5fe848c29def01",
            "9df26d8ab1804b6b977d8eb7f10b08dc"
          ]
        },
        "execution": {
          "iopub.execute_input": "2025-05-07T15:41:53.529518Z",
          "iopub.status.busy": "2025-05-07T15:41:53.529181Z",
          "iopub.status.idle": "2025-05-07T15:42:32.660608Z",
          "shell.execute_reply": "2025-05-07T15:42:32.659961Z",
          "shell.execute_reply.started": "2025-05-07T15:41:53.529495Z"
        },
        "id": "RnWedj_MT9pG",
        "outputId": "df6e6583-95cc-4e13-8e2e-283e79de1316",
        "trusted": true
      },
      "outputs": [
        {
          "name": "stderr",
          "output_type": "stream",
          "text": [
            "2025-05-07 15:42:06.759864: E external/local_xla/xla/stream_executor/cuda/cuda_fft.cc:477] Unable to register cuFFT factory: Attempting to register factory for plugin cuFFT when one has already been registered\n",
            "WARNING: All log messages before absl::InitializeLog() is called are written to STDERR\n",
            "E0000 00:00:1746632527.194822      31 cuda_dnn.cc:8310] Unable to register cuDNN factory: Attempting to register factory for plugin cuDNN when one has already been registered\n",
            "E0000 00:00:1746632527.322772      31 cuda_blas.cc:1418] Unable to register cuBLAS factory: Attempting to register factory for plugin cuBLAS when one has already been registered\n"
          ]
        },
        {
          "data": {
            "application/vnd.jupyter.widget-view+json": {
              "model_id": "f1110c68587f41aab52162e7257a10f2",
              "version_major": 2,
              "version_minor": 0
            },
            "text/plain": [
              "tokenizer_config.json:   0%|          | 0.00/399 [00:00<?, ?B/s]"
            ]
          },
          "metadata": {},
          "output_type": "display_data"
        },
        {
          "data": {
            "application/vnd.jupyter.widget-view+json": {
              "model_id": "0584af8ef21743188ae22cb7f697866f",
              "version_major": 2,
              "version_minor": 0
            },
            "text/plain": [
              "config.json:   0%|          | 0.00/625 [00:00<?, ?B/s]"
            ]
          },
          "metadata": {},
          "output_type": "display_data"
        },
        {
          "data": {
            "application/vnd.jupyter.widget-view+json": {
              "model_id": "f92ef08f3b7a43d88e3c2420afa082c2",
              "version_major": 2,
              "version_minor": 0
            },
            "text/plain": [
              "vocab.txt:   0%|          | 0.00/232k [00:00<?, ?B/s]"
            ]
          },
          "metadata": {},
          "output_type": "display_data"
        },
        {
          "data": {
            "application/vnd.jupyter.widget-view+json": {
              "model_id": "d846785df66e472d950193c83854c563",
              "version_major": 2,
              "version_minor": 0
            },
            "text/plain": [
              "tokenizer.json:   0%|          | 0.00/466k [00:00<?, ?B/s]"
            ]
          },
          "metadata": {},
          "output_type": "display_data"
        },
        {
          "data": {
            "application/vnd.jupyter.widget-view+json": {
              "model_id": "7b4bef0021f7416d80dd808417f7c05e",
              "version_major": 2,
              "version_minor": 0
            },
            "text/plain": [
              "added_tokens.json:   0%|          | 0.00/2.00 [00:00<?, ?B/s]"
            ]
          },
          "metadata": {},
          "output_type": "display_data"
        },
        {
          "data": {
            "application/vnd.jupyter.widget-view+json": {
              "model_id": "3e7cbd44575a45ad9d5fe848c29def01",
              "version_major": 2,
              "version_minor": 0
            },
            "text/plain": [
              "special_tokens_map.json:   0%|          | 0.00/112 [00:00<?, ?B/s]"
            ]
          },
          "metadata": {},
          "output_type": "display_data"
        },
        {
          "name": "stderr",
          "output_type": "stream",
          "text": [
            "Xet Storage is enabled for this repo, but the 'hf_xet' package is not installed. Falling back to regular HTTP download. For better performance, install the package with: `pip install huggingface_hub[hf_xet]` or `pip install hf_xet`\n"
          ]
        },
        {
          "data": {
            "application/vnd.jupyter.widget-view+json": {
              "model_id": "9df26d8ab1804b6b977d8eb7f10b08dc",
              "version_major": 2,
              "version_minor": 0
            },
            "text/plain": [
              "model.safetensors:   0%|          | 0.00/438M [00:00<?, ?B/s]"
            ]
          },
          "metadata": {},
          "output_type": "display_data"
        }
      ],
      "source": [
        "from transformers import AutoTokenizer, AutoModel, pipeline\n",
        "\n",
        "model_name = 'sentence-transformers/bert-base-nli-mean-tokens'\n",
        "tokenizer = AutoTokenizer.from_pretrained(model_name)\n",
        "bert = AutoModel.from_pretrained(model_name)"
      ]
    },
    {
      "cell_type": "code",
      "execution_count": null,
      "metadata": {
        "execution": {
          "iopub.execute_input": "2025-05-07T15:42:32.661738Z",
          "iopub.status.busy": "2025-05-07T15:42:32.661500Z",
          "iopub.status.idle": "2025-05-07T15:42:32.669344Z",
          "shell.execute_reply": "2025-05-07T15:42:32.668612Z",
          "shell.execute_reply.started": "2025-05-07T15:42:32.661719Z"
        },
        "id": "OcsNxFnfT9pG",
        "trusted": true
      },
      "outputs": [],
      "source": [
        "class Vectorizer(nn.Module):\n",
        "    def __init__(self, hid_size=256, bert=bert):\n",
        "        \"\"\" A small feedforward network on top of pre-trained encoder. 2-3 layers should be enough \"\"\"\n",
        "        super().__init__()\n",
        "        self.bert = bert\n",
        "        self.hid_size = hid_size\n",
        "\n",
        "        # define a few layers to be applied on top of pre-trained BERT\n",
        "        # note: please make sure your final layer comes with _linear_ activation\n",
        "        # <YOUR CODE HERE>\n",
        "        # Freeze BERT parameters\n",
        "        for param in self.bert.parameters():\n",
        "            param.requires_grad = False\n",
        "\n",
        "        self.dropout = nn.Dropout(0.1)\n",
        "        self.fc1 = nn.Linear(768, 512)\n",
        "        self.fc2 = nn.Linear(512, hid_size)\n",
        "        self.relu = nn.ReLU()\n",
        "        self.to(device)\n",
        "\n",
        "\n",
        "    def forward(self, input_phrases):\n",
        "        \"\"\"\n",
        "        Apply vectorizer. Use dropout and any other hacks at will.\n",
        "        :param input_phrases: a list of strings, [batch_size]\n",
        "        :returns: predicted phrase vectors, [batch_size, output_size]\n",
        "\n",
        "        Note: you may want to use dropouts.\n",
        "        if self.training:\n",
        "          <something>\n",
        "\n",
        "        Note 2: you may also want to use with torch.no_grad to avoid training BERT for your first attempts\n",
        "\n",
        "        \"\"\"\n",
        "\n",
        "        # In fact, please DO use at least 10% dropout!\n",
        "        # <YOUR CODE>\n",
        "        # return <...>\n",
        "        with torch.no_grad():\n",
        "            batch = tokenizer(input_phrases, padding=True, truncation=True, return_tensors=\"pt\").to(device)\n",
        "            outputs = self.bert(**batch)\n",
        "\n",
        "        mask = batch['attention_mask'].unsqueeze(-1).float()\n",
        "        token_embs = outputs.last_hidden_state\n",
        "        phrase_embs = (token_embs * mask).sum(1) / mask.sum(1)\n",
        "\n",
        "        x = self.dropout(phrase_embs)\n",
        "        x = self.relu(self.fc1(x))\n",
        "        x = self.dropout(x)\n",
        "        x = self.fc2(x)\n",
        "        return x\n",
        "\n"
      ]
    },
    {
      "cell_type": "code",
      "execution_count": null,
      "metadata": {
        "execution": {
          "iopub.execute_input": "2025-05-07T15:42:32.670677Z",
          "iopub.status.busy": "2025-05-07T15:42:32.670322Z",
          "iopub.status.idle": "2025-05-07T15:42:32.762994Z",
          "shell.execute_reply": "2025-05-07T15:42:32.762415Z",
          "shell.execute_reply.started": "2025-05-07T15:42:32.670637Z"
        },
        "id": "sGG1VJVKT9pG",
        "trusted": true
      },
      "outputs": [],
      "source": [
        "def similarity(a, b):\n",
        "    \"\"\" Dot product as a similarity function \"\"\"\n",
        "    # <YOUR CODE>\n",
        "    # return <...>\n",
        "    return torch.sum(a * b, dim=1)\n",
        "\n",
        "\n",
        "def compute_loss(question_vectors, correct_answer_vectors, wrong_answer_vectors, delta=1.0):\n",
        "    \"\"\"\n",
        "    Compute the triplet loss as per formula above.\n",
        "    Use similarity function above for  sim[a, b]\n",
        "    :param question_vectors: float32[batch_size, vector_size]\n",
        "    :param correct_answer_vectors: float32[batch_size, vector_size]\n",
        "    :param wrong_answer_vectors: float32[batch_size, vector_size]\n",
        "    :returns: loss for every row in batch, float32[batch_size]\n",
        "    Hint: you can compute max(0, *) using torch.relu :)\n",
        "    \"\"\"\n",
        "    # <YOUR CODE>\n",
        "    # return <...>\n",
        "    pos_sim = similarity(question_vectors, correct_answer_vectors)\n",
        "    neg_sim = similarity(question_vectors, wrong_answer_vectors)\n",
        "    print(torch.relu(delta - pos_sim + neg_sim))\n",
        "    return torch.relu(delta - pos_sim + neg_sim)"
      ]
    },
    {
      "cell_type": "code",
      "execution_count": null,
      "metadata": {
        "execution": {
          "iopub.execute_input": "2025-05-07T15:42:32.764087Z",
          "iopub.status.busy": "2025-05-07T15:42:32.763865Z",
          "iopub.status.idle": "2025-05-07T15:42:32.833093Z",
          "shell.execute_reply": "2025-05-07T15:42:32.832417Z",
          "shell.execute_reply.started": "2025-05-07T15:42:32.764064Z"
        },
        "id": "u6yDlCq_T9pH",
        "trusted": true
      },
      "outputs": [],
      "source": [
        "from huggingface_hub import login\n",
        "login(token=\"login_taken_hidden\")"
      ]
    },
    {
      "cell_type": "code",
      "execution_count": null,
      "metadata": {
        "colab": {
          "referenced_widgets": [
            "c3d04b7582ab4f249c6f48f91e0b2d1c",
            "857878ef4b7e4a56b2b3829c3d039287",
            "4db53a9d04c445e9a1ba44badaa38af3",
            "8bf09d6db22347b7b46df4a75c8da141",
            "827010c7372c418f9c76fd3bc8378e0a",
            "6f9d9919563a470fb941585ddcac9801",
            "b1faf33616504d8f9b6c70949e224e52",
            "87da86ec39364a4fa81a8a2d83f4b851",
            "dd73df71be5c4160ba39150baf8b3586",
            "7498aa17413644cc84722e379ff400cf",
            "c5abb18b47ec4b1ea11aaa3b7086e4a2",
            "76011fe1654b4b7cae56044c522744bb",
            "c76e261a9b2f4fa59a7b2a8f7302cf5b",
            "4e3cbb30730b4ccdb71d622c75c8ac51",
            "1bbb929d8e994d66a3cc61d2b71628e9",
            "057d1cca5ffd4b1587c690871caa500e",
            "1c9d4fe1f7564c399ba9a1890dd90744",
            "dab219d3bb7e4d49a51ead65646a791e",
            "dbf4de71da33433b90d417338e0fe29e",
            "40a18f9e59ee44239ed9ec7ca757de79",
            "22fd229c179d4cd8ace15f578a06a14d",
            "ca351bf2e22f473aa6d2c4b61f73af3d",
            "26791a55cccf4f659f686fb7b8b599c9",
            "aaf6fce48c72446fb0c8472c3b212135",
            "d9e485d06feb4b1cb26a77f18c3af11f",
            "baeb8e61c52b4ffa8116abb2e230d660",
            "363bbc281d8842d58c4c88176810064a",
            "b906aac1fc284aa0b387668a009dc74c",
            "bbedba049e444be19e3d1035d6c2a210",
            "b1a006ef650f4ee7b2807fc12dbc005b",
            "3c9dd8932f904c25954a702f2fd8a496",
            "81ef6c37fb93443ea3964d5510f4ee28",
            "caf4ff86883a450e89d68fa1c187ea09",
            "60c926527cee481489f338944c68343e",
            "6775226da8ad428d9b6acf2b44c62255",
            "37dbf3d430b74cef80a370f344d475c8",
            "ad2e30e34f8b41458a60746886299ab8",
            "1ac4c6b2cf524999be61fe36c21df83f",
            "5601b4877aa441798dec8eae204fdbf9",
            "c915c815474f41f283ce319848d32c0a",
            "9090163a9771404883ca9600c13baa8d",
            "67023a455e754302910c3150e66fed5c",
            "52336463decc41528c7761445dc1c3e1",
            "b26a16b21c9c47bc919684ad4ec5fc53",
            "2af1313d3827462594dff54addd32cef",
            "73f34e6ae9a64aac9b8e68e486a471ee",
            "aed004ca36e84719963f3d3732973feb",
            "fc76855ceda24ebab80926dce908a6b5",
            "bb53ddaf394948888d24f7171615c31b",
            "767a117bfff444909ef675e0e010c41e",
            "6406980574744674a619b5ace6ea7d4f",
            "21eab4d094a04dccacc38001c19798c3",
            "aac13d162bc6413e880f6a29c9c05584",
            "7af89e6ea0644843b43ed13b81ee6d29",
            "07215e173d024d42bfe5090ac28e6762",
            "10e06e116df64c9a9517a0b0ad921306",
            "1a2386b970c048aca59bf39608ce6362",
            "9bf6f8c3779d4fcc9fadaa71db4760b2",
            "67417ec083b4426eab0e09db0b41e23a",
            "78bc079103cf4609a0db0003deccf6e4",
            "c0c6a35dd0f94dc89cce7181b7457676",
            "3b14b26535df4f1da08c710be9c948c1",
            "55ad956705c54f2a8c2f285aa50aaf0e",
            "116cce9cf1d3463b8e080caef2588d2e",
            "0fdf0adbf68141c5afb49132d2901d3b",
            "f6f0dac00f944ee9ace14563cc43e331",
            "5f360c61519640fda493dc7ed9857c43",
            "6b6008693cf6460fa68a5094318c9386",
            "f692ec755d5748c0a46890ca021dfeae",
            "b67a24752e7549f98a2121d0e90f4048",
            "60ecf634d48f4709b53c006292039952",
            "2bb2412e61a443f88b7b6d1069741feb",
            "237c6aaa3c5b49deb8f557c55cf2c60e",
            "6b105ec939fe40e885ca3c8427639ba8",
            "6148f9da3ef745fab55c1fd7bf6628ec",
            "a50229a23b514725953b701863fb5cc2",
            "822dae9d6f0447f7bbbfa2c11eea14fd",
            "bf7fbe452f354b329da6aa55ef72bfed",
            "73508895746147968a2981530297005a",
            "0d50222ba1eb457b84c12b0c0c72c957",
            "618f01a005cd408db61c61a68528bbab",
            "01cba80f40d3459ab6c4a5a9e27f0bee",
            "57b88c67439e453c9ebf1d9ad19ed12c",
            "2e778d07e7a14a7ea9d2ab2b4630482e",
            "b3e9cd33d1d74871b0ef04d898385b53",
            "c26d30aa8a1947789e37ecca89960ffb",
            "3b112ab4220045b4aa47aaf472d7d28c",
            "a1af94dfac674951879a4bd22f3cc54c",
            "b5dfa2bb9a6a408dbf712004f372f8d8",
            "82c2676e84e64297b4e3b80b5ce9711c",
            "e750e7efd3ad461e8f1f812c40385801",
            "8257d927b6ad4d3a9c5b29f8602674a5",
            "0f8eca36849f4dc3ac5ab56d5aea22b4",
            "29f20dcb12a243e89188bfbf82da59b8",
            "729542166d7841c384b9cbb0c67246a0",
            "18ceeebd66e34fa0995d9b2f3a88123d",
            "331aea2083104f1cb73a88e8072073ac",
            "50dce3e2e8054ab991a628cd13b211cb"
          ]
        },
        "execution": {
          "iopub.execute_input": "2025-05-07T15:42:32.834280Z",
          "iopub.status.busy": "2025-05-07T15:42:32.834035Z",
          "iopub.status.idle": "2025-05-07T15:44:56.952105Z",
          "shell.execute_reply": "2025-05-07T15:44:56.951440Z",
          "shell.execute_reply.started": "2025-05-07T15:42:32.834261Z"
        },
        "id": "0x_1U0lHT9pH",
        "outputId": "e9b90081-42d2-4c4f-b593-72175c934808",
        "trusted": true
      },
      "outputs": [
        {
          "data": {
            "application/vnd.jupyter.widget-view+json": {
              "model_id": "c3d04b7582ab4f249c6f48f91e0b2d1c",
              "version_major": 2,
              "version_minor": 0
            },
            "text/plain": [
              "modules.json:   0%|          | 0.00/349 [00:00<?, ?B/s]"
            ]
          },
          "metadata": {},
          "output_type": "display_data"
        },
        {
          "data": {
            "application/vnd.jupyter.widget-view+json": {
              "model_id": "857878ef4b7e4a56b2b3829c3d039287",
              "version_major": 2,
              "version_minor": 0
            },
            "text/plain": [
              "config_sentence_transformers.json:   0%|          | 0.00/116 [00:00<?, ?B/s]"
            ]
          },
          "metadata": {},
          "output_type": "display_data"
        },
        {
          "data": {
            "application/vnd.jupyter.widget-view+json": {
              "model_id": "4db53a9d04c445e9a1ba44badaa38af3",
              "version_major": 2,
              "version_minor": 0
            },
            "text/plain": [
              "README.md:   0%|          | 0.00/10.5k [00:00<?, ?B/s]"
            ]
          },
          "metadata": {},
          "output_type": "display_data"
        },
        {
          "data": {
            "application/vnd.jupyter.widget-view+json": {
              "model_id": "8bf09d6db22347b7b46df4a75c8da141",
              "version_major": 2,
              "version_minor": 0
            },
            "text/plain": [
              "sentence_bert_config.json:   0%|          | 0.00/53.0 [00:00<?, ?B/s]"
            ]
          },
          "metadata": {},
          "output_type": "display_data"
        },
        {
          "data": {
            "application/vnd.jupyter.widget-view+json": {
              "model_id": "827010c7372c418f9c76fd3bc8378e0a",
              "version_major": 2,
              "version_minor": 0
            },
            "text/plain": [
              "config.json:   0%|          | 0.00/612 [00:00<?, ?B/s]"
            ]
          },
          "metadata": {},
          "output_type": "display_data"
        },
        {
          "name": "stderr",
          "output_type": "stream",
          "text": [
            "Xet Storage is enabled for this repo, but the 'hf_xet' package is not installed. Falling back to regular HTTP download. For better performance, install the package with: `pip install huggingface_hub[hf_xet]` or `pip install hf_xet`\n"
          ]
        },
        {
          "data": {
            "application/vnd.jupyter.widget-view+json": {
              "model_id": "6f9d9919563a470fb941585ddcac9801",
              "version_major": 2,
              "version_minor": 0
            },
            "text/plain": [
              "model.safetensors:   0%|          | 0.00/90.9M [00:00<?, ?B/s]"
            ]
          },
          "metadata": {},
          "output_type": "display_data"
        },
        {
          "data": {
            "application/vnd.jupyter.widget-view+json": {
              "model_id": "b1faf33616504d8f9b6c70949e224e52",
              "version_major": 2,
              "version_minor": 0
            },
            "text/plain": [
              "tokenizer_config.json:   0%|          | 0.00/350 [00:00<?, ?B/s]"
            ]
          },
          "metadata": {},
          "output_type": "display_data"
        },
        {
          "data": {
            "application/vnd.jupyter.widget-view+json": {
              "model_id": "87da86ec39364a4fa81a8a2d83f4b851",
              "version_major": 2,
              "version_minor": 0
            },
            "text/plain": [
              "vocab.txt:   0%|          | 0.00/232k [00:00<?, ?B/s]"
            ]
          },
          "metadata": {},
          "output_type": "display_data"
        },
        {
          "data": {
            "application/vnd.jupyter.widget-view+json": {
              "model_id": "dd73df71be5c4160ba39150baf8b3586",
              "version_major": 2,
              "version_minor": 0
            },
            "text/plain": [
              "tokenizer.json:   0%|          | 0.00/466k [00:00<?, ?B/s]"
            ]
          },
          "metadata": {},
          "output_type": "display_data"
        },
        {
          "data": {
            "application/vnd.jupyter.widget-view+json": {
              "model_id": "7498aa17413644cc84722e379ff400cf",
              "version_major": 2,
              "version_minor": 0
            },
            "text/plain": [
              "special_tokens_map.json:   0%|          | 0.00/112 [00:00<?, ?B/s]"
            ]
          },
          "metadata": {},
          "output_type": "display_data"
        },
        {
          "data": {
            "application/vnd.jupyter.widget-view+json": {
              "model_id": "c5abb18b47ec4b1ea11aaa3b7086e4a2",
              "version_major": 2,
              "version_minor": 0
            },
            "text/plain": [
              "config.json:   0%|          | 0.00/190 [00:00<?, ?B/s]"
            ]
          },
          "metadata": {},
          "output_type": "display_data"
        },
        {
          "name": "stdout",
          "output_type": "stream",
          "text": [
            "\n",
            "Evaluating FLAN-T5-Base...\n"
          ]
        },
        {
          "data": {
            "application/vnd.jupyter.widget-view+json": {
              "model_id": "76011fe1654b4b7cae56044c522744bb",
              "version_major": 2,
              "version_minor": 0
            },
            "text/plain": [
              "tokenizer_config.json:   0%|          | 0.00/2.54k [00:00<?, ?B/s]"
            ]
          },
          "metadata": {},
          "output_type": "display_data"
        },
        {
          "name": "stderr",
          "output_type": "stream",
          "text": [
            "Xet Storage is enabled for this repo, but the 'hf_xet' package is not installed. Falling back to regular HTTP download. For better performance, install the package with: `pip install huggingface_hub[hf_xet]` or `pip install hf_xet`\n"
          ]
        },
        {
          "data": {
            "application/vnd.jupyter.widget-view+json": {
              "model_id": "c76e261a9b2f4fa59a7b2a8f7302cf5b",
              "version_major": 2,
              "version_minor": 0
            },
            "text/plain": [
              "spiece.model:   0%|          | 0.00/792k [00:00<?, ?B/s]"
            ]
          },
          "metadata": {},
          "output_type": "display_data"
        },
        {
          "data": {
            "application/vnd.jupyter.widget-view+json": {
              "model_id": "4e3cbb30730b4ccdb71d622c75c8ac51",
              "version_major": 2,
              "version_minor": 0
            },
            "text/plain": [
              "tokenizer.json:   0%|          | 0.00/2.42M [00:00<?, ?B/s]"
            ]
          },
          "metadata": {},
          "output_type": "display_data"
        },
        {
          "data": {
            "application/vnd.jupyter.widget-view+json": {
              "model_id": "1bbb929d8e994d66a3cc61d2b71628e9",
              "version_major": 2,
              "version_minor": 0
            },
            "text/plain": [
              "special_tokens_map.json:   0%|          | 0.00/2.20k [00:00<?, ?B/s]"
            ]
          },
          "metadata": {},
          "output_type": "display_data"
        },
        {
          "data": {
            "application/vnd.jupyter.widget-view+json": {
              "model_id": "057d1cca5ffd4b1587c690871caa500e",
              "version_major": 2,
              "version_minor": 0
            },
            "text/plain": [
              "config.json:   0%|          | 0.00/1.40k [00:00<?, ?B/s]"
            ]
          },
          "metadata": {},
          "output_type": "display_data"
        },
        {
          "name": "stderr",
          "output_type": "stream",
          "text": [
            "Xet Storage is enabled for this repo, but the 'hf_xet' package is not installed. Falling back to regular HTTP download. For better performance, install the package with: `pip install huggingface_hub[hf_xet]` or `pip install hf_xet`\n"
          ]
        },
        {
          "data": {
            "application/vnd.jupyter.widget-view+json": {
              "model_id": "1c9d4fe1f7564c399ba9a1890dd90744",
              "version_major": 2,
              "version_minor": 0
            },
            "text/plain": [
              "model.safetensors:   0%|          | 0.00/990M [00:00<?, ?B/s]"
            ]
          },
          "metadata": {},
          "output_type": "display_data"
        },
        {
          "data": {
            "application/vnd.jupyter.widget-view+json": {
              "model_id": "dab219d3bb7e4d49a51ead65646a791e",
              "version_major": 2,
              "version_minor": 0
            },
            "text/plain": [
              "generation_config.json:   0%|          | 0.00/147 [00:00<?, ?B/s]"
            ]
          },
          "metadata": {},
          "output_type": "display_data"
        },
        {
          "name": "stderr",
          "output_type": "stream",
          "text": [
            "Token indices sequence length is longer than the specified maximum sequence length for this model (2438 > 512). Running this sequence through the model will result in indexing errors\n",
            "The attention mask is not set and cannot be inferred from input because pad token is same as eos token. As a consequence, you may observe unexpected behavior. Please pass your input's `attention_mask` to obtain reliable results.\n"
          ]
        },
        {
          "name": "stdout",
          "output_type": "stream",
          "text": [
            "Model: FLAN-T5-Base\n",
            "Question: Where did Arsenal play matches because of increased seating capacity?\n",
            "Context: This capacity had to be reduced further during Champions League matches to accommodate additional advertising boards, so much so that for two seasons, from 1998 to 2000, Arsenal played Champions League home matches at Wembley, which could house more than 70,000 spectators.\n",
            "Answer: Wembley \n"
          ]
        },
        {
          "data": {
            "application/vnd.jupyter.widget-view+json": {
              "model_id": "dbf4de71da33433b90d417338e0fe29e",
              "version_major": 2,
              "version_minor": 0
            },
            "text/plain": [
              "Batches:   0%|          | 0/1 [00:00<?, ?it/s]"
            ]
          },
          "metadata": {},
          "output_type": "display_data"
        },
        {
          "name": "stdout",
          "output_type": "stream",
          "text": [
            "Model: FLAN-T5-Base\n",
            "Question: What is different about a \"Public Safety Officer\" that distiguishes the position from a policeman?\n",
            "Context: Larger towns usually have their own local police and some villages rely on \"Public Safety Officers\" who have police training but do not carry firearms.\n",
            "Answer: do not carry firearms \n"
          ]
        },
        {
          "data": {
            "application/vnd.jupyter.widget-view+json": {
              "model_id": "40a18f9e59ee44239ed9ec7ca757de79",
              "version_major": 2,
              "version_minor": 0
            },
            "text/plain": [
              "Batches:   0%|          | 0/1 [00:00<?, ?it/s]"
            ]
          },
          "metadata": {},
          "output_type": "display_data"
        },
        {
          "name": "stdout",
          "output_type": "stream",
          "text": [
            "Model: FLAN-T5-Base\n",
            "Question: What lectures did Whitehead present in 1927-28?\n",
            "Context: One famous story illustrating the level of difficulty of Whitehead's philosophy centers around the delivery of Whitehead's Gifford lectures in 1927–28 – following Arthur Eddington's lectures of the year previous – which Whitehead would later publish as Process and Reality:\n",
            "Answer: Gifford lectures \n"
          ]
        },
        {
          "data": {
            "application/vnd.jupyter.widget-view+json": {
              "model_id": "22fd229c179d4cd8ace15f578a06a14d",
              "version_major": 2,
              "version_minor": 0
            },
            "text/plain": [
              "Batches:   0%|          | 0/1 [00:00<?, ?it/s]"
            ]
          },
          "metadata": {},
          "output_type": "display_data"
        },
        {
          "name": "stdout",
          "output_type": "stream",
          "text": [
            "Model: FLAN-T5-Base\n",
            "Question: When do alleles assort independently?\n",
            "Context: Mendel's work demonstrated that alleles assort independently in the production of gametes, or germ cells, ensuring variation in the next generation.\n",
            "Answer: production of gametes, or germ cells, ensuring variation in the next generation.\" \n"
          ]
        },
        {
          "data": {
            "application/vnd.jupyter.widget-view+json": {
              "model_id": "ca351bf2e22f473aa6d2c4b61f73af3d",
              "version_major": 2,
              "version_minor": 0
            },
            "text/plain": [
              "Batches:   0%|          | 0/1 [00:00<?, ?it/s]"
            ]
          },
          "metadata": {},
          "output_type": "display_data"
        },
        {
          "name": "stdout",
          "output_type": "stream",
          "text": [
            "Model: FLAN-T5-Base\n",
            "Question: What is the sales tax on foodstuffs in Tennessee?\n",
            "Context: Food is taxed at a lower rate of 5.25%, but candy, dietary supplements and prepared food are taxed at the full 7% rate.\n",
            "Answer: 7% \n"
          ]
        },
        {
          "data": {
            "application/vnd.jupyter.widget-view+json": {
              "model_id": "26791a55cccf4f659f686fb7b8b599c9",
              "version_major": 2,
              "version_minor": 0
            },
            "text/plain": [
              "Batches:   0%|          | 0/1 [00:00<?, ?it/s]"
            ]
          },
          "metadata": {},
          "output_type": "display_data"
        },
        {
          "name": "stdout",
          "output_type": "stream",
          "text": [
            "Model: FLAN-T5-Base\n",
            "Question: In what year did General Clinton return to Charles Towne?\n",
            "Context: Clinton returned in 1780 with 14,000 soldiers.\n",
            "Answer: 1780 \n"
          ]
        },
        {
          "data": {
            "application/vnd.jupyter.widget-view+json": {
              "model_id": "aaf6fce48c72446fb0c8472c3b212135",
              "version_major": 2,
              "version_minor": 0
            },
            "text/plain": [
              "Batches:   0%|          | 0/1 [00:00<?, ?it/s]"
            ]
          },
          "metadata": {},
          "output_type": "display_data"
        },
        {
          "name": "stdout",
          "output_type": "stream",
          "text": [
            "Model: FLAN-T5-Base\n",
            "Question: When did the Grand Orient d'italia expel Licio Gelli and revoked the charter of P2?\n",
            "Context: However, by this time the lodge was operating independently and irregularly, as the Grand Orient had revoked its charter and expelled Gelli in 1976.\n",
            "Answer: 1976 \n"
          ]
        },
        {
          "data": {
            "application/vnd.jupyter.widget-view+json": {
              "model_id": "d9e485d06feb4b1cb26a77f18c3af11f",
              "version_major": 2,
              "version_minor": 0
            },
            "text/plain": [
              "Batches:   0%|          | 0/1 [00:00<?, ?it/s]"
            ]
          },
          "metadata": {},
          "output_type": "display_data"
        },
        {
          "name": "stdout",
          "output_type": "stream",
          "text": [
            "Model: FLAN-T5-Base\n",
            "Question: What part of Detroit is Green Alleys located in?\n",
            "Context: The city of Detroit and other private-public partnerships have attempted to catalyze the region's growth by facilitating the building and historical rehabilitation of residential high-rises in the downtown, creating a zone that offers many business tax incentives, creating recreational spaces such as the Detroit RiverWalk, Campus Martius Park, Dequindre Cut Greenway, and Green Alleys in Midtown.\n",
            "Answer: Midtown \n"
          ]
        },
        {
          "data": {
            "application/vnd.jupyter.widget-view+json": {
              "model_id": "baeb8e61c52b4ffa8116abb2e230d660",
              "version_major": 2,
              "version_minor": 0
            },
            "text/plain": [
              "Batches:   0%|          | 0/1 [00:00<?, ?it/s]"
            ]
          },
          "metadata": {},
          "output_type": "display_data"
        },
        {
          "name": "stdout",
          "output_type": "stream",
          "text": [
            "Model: FLAN-T5-Base\n",
            "Question: Which newspaper did the The Sun on Sunday take the place of?\n",
            "Context: On 26 February 2012, The Sun on Sunday was launched to replace the closed News of the World, employing some of its former journalists.\n",
            "Answer: News of the World \n"
          ]
        },
        {
          "data": {
            "application/vnd.jupyter.widget-view+json": {
              "model_id": "363bbc281d8842d58c4c88176810064a",
              "version_major": 2,
              "version_minor": 0
            },
            "text/plain": [
              "Batches:   0%|          | 0/1 [00:00<?, ?it/s]"
            ]
          },
          "metadata": {},
          "output_type": "display_data"
        },
        {
          "name": "stdout",
          "output_type": "stream",
          "text": [
            "Model: FLAN-T5-Base\n",
            "Question: Who wrote the earliest known use of 'Armenians'?\n",
            "Context: In Greek, Αρμένιοι \"Armenians\" is attested from about the same time, perhaps the earliest reference being a fragment attributed to Hecataeus of Miletus (476 BC).\n",
            "Answer: Hecataeus of Miletus \n"
          ]
        },
        {
          "data": {
            "application/vnd.jupyter.widget-view+json": {
              "model_id": "b906aac1fc284aa0b387668a009dc74c",
              "version_major": 2,
              "version_minor": 0
            },
            "text/plain": [
              "Batches:   0%|          | 0/1 [00:00<?, ?it/s]"
            ]
          },
          "metadata": {},
          "output_type": "display_data"
        },
        {
          "name": "stdout",
          "output_type": "stream",
          "text": [
            "Model: FLAN-T5-Base\n",
            "Question: Who directed the purges of Soviets?\n",
            "Context: Two rounds of Soviet purges directed by Moscow (1927–1934 and 1937–1938) resulted in the expulsion of nearly 10,000 people, from all levels of the Communist Party of Tajikistan.\n",
            "Answer: Moscow \n"
          ]
        },
        {
          "data": {
            "application/vnd.jupyter.widget-view+json": {
              "model_id": "bbedba049e444be19e3d1035d6c2a210",
              "version_major": 2,
              "version_minor": 0
            },
            "text/plain": [
              "Batches:   0%|          | 0/1 [00:00<?, ?it/s]"
            ]
          },
          "metadata": {},
          "output_type": "display_data"
        },
        {
          "name": "stdout",
          "output_type": "stream",
          "text": [
            "Model: FLAN-T5-Base\n",
            "Question: Who did the rebels launch an assault on in July, 2003?\n",
            "Context: By July 2003, the rebels had launched an assault on Monrovia.\n",
            "Answer: Monrovia \n"
          ]
        },
        {
          "data": {
            "application/vnd.jupyter.widget-view+json": {
              "model_id": "b1a006ef650f4ee7b2807fc12dbc005b",
              "version_major": 2,
              "version_minor": 0
            },
            "text/plain": [
              "Batches:   0%|          | 0/1 [00:00<?, ?it/s]"
            ]
          },
          "metadata": {},
          "output_type": "display_data"
        },
        {
          "name": "stdout",
          "output_type": "stream",
          "text": [
            "Model: FLAN-T5-Base\n",
            "Question: How long after the National Academy of Science's study did a study on over the counter drugs occur?\n",
            "Context: A similarly comprehensive study of over-the-counter products began ten years later.\n",
            "Answer: ten years later \n"
          ]
        },
        {
          "data": {
            "application/vnd.jupyter.widget-view+json": {
              "model_id": "3c9dd8932f904c25954a702f2fd8a496",
              "version_major": 2,
              "version_minor": 0
            },
            "text/plain": [
              "Batches:   0%|          | 0/1 [00:00<?, ?it/s]"
            ]
          },
          "metadata": {},
          "output_type": "display_data"
        },
        {
          "name": "stdout",
          "output_type": "stream",
          "text": [
            "Model: FLAN-T5-Base\n",
            "Question: Chopin's father married who?\n",
            "Context: Nicolas tutored children of the Polish aristocracy, and in 1806 married Justyna Krzyżanowska, a poor relative of the Skarbeks, one of the families for whom he worked.\n",
            "Answer: Justyna Krzyu017canowska \n"
          ]
        },
        {
          "data": {
            "application/vnd.jupyter.widget-view+json": {
              "model_id": "81ef6c37fb93443ea3964d5510f4ee28",
              "version_major": 2,
              "version_minor": 0
            },
            "text/plain": [
              "Batches:   0%|          | 0/1 [00:00<?, ?it/s]"
            ]
          },
          "metadata": {},
          "output_type": "display_data"
        },
        {
          "name": "stdout",
          "output_type": "stream",
          "text": [
            "Model: FLAN-T5-Base\n",
            "Question: What type of motor has two independent multiphase winding sets?\n",
            "Context: Doubly fed electric motors have two independent multiphase winding sets, which contribute active (i.e., working) power to the energy conversion process, with at least one of the winding sets electronically controlled for variable speed operation.\n",
            "Answer: Doubly fed electric motors \n"
          ]
        },
        {
          "data": {
            "application/vnd.jupyter.widget-view+json": {
              "model_id": "caf4ff86883a450e89d68fa1c187ea09",
              "version_major": 2,
              "version_minor": 0
            },
            "text/plain": [
              "Batches:   0%|          | 0/1 [00:00<?, ?it/s]"
            ]
          },
          "metadata": {},
          "output_type": "display_data"
        },
        {
          "name": "stdout",
          "output_type": "stream",
          "text": [
            "Model: FLAN-T5-Base\n",
            "Question: What was youtube's revenue as estimated in 2008?\n",
            "Context: In June 2008, a Forbes magazine article projected the 2008 revenue at $200 million, noting progress in advertising sales.\n",
            "Answer: $200 million \n"
          ]
        },
        {
          "data": {
            "application/vnd.jupyter.widget-view+json": {
              "model_id": "60c926527cee481489f338944c68343e",
              "version_major": 2,
              "version_minor": 0
            },
            "text/plain": [
              "Batches:   0%|          | 0/1 [00:00<?, ?it/s]"
            ]
          },
          "metadata": {},
          "output_type": "display_data"
        },
        {
          "name": "stdout",
          "output_type": "stream",
          "text": [
            "Model: FLAN-T5-Base\n",
            "Question: When did the Germanic words for God take on a masculine form?\n",
            "Context: The Germanic words for God were originally neuter—applying to both genders—but during the process of the Christianization of the Germanic peoples from their indigenous Germanic paganism, the words became a masculine syntactic form.\n",
            "Answer: during the process of the Christianization of the Germanic peoples from their indigenous Germanic paganism \n"
          ]
        },
        {
          "data": {
            "application/vnd.jupyter.widget-view+json": {
              "model_id": "6775226da8ad428d9b6acf2b44c62255",
              "version_major": 2,
              "version_minor": 0
            },
            "text/plain": [
              "Batches:   0%|          | 0/1 [00:00<?, ?it/s]"
            ]
          },
          "metadata": {},
          "output_type": "display_data"
        },
        {
          "name": "stdout",
          "output_type": "stream",
          "text": [
            "Model: FLAN-T5-Base\n",
            "Question: Zen focuses on what type of breakthroughs?\n",
            "Context: [note 12] Zen places less emphasis on scriptures than some other forms of Buddhism and prefers to focus on direct spiritual breakthroughs to truth.\n",
            "Answer: direct spiritual breakthroughs to truth \n"
          ]
        },
        {
          "data": {
            "application/vnd.jupyter.widget-view+json": {
              "model_id": "37dbf3d430b74cef80a370f344d475c8",
              "version_major": 2,
              "version_minor": 0
            },
            "text/plain": [
              "Batches:   0%|          | 0/1 [00:00<?, ?it/s]"
            ]
          },
          "metadata": {},
          "output_type": "display_data"
        },
        {
          "name": "stdout",
          "output_type": "stream",
          "text": [
            "Model: FLAN-T5-Base\n",
            "Question: Which clouds on Neptune are suitable for methane to condense?  \n",
            "Context: The upper-level clouds lie at pressures below one bar, where the temperature is suitable for methane to condense.\n",
            "Answer: upper-level clouds \n"
          ]
        },
        {
          "data": {
            "application/vnd.jupyter.widget-view+json": {
              "model_id": "ad2e30e34f8b41458a60746886299ab8",
              "version_major": 2,
              "version_minor": 0
            },
            "text/plain": [
              "Batches:   0%|          | 0/1 [00:00<?, ?it/s]"
            ]
          },
          "metadata": {},
          "output_type": "display_data"
        },
        {
          "name": "stdout",
          "output_type": "stream",
          "text": [
            "Model: FLAN-T5-Base\n",
            "Question: Literature intended for performance is what?\n",
            "Context: Drama is literature intended for performance.\n",
            "Answer: Drama \n"
          ]
        },
        {
          "data": {
            "application/vnd.jupyter.widget-view+json": {
              "model_id": "1ac4c6b2cf524999be61fe36c21df83f",
              "version_major": 2,
              "version_minor": 0
            },
            "text/plain": [
              "Batches:   0%|          | 0/1 [00:00<?, ?it/s]"
            ]
          },
          "metadata": {},
          "output_type": "display_data"
        },
        {
          "name": "stdout",
          "output_type": "stream",
          "text": [
            "\n",
            "Evaluating DistilGPT-2...\n"
          ]
        },
        {
          "data": {
            "application/vnd.jupyter.widget-view+json": {
              "model_id": "5601b4877aa441798dec8eae204fdbf9",
              "version_major": 2,
              "version_minor": 0
            },
            "text/plain": [
              "tokenizer_config.json:   0%|          | 0.00/26.0 [00:00<?, ?B/s]"
            ]
          },
          "metadata": {},
          "output_type": "display_data"
        },
        {
          "data": {
            "application/vnd.jupyter.widget-view+json": {
              "model_id": "c915c815474f41f283ce319848d32c0a",
              "version_major": 2,
              "version_minor": 0
            },
            "text/plain": [
              "config.json:   0%|          | 0.00/762 [00:00<?, ?B/s]"
            ]
          },
          "metadata": {},
          "output_type": "display_data"
        },
        {
          "data": {
            "application/vnd.jupyter.widget-view+json": {
              "model_id": "9090163a9771404883ca9600c13baa8d",
              "version_major": 2,
              "version_minor": 0
            },
            "text/plain": [
              "vocab.json:   0%|          | 0.00/1.04M [00:00<?, ?B/s]"
            ]
          },
          "metadata": {},
          "output_type": "display_data"
        },
        {
          "data": {
            "application/vnd.jupyter.widget-view+json": {
              "model_id": "67023a455e754302910c3150e66fed5c",
              "version_major": 2,
              "version_minor": 0
            },
            "text/plain": [
              "merges.txt:   0%|          | 0.00/456k [00:00<?, ?B/s]"
            ]
          },
          "metadata": {},
          "output_type": "display_data"
        },
        {
          "data": {
            "application/vnd.jupyter.widget-view+json": {
              "model_id": "52336463decc41528c7761445dc1c3e1",
              "version_major": 2,
              "version_minor": 0
            },
            "text/plain": [
              "tokenizer.json:   0%|          | 0.00/1.36M [00:00<?, ?B/s]"
            ]
          },
          "metadata": {},
          "output_type": "display_data"
        },
        {
          "name": "stderr",
          "output_type": "stream",
          "text": [
            "Xet Storage is enabled for this repo, but the 'hf_xet' package is not installed. Falling back to regular HTTP download. For better performance, install the package with: `pip install huggingface_hub[hf_xet]` or `pip install hf_xet`\n"
          ]
        },
        {
          "data": {
            "application/vnd.jupyter.widget-view+json": {
              "model_id": "b26a16b21c9c47bc919684ad4ec5fc53",
              "version_major": 2,
              "version_minor": 0
            },
            "text/plain": [
              "model.safetensors:   0%|          | 0.00/353M [00:00<?, ?B/s]"
            ]
          },
          "metadata": {},
          "output_type": "display_data"
        },
        {
          "data": {
            "application/vnd.jupyter.widget-view+json": {
              "model_id": "2af1313d3827462594dff54addd32cef",
              "version_major": 2,
              "version_minor": 0
            },
            "text/plain": [
              "generation_config.json:   0%|          | 0.00/124 [00:00<?, ?B/s]"
            ]
          },
          "metadata": {},
          "output_type": "display_data"
        },
        {
          "name": "stdout",
          "output_type": "stream",
          "text": [
            "Model: DistilGPT-2\n",
            "Question: Who had forced a large number of Empress Dowager Deng's clan members to kill themselves?\n",
            "Context: When Empress Dowager Deng died, Emperor An (r. 106–125 AD) was convinced by the accusations of the eunuchs Li Run (李閏) and Jiang Jing (江京) that Deng and her family had planned to depose him.\n",
            "Answer:  Answer similar to the following examples\n",
            "        Question: Who wrote The Racial Contract? Context: This led to a challenge to the social contract by philosophers Charles W. Mills in his book The Racial Contract.\n",
            "        Answer: Charles W. Mills wrote The Racial Contract.\n",
            "        \n",
            "        Question: Where was the centre of Argentoratum situated? Context: The centre was on the Grande Île (current Rue du Dôme, Rue des Hallebardes).\n",
            "        Answer: The Grande Île (current Rue du Dôme and Rue des Hallebardes) was the center of Argentoratum.\n",
            "        \n",
            "        Question: Ice from what source helped to create Earth's oceans? Context: Condensing vapor augmented by comet ice.\n",
            "        Answer: Comets contributed ice to create Earth's oceans.\n",
            "        \n",
            "        Question: What occurs with osmotic diarrhea? Context: Too much water drawn into bowels.\n",
            "        Answer: Excess water drawn into the bowels occurs.\n",
            "        \n",
            "        Question: Premier League's name outside UK? Context: Commonly called English Premier League (EPL).\n",
            "        Answer: The English Premier League (EPL) is its common name.\n",
            "        \n",
            "        Question: Industrial music's name origin? Context: Throbbing Gristle's Industrial Records label.\n",
            "        Answer: Industrial Records (Throbbing Gristle's label) gave the name.\n",
            "        \n",
            "        Question: Who recorded \"You Really Got Me\"? Context: The Kinks' 1964 version.\n",
            "        Answer: The Kinks recorded \"You Really Got Me\".\n",
            "\n",
            "        Question: Who had forced a large number of Empress Dowager Deng's clan members to kill themselves? Context: When Empress Dowager Deng died, Emperor An (r. 106–125 AD) was convinced by the accusations of the eunuchs Li Run (李閏) and Jiang Jing (江京) that Deng and her family had planned to depose him.\n",
            "        Answer:\n",
            "                                                           \n"
          ]
        },
        {
          "data": {
            "application/vnd.jupyter.widget-view+json": {
              "model_id": "73f34e6ae9a64aac9b8e68e486a471ee",
              "version_major": 2,
              "version_minor": 0
            },
            "text/plain": [
              "Batches:   0%|          | 0/1 [00:00<?, ?it/s]"
            ]
          },
          "metadata": {},
          "output_type": "display_data"
        },
        {
          "name": "stdout",
          "output_type": "stream",
          "text": [
            "Model: DistilGPT-2\n",
            "Question: What is London's average high temperature in July?\n",
            "Context: London's average July high is 24 °C (75.2 °F).\n",
            "Answer:  Answer similar to the following examples\n",
            "        Question: Who wrote The Racial Contract? Context: This led to a challenge to the social contract by philosophers Charles W. Mills in his book The Racial Contract.\n",
            "        Answer: Charles W. Mills wrote The Racial Contract.\n",
            "        \n",
            "        Question: Where was the centre of Argentoratum situated? Context: The centre was on the Grande Île (current Rue du Dôme, Rue des Hallebardes).\n",
            "        Answer: The Grande Île (current Rue du Dôme and Rue des Hallebardes) was the center of Argentoratum.\n",
            "        \n",
            "        Question: Ice from what source helped to create Earth's oceans? Context: Condensing vapor augmented by comet ice.\n",
            "        Answer: Comets contributed ice to create Earth's oceans.\n",
            "        \n",
            "        Question: What occurs with osmotic diarrhea? Context: Too much water drawn into bowels.\n",
            "        Answer: Excess water drawn into the bowels occurs.\n",
            "        \n",
            "        Question: Premier League's name outside UK? Context: Commonly called English Premier League (EPL).\n",
            "        Answer: The English Premier League (EPL) is its common name.\n",
            "        \n",
            "        Question: Industrial music's name origin? Context: Throbbing Gristle's Industrial Records label.\n",
            "        Answer: Industrial Records (Throbbing Gristle's label) gave the name.\n",
            "        \n",
            "        Question: Who recorded \"You Really Got Me\"? Context: The Kinks' 1964 version.\n",
            "        Answer: The Kinks recorded \"You Really Got Me\".\n",
            "\n",
            "        Question: What is London's average high temperature in July? Context: London's average July high is 24 °C (75.2 °F).\n",
            "        Answer:\n",
            "                                                           \n"
          ]
        },
        {
          "data": {
            "application/vnd.jupyter.widget-view+json": {
              "model_id": "aed004ca36e84719963f3d3732973feb",
              "version_major": 2,
              "version_minor": 0
            },
            "text/plain": [
              "Batches:   0%|          | 0/1 [00:00<?, ?it/s]"
            ]
          },
          "metadata": {},
          "output_type": "display_data"
        },
        {
          "name": "stdout",
          "output_type": "stream",
          "text": [
            "Model: DistilGPT-2\n",
            "Question: In which music video did Beyoncé star as Jay Z's girlfriend, creating speculation about their relationship?\n",
            "Context: Beyoncé is believed to have first started a relationship with Jay Z after a collaboration on \"'03 Bonnie & Clyde\", which appeared on his seventh album The Blueprint 2: The Gift & The Curse (2002).\n",
            "Answer:  Answer similar to the following examples\n",
            "        Question: Who wrote The Racial Contract? Context: This led to a challenge to the social contract by philosophers Charles W. Mills in his book The Racial Contract.\n",
            "        Answer: Charles W. Mills wrote The Racial Contract.\n",
            "        \n",
            "        Question: Where was the centre of Argentoratum situated? Context: The centre was on the Grande Île (current Rue du Dôme, Rue des Hallebardes).\n",
            "        Answer: The Grande Île (current Rue du Dôme and Rue des Hallebardes) was the center of Argentoratum.\n",
            "        \n",
            "        Question: Ice from what source helped to create Earth's oceans? Context: Condensing vapor augmented by comet ice.\n",
            "        Answer: Comets contributed ice to create Earth's oceans.\n",
            "        \n",
            "        Question: What occurs with osmotic diarrhea? Context: Too much water drawn into bowels.\n",
            "        Answer: Excess water drawn into the bowels occurs.\n",
            "        \n",
            "        Question: Premier League's name outside UK? Context: Commonly called English Premier League (EPL).\n",
            "        Answer: The English Premier League (EPL) is its common name.\n",
            "        \n",
            "        Question: Industrial music's name origin? Context: Throbbing Gristle's Industrial Records label.\n",
            "        Answer: Industrial Records (Throbbing Gristle's label) gave the name.\n",
            "        \n",
            "        Question: Who recorded \"You Really Got Me\"? Context: The Kinks' 1964 version.\n",
            "        Answer: The Kinks recorded \"You Really Got Me\".\n",
            "\n",
            "        Question: In which music video did Beyoncé star as Jay Z's girlfriend, creating speculation about their relationship? Context: Beyoncé is believed to have first started a relationship with Jay Z after a collaboration on \"'03 Bonnie & Clyde\", which appeared on his seventh album The Blueprint 2: The Gift & The Curse (2002).\n",
            "        Answer:\n",
            "                                                           \n"
          ]
        },
        {
          "data": {
            "application/vnd.jupyter.widget-view+json": {
              "model_id": "fc76855ceda24ebab80926dce908a6b5",
              "version_major": 2,
              "version_minor": 0
            },
            "text/plain": [
              "Batches:   0%|          | 0/1 [00:00<?, ?it/s]"
            ]
          },
          "metadata": {},
          "output_type": "display_data"
        },
        {
          "name": "stdout",
          "output_type": "stream",
          "text": [
            "Model: DistilGPT-2\n",
            "Question: What other medicine worked along antibiotics to eradicate diseases like tuberculosis?\n",
            "Context: Antibiotics revolutionized medicine in the 20th century, and have together with vaccination led to the near eradication of diseases such as tuberculosis in the developed world.\n",
            "Answer:  Answer similar to the following examples\n",
            "        Question: Who wrote The Racial Contract? Context: This led to a challenge to the social contract by philosophers Charles W. Mills in his book The Racial Contract.\n",
            "        Answer: Charles W. Mills wrote The Racial Contract.\n",
            "        \n",
            "        Question: Where was the centre of Argentoratum situated? Context: The centre was on the Grande Île (current Rue du Dôme, Rue des Hallebardes).\n",
            "        Answer: The Grande Île (current Rue du Dôme and Rue des Hallebardes) was the center of Argentoratum.\n",
            "        \n",
            "        Question: Ice from what source helped to create Earth's oceans? Context: Condensing vapor augmented by comet ice.\n",
            "        Answer: Comets contributed ice to create Earth's oceans.\n",
            "        \n",
            "        Question: What occurs with osmotic diarrhea? Context: Too much water drawn into bowels.\n",
            "        Answer: Excess water drawn into the bowels occurs.\n",
            "        \n",
            "        Question: Premier League's name outside UK? Context: Commonly called English Premier League (EPL).\n",
            "        Answer: The English Premier League (EPL) is its common name.\n",
            "        \n",
            "        Question: Industrial music's name origin? Context: Throbbing Gristle's Industrial Records label.\n",
            "        Answer: Industrial Records (Throbbing Gristle's label) gave the name.\n",
            "        \n",
            "        Question: Who recorded \"You Really Got Me\"? Context: The Kinks' 1964 version.\n",
            "        Answer: The Kinks recorded \"You Really Got Me\".\n",
            "\n",
            "        Question: What other medicine worked along antibiotics to eradicate diseases like tuberculosis? Context: Antibiotics revolutionized medicine in the 20th century, and have together with vaccination led to the near eradication of diseases such as tuberculosis in the developed world.\n",
            "        Answer:\n",
            "                                                           \n"
          ]
        },
        {
          "data": {
            "application/vnd.jupyter.widget-view+json": {
              "model_id": "bb53ddaf394948888d24f7171615c31b",
              "version_major": 2,
              "version_minor": 0
            },
            "text/plain": [
              "Batches:   0%|          | 0/1 [00:00<?, ?it/s]"
            ]
          },
          "metadata": {},
          "output_type": "display_data"
        },
        {
          "name": "stdout",
          "output_type": "stream",
          "text": [
            "Model: DistilGPT-2\n",
            "Question: What word supplement  can be put on an already existing word base?\n",
            "Context: Many times, several affixes are appended to a preexisting lexeme, and some sound alternations can occur, for example elèctric [əˈlɛktrik] (\"electrical\") vs. electricitat [ələktrisiˈtat].\n",
            "Answer:  Answer similar to the following examples\n",
            "        Question: Who wrote The Racial Contract? Context: This led to a challenge to the social contract by philosophers Charles W. Mills in his book The Racial Contract.\n",
            "        Answer: Charles W. Mills wrote The Racial Contract.\n",
            "        \n",
            "        Question: Where was the centre of Argentoratum situated? Context: The centre was on the Grande Île (current Rue du Dôme, Rue des Hallebardes).\n",
            "        Answer: The Grande Île (current Rue du Dôme and Rue des Hallebardes) was the center of Argentoratum.\n",
            "        \n",
            "        Question: Ice from what source helped to create Earth's oceans? Context: Condensing vapor augmented by comet ice.\n",
            "        Answer: Comets contributed ice to create Earth's oceans.\n",
            "        \n",
            "        Question: What occurs with osmotic diarrhea? Context: Too much water drawn into bowels.\n",
            "        Answer: Excess water drawn into the bowels occurs.\n",
            "        \n",
            "        Question: Premier League's name outside UK? Context: Commonly called English Premier League (EPL).\n",
            "        Answer: The English Premier League (EPL) is its common name.\n",
            "        \n",
            "        Question: Industrial music's name origin? Context: Throbbing Gristle's Industrial Records label.\n",
            "        Answer: Industrial Records (Throbbing Gristle's label) gave the name.\n",
            "        \n",
            "        Question: Who recorded \"You Really Got Me\"? Context: The Kinks' 1964 version.\n",
            "        Answer: The Kinks recorded \"You Really Got Me\".\n",
            "\n",
            "        Question: What word supplement  can be put on an already existing word base? Context: Many times, several affixes are appended to a preexisting lexeme, and some sound alternations can occur, for example elèctric [əˈlɛktrik] (\"electrical\") vs. electricitat [ələktrisiˈtat].\n",
            "        Answer:\n",
            "                                                           \n"
          ]
        },
        {
          "data": {
            "application/vnd.jupyter.widget-view+json": {
              "model_id": "767a117bfff444909ef675e0e010c41e",
              "version_major": 2,
              "version_minor": 0
            },
            "text/plain": [
              "Batches:   0%|          | 0/1 [00:00<?, ?it/s]"
            ]
          },
          "metadata": {},
          "output_type": "display_data"
        },
        {
          "name": "stdout",
          "output_type": "stream",
          "text": [
            "Model: DistilGPT-2\n",
            "Question: In what year did Melbourne resign?\n",
            "Context: In 1839, Melbourne resigned after Radicals and Tories (both of whom Victoria detested) voted against a bill to suspend the constitution of Jamaica.\n",
            "Answer:  Answer similar to the following examples\n",
            "        Question: Who wrote The Racial Contract? Context: This led to a challenge to the social contract by philosophers Charles W. Mills in his book The Racial Contract.\n",
            "        Answer: Charles W. Mills wrote The Racial Contract.\n",
            "        \n",
            "        Question: Where was the centre of Argentoratum situated? Context: The centre was on the Grande Île (current Rue du Dôme, Rue des Hallebardes).\n",
            "        Answer: The Grande Île (current Rue du Dôme and Rue des Hallebardes) was the center of Argentoratum.\n",
            "        \n",
            "        Question: Ice from what source helped to create Earth's oceans? Context: Condensing vapor augmented by comet ice.\n",
            "        Answer: Comets contributed ice to create Earth's oceans.\n",
            "        \n",
            "        Question: What occurs with osmotic diarrhea? Context: Too much water drawn into bowels.\n",
            "        Answer: Excess water drawn into the bowels occurs.\n",
            "        \n",
            "        Question: Premier League's name outside UK? Context: Commonly called English Premier League (EPL).\n",
            "        Answer: The English Premier League (EPL) is its common name.\n",
            "        \n",
            "        Question: Industrial music's name origin? Context: Throbbing Gristle's Industrial Records label.\n",
            "        Answer: Industrial Records (Throbbing Gristle's label) gave the name.\n",
            "        \n",
            "        Question: Who recorded \"You Really Got Me\"? Context: The Kinks' 1964 version.\n",
            "        Answer: The Kinks recorded \"You Really Got Me\".\n",
            "\n",
            "        Question: In what year did Melbourne resign? Context: In 1839, Melbourne resigned after Radicals and Tories (both of whom Victoria detested) voted against a bill to suspend the constitution of Jamaica.\n",
            "        Answer:\n",
            "                                                           \n"
          ]
        },
        {
          "data": {
            "application/vnd.jupyter.widget-view+json": {
              "model_id": "6406980574744674a619b5ace6ea7d4f",
              "version_major": 2,
              "version_minor": 0
            },
            "text/plain": [
              "Batches:   0%|          | 0/1 [00:00<?, ?it/s]"
            ]
          },
          "metadata": {},
          "output_type": "display_data"
        },
        {
          "name": "stdout",
          "output_type": "stream",
          "text": [
            "Model: DistilGPT-2\n",
            "Question: Who remained Catholicos of Cilicia?\n",
            "Context: In 1441, a new Catholicos was elected in Etchmiadzin in the person of Kirakos Virapetsi, while Krikor Moussapegiants preserved his title as Catholicos of Cilicia.\n",
            "Answer:  Answer similar to the following examples\n",
            "        Question: Who wrote The Racial Contract? Context: This led to a challenge to the social contract by philosophers Charles W. Mills in his book The Racial Contract.\n",
            "        Answer: Charles W. Mills wrote The Racial Contract.\n",
            "        \n",
            "        Question: Where was the centre of Argentoratum situated? Context: The centre was on the Grande Île (current Rue du Dôme, Rue des Hallebardes).\n",
            "        Answer: The Grande Île (current Rue du Dôme and Rue des Hallebardes) was the center of Argentoratum.\n",
            "        \n",
            "        Question: Ice from what source helped to create Earth's oceans? Context: Condensing vapor augmented by comet ice.\n",
            "        Answer: Comets contributed ice to create Earth's oceans.\n",
            "        \n",
            "        Question: What occurs with osmotic diarrhea? Context: Too much water drawn into bowels.\n",
            "        Answer: Excess water drawn into the bowels occurs.\n",
            "        \n",
            "        Question: Premier League's name outside UK? Context: Commonly called English Premier League (EPL).\n",
            "        Answer: The English Premier League (EPL) is its common name.\n",
            "        \n",
            "        Question: Industrial music's name origin? Context: Throbbing Gristle's Industrial Records label.\n",
            "        Answer: Industrial Records (Throbbing Gristle's label) gave the name.\n",
            "        \n",
            "        Question: Who recorded \"You Really Got Me\"? Context: The Kinks' 1964 version.\n",
            "        Answer: The Kinks recorded \"You Really Got Me\".\n",
            "\n",
            "        Question: Who remained Catholicos of Cilicia? Context: In 1441, a new Catholicos was elected in Etchmiadzin in the person of Kirakos Virapetsi, while Krikor Moussapegiants preserved his title as Catholicos of Cilicia.\n",
            "        Answer:\n",
            "                                                           \n"
          ]
        },
        {
          "data": {
            "application/vnd.jupyter.widget-view+json": {
              "model_id": "21eab4d094a04dccacc38001c19798c3",
              "version_major": 2,
              "version_minor": 0
            },
            "text/plain": [
              "Batches:   0%|          | 0/1 [00:00<?, ?it/s]"
            ]
          },
          "metadata": {},
          "output_type": "display_data"
        },
        {
          "name": "stdout",
          "output_type": "stream",
          "text": [
            "Model: DistilGPT-2\n",
            "Question: Where was the final battle between the French and British in North America?\n",
            "Context: Although they took St. John's and raided nearby settlements, the French forces were eventually defeated by British troops at the Battle of Signal Hill.\n",
            "Answer:  Answer similar to the following examples\n",
            "        Question: Who wrote The Racial Contract? Context: This led to a challenge to the social contract by philosophers Charles W. Mills in his book The Racial Contract.\n",
            "        Answer: Charles W. Mills wrote The Racial Contract.\n",
            "        \n",
            "        Question: Where was the centre of Argentoratum situated? Context: The centre was on the Grande Île (current Rue du Dôme, Rue des Hallebardes).\n",
            "        Answer: The Grande Île (current Rue du Dôme and Rue des Hallebardes) was the center of Argentoratum.\n",
            "        \n",
            "        Question: Ice from what source helped to create Earth's oceans? Context: Condensing vapor augmented by comet ice.\n",
            "        Answer: Comets contributed ice to create Earth's oceans.\n",
            "        \n",
            "        Question: What occurs with osmotic diarrhea? Context: Too much water drawn into bowels.\n",
            "        Answer: Excess water drawn into the bowels occurs.\n",
            "        \n",
            "        Question: Premier League's name outside UK? Context: Commonly called English Premier League (EPL).\n",
            "        Answer: The English Premier League (EPL) is its common name.\n",
            "        \n",
            "        Question: Industrial music's name origin? Context: Throbbing Gristle's Industrial Records label.\n",
            "        Answer: Industrial Records (Throbbing Gristle's label) gave the name.\n",
            "        \n",
            "        Question: Who recorded \"You Really Got Me\"? Context: The Kinks' 1964 version.\n",
            "        Answer: The Kinks recorded \"You Really Got Me\".\n",
            "\n",
            "        Question: Where was the final battle between the French and British in North America? Context: Although they took St. John's and raided nearby settlements, the French forces were eventually defeated by British troops at the Battle of Signal Hill.\n",
            "        Answer:\n",
            "                                                           \n"
          ]
        },
        {
          "data": {
            "application/vnd.jupyter.widget-view+json": {
              "model_id": "aac13d162bc6413e880f6a29c9c05584",
              "version_major": 2,
              "version_minor": 0
            },
            "text/plain": [
              "Batches:   0%|          | 0/1 [00:00<?, ?it/s]"
            ]
          },
          "metadata": {},
          "output_type": "display_data"
        },
        {
          "name": "stdout",
          "output_type": "stream",
          "text": [
            "Model: DistilGPT-2\n",
            "Question: The synagogue located in Bet She'an had what kind of symbols depicted in its mosaic?\n",
            "Context: The floor had only decorative motifs and an aedicule (shrine) with cultic symbols.\n",
            "Answer:  Answer similar to the following examples\n",
            "        Question: Who wrote The Racial Contract? Context: This led to a challenge to the social contract by philosophers Charles W. Mills in his book The Racial Contract.\n",
            "        Answer: Charles W. Mills wrote The Racial Contract.\n",
            "        \n",
            "        Question: Where was the centre of Argentoratum situated? Context: The centre was on the Grande Île (current Rue du Dôme, Rue des Hallebardes).\n",
            "        Answer: The Grande Île (current Rue du Dôme and Rue des Hallebardes) was the center of Argentoratum.\n",
            "        \n",
            "        Question: Ice from what source helped to create Earth's oceans? Context: Condensing vapor augmented by comet ice.\n",
            "        Answer: Comets contributed ice to create Earth's oceans.\n",
            "        \n",
            "        Question: What occurs with osmotic diarrhea? Context: Too much water drawn into bowels.\n",
            "        Answer: Excess water drawn into the bowels occurs.\n",
            "        \n",
            "        Question: Premier League's name outside UK? Context: Commonly called English Premier League (EPL).\n",
            "        Answer: The English Premier League (EPL) is its common name.\n",
            "        \n",
            "        Question: Industrial music's name origin? Context: Throbbing Gristle's Industrial Records label.\n",
            "        Answer: Industrial Records (Throbbing Gristle's label) gave the name.\n",
            "        \n",
            "        Question: Who recorded \"You Really Got Me\"? Context: The Kinks' 1964 version.\n",
            "        Answer: The Kinks recorded \"You Really Got Me\".\n",
            "\n",
            "        Question: The synagogue located in Bet She'an had what kind of symbols depicted in its mosaic? Context: The floor had only decorative motifs and an aedicule (shrine) with cultic symbols.\n",
            "        Answer:\n",
            "                                                           \n"
          ]
        },
        {
          "data": {
            "application/vnd.jupyter.widget-view+json": {
              "model_id": "7af89e6ea0644843b43ed13b81ee6d29",
              "version_major": 2,
              "version_minor": 0
            },
            "text/plain": [
              "Batches:   0%|          | 0/1 [00:00<?, ?it/s]"
            ]
          },
          "metadata": {},
          "output_type": "display_data"
        },
        {
          "name": "stdout",
          "output_type": "stream",
          "text": [
            "Model: DistilGPT-2\n",
            "Question: In what year did the Battle of Varna take place?\n",
            "Context: After the tragic death of the young king Vladislaus I of Hungary during the Battle of Varna in 1444 against the Ottomans, the Kingdom was placed in the hands of count John Hunyadi, who became Hungary's regent-governor (1446–1453).\n",
            "Answer:  Answer similar to the following examples\n",
            "        Question: Who wrote The Racial Contract? Context: This led to a challenge to the social contract by philosophers Charles W. Mills in his book The Racial Contract.\n",
            "        Answer: Charles W. Mills wrote The Racial Contract.\n",
            "        \n",
            "        Question: Where was the centre of Argentoratum situated? Context: The centre was on the Grande Île (current Rue du Dôme, Rue des Hallebardes).\n",
            "        Answer: The Grande Île (current Rue du Dôme and Rue des Hallebardes) was the center of Argentoratum.\n",
            "        \n",
            "        Question: Ice from what source helped to create Earth's oceans? Context: Condensing vapor augmented by comet ice.\n",
            "        Answer: Comets contributed ice to create Earth's oceans.\n",
            "        \n",
            "        Question: What occurs with osmotic diarrhea? Context: Too much water drawn into bowels.\n",
            "        Answer: Excess water drawn into the bowels occurs.\n",
            "        \n",
            "        Question: Premier League's name outside UK? Context: Commonly called English Premier League (EPL).\n",
            "        Answer: The English Premier League (EPL) is its common name.\n",
            "        \n",
            "        Question: Industrial music's name origin? Context: Throbbing Gristle's Industrial Records label.\n",
            "        Answer: Industrial Records (Throbbing Gristle's label) gave the name.\n",
            "        \n",
            "        Question: Who recorded \"You Really Got Me\"? Context: The Kinks' 1964 version.\n",
            "        Answer: The Kinks recorded \"You Really Got Me\".\n",
            "\n",
            "        Question: In what year did the Battle of Varna take place? Context: After the tragic death of the young king Vladislaus I of Hungary during the Battle of Varna in 1444 against the Ottomans, the Kingdom was placed in the hands of count John Hunyadi, who became Hungary's regent-governor (1446–1453).\n",
            "        Answer:\n",
            "                                                           \n"
          ]
        },
        {
          "data": {
            "application/vnd.jupyter.widget-view+json": {
              "model_id": "07215e173d024d42bfe5090ac28e6762",
              "version_major": 2,
              "version_minor": 0
            },
            "text/plain": [
              "Batches:   0%|          | 0/1 [00:00<?, ?it/s]"
            ]
          },
          "metadata": {},
          "output_type": "display_data"
        },
        {
          "name": "stdout",
          "output_type": "stream",
          "text": [
            "Model: DistilGPT-2\n",
            "Question: Christians were said to be the scapegoat of who?\n",
            "Context: In the Annals he relates that \"by vulgar appellation [they were] commonly called Christians\" and identifies Christians as Nero's scapegoats for the Great Fire of Rome.\n",
            "Answer:  Answer similar to the following examples\n",
            "        Question: Who wrote The Racial Contract? Context: This led to a challenge to the social contract by philosophers Charles W. Mills in his book The Racial Contract.\n",
            "        Answer: Charles W. Mills wrote The Racial Contract.\n",
            "        \n",
            "        Question: Where was the centre of Argentoratum situated? Context: The centre was on the Grande Île (current Rue du Dôme, Rue des Hallebardes).\n",
            "        Answer: The Grande Île (current Rue du Dôme and Rue des Hallebardes) was the center of Argentoratum.\n",
            "        \n",
            "        Question: Ice from what source helped to create Earth's oceans? Context: Condensing vapor augmented by comet ice.\n",
            "        Answer: Comets contributed ice to create Earth's oceans.\n",
            "        \n",
            "        Question: What occurs with osmotic diarrhea? Context: Too much water drawn into bowels.\n",
            "        Answer: Excess water drawn into the bowels occurs.\n",
            "        \n",
            "        Question: Premier League's name outside UK? Context: Commonly called English Premier League (EPL).\n",
            "        Answer: The English Premier League (EPL) is its common name.\n",
            "        \n",
            "        Question: Industrial music's name origin? Context: Throbbing Gristle's Industrial Records label.\n",
            "        Answer: Industrial Records (Throbbing Gristle's label) gave the name.\n",
            "        \n",
            "        Question: Who recorded \"You Really Got Me\"? Context: The Kinks' 1964 version.\n",
            "        Answer: The Kinks recorded \"You Really Got Me\".\n",
            "\n",
            "        Question: Christians were said to be the scapegoat of who? Context: In the Annals he relates that \"by vulgar appellation [they were] commonly called Christians\" and identifies Christians as Nero's scapegoats for the Great Fire of Rome.\n",
            "        Answer:\n",
            "                                                           \n"
          ]
        },
        {
          "data": {
            "application/vnd.jupyter.widget-view+json": {
              "model_id": "10e06e116df64c9a9517a0b0ad921306",
              "version_major": 2,
              "version_minor": 0
            },
            "text/plain": [
              "Batches:   0%|          | 0/1 [00:00<?, ?it/s]"
            ]
          },
          "metadata": {},
          "output_type": "display_data"
        },
        {
          "name": "stdout",
          "output_type": "stream",
          "text": [
            "Model: DistilGPT-2\n",
            "Question: How does the cost of attending BYU compare to the cost of attending similar universities?\n",
            "Context: An education at BYU is also less expensive than at similar private universities, since \"a significant portion\" of the cost of operating the university is subsidized by the church's tithing funds.\n",
            "Answer:  Answer similar to the following examples\n",
            "        Question: Who wrote The Racial Contract? Context: This led to a challenge to the social contract by philosophers Charles W. Mills in his book The Racial Contract.\n",
            "        Answer: Charles W. Mills wrote The Racial Contract.\n",
            "        \n",
            "        Question: Where was the centre of Argentoratum situated? Context: The centre was on the Grande Île (current Rue du Dôme, Rue des Hallebardes).\n",
            "        Answer: The Grande Île (current Rue du Dôme and Rue des Hallebardes) was the center of Argentoratum.\n",
            "        \n",
            "        Question: Ice from what source helped to create Earth's oceans? Context: Condensing vapor augmented by comet ice.\n",
            "        Answer: Comets contributed ice to create Earth's oceans.\n",
            "        \n",
            "        Question: What occurs with osmotic diarrhea? Context: Too much water drawn into bowels.\n",
            "        Answer: Excess water drawn into the bowels occurs.\n",
            "        \n",
            "        Question: Premier League's name outside UK? Context: Commonly called English Premier League (EPL).\n",
            "        Answer: The English Premier League (EPL) is its common name.\n",
            "        \n",
            "        Question: Industrial music's name origin? Context: Throbbing Gristle's Industrial Records label.\n",
            "        Answer: Industrial Records (Throbbing Gristle's label) gave the name.\n",
            "        \n",
            "        Question: Who recorded \"You Really Got Me\"? Context: The Kinks' 1964 version.\n",
            "        Answer: The Kinks recorded \"You Really Got Me\".\n",
            "\n",
            "        Question: How does the cost of attending BYU compare to the cost of attending similar universities? Context: An education at BYU is also less expensive than at similar private universities, since \"a significant portion\" of the cost of operating the university is subsidized by the church's tithing funds.\n",
            "        Answer:\n",
            "                                                           \n"
          ]
        },
        {
          "data": {
            "application/vnd.jupyter.widget-view+json": {
              "model_id": "1a2386b970c048aca59bf39608ce6362",
              "version_major": 2,
              "version_minor": 0
            },
            "text/plain": [
              "Batches:   0%|          | 0/1 [00:00<?, ?it/s]"
            ]
          },
          "metadata": {},
          "output_type": "display_data"
        },
        {
          "name": "stdout",
          "output_type": "stream",
          "text": [
            "Model: DistilGPT-2\n",
            "Question: Obesity can cause resistance to which hormone?\n",
            "Context: Obesity can unfavourably alter hormonal and metabolic status via resistance to the hormone leptin, and a vicious cycle may occur in which insulin/leptin resistance and obesity aggravate one another.\n",
            "Answer:  Answer similar to the following examples\n",
            "        Question: Who wrote The Racial Contract? Context: This led to a challenge to the social contract by philosophers Charles W. Mills in his book The Racial Contract.\n",
            "        Answer: Charles W. Mills wrote The Racial Contract.\n",
            "        \n",
            "        Question: Where was the centre of Argentoratum situated? Context: The centre was on the Grande Île (current Rue du Dôme, Rue des Hallebardes).\n",
            "        Answer: The Grande Île (current Rue du Dôme and Rue des Hallebardes) was the center of Argentoratum.\n",
            "        \n",
            "        Question: Ice from what source helped to create Earth's oceans? Context: Condensing vapor augmented by comet ice.\n",
            "        Answer: Comets contributed ice to create Earth's oceans.\n",
            "        \n",
            "        Question: What occurs with osmotic diarrhea? Context: Too much water drawn into bowels.\n",
            "        Answer: Excess water drawn into the bowels occurs.\n",
            "        \n",
            "        Question: Premier League's name outside UK? Context: Commonly called English Premier League (EPL).\n",
            "        Answer: The English Premier League (EPL) is its common name.\n",
            "        \n",
            "        Question: Industrial music's name origin? Context: Throbbing Gristle's Industrial Records label.\n",
            "        Answer: Industrial Records (Throbbing Gristle's label) gave the name.\n",
            "        \n",
            "        Question: Who recorded \"You Really Got Me\"? Context: The Kinks' 1964 version.\n",
            "        Answer: The Kinks recorded \"You Really Got Me\".\n",
            "\n",
            "        Question: Obesity can cause resistance to which hormone? Context: Obesity can unfavourably alter hormonal and metabolic status via resistance to the hormone leptin, and a vicious cycle may occur in which insulin/leptin resistance and obesity aggravate one another.\n",
            "        Answer:\n",
            "                                                           \n"
          ]
        },
        {
          "data": {
            "application/vnd.jupyter.widget-view+json": {
              "model_id": "9bf6f8c3779d4fcc9fadaa71db4760b2",
              "version_major": 2,
              "version_minor": 0
            },
            "text/plain": [
              "Batches:   0%|          | 0/1 [00:00<?, ?it/s]"
            ]
          },
          "metadata": {},
          "output_type": "display_data"
        },
        {
          "name": "stdout",
          "output_type": "stream",
          "text": [
            "Model: DistilGPT-2\n",
            "Question: What are the names of the two avenues at which The Belloe House is located?\n",
            "Context: In 1853, the first commercial hotel, The Belloe House, located at Massachusetts and Atlantic Avenue, was built.\n",
            "Answer:  Answer similar to the following examples\n",
            "        Question: Who wrote The Racial Contract? Context: This led to a challenge to the social contract by philosophers Charles W. Mills in his book The Racial Contract.\n",
            "        Answer: Charles W. Mills wrote The Racial Contract.\n",
            "        \n",
            "        Question: Where was the centre of Argentoratum situated? Context: The centre was on the Grande Île (current Rue du Dôme, Rue des Hallebardes).\n",
            "        Answer: The Grande Île (current Rue du Dôme and Rue des Hallebardes) was the center of Argentoratum.\n",
            "        \n",
            "        Question: Ice from what source helped to create Earth's oceans? Context: Condensing vapor augmented by comet ice.\n",
            "        Answer: Comets contributed ice to create Earth's oceans.\n",
            "        \n",
            "        Question: What occurs with osmotic diarrhea? Context: Too much water drawn into bowels.\n",
            "        Answer: Excess water drawn into the bowels occurs.\n",
            "        \n",
            "        Question: Premier League's name outside UK? Context: Commonly called English Premier League (EPL).\n",
            "        Answer: The English Premier League (EPL) is its common name.\n",
            "        \n",
            "        Question: Industrial music's name origin? Context: Throbbing Gristle's Industrial Records label.\n",
            "        Answer: Industrial Records (Throbbing Gristle's label) gave the name.\n",
            "        \n",
            "        Question: Who recorded \"You Really Got Me\"? Context: The Kinks' 1964 version.\n",
            "        Answer: The Kinks recorded \"You Really Got Me\".\n",
            "\n",
            "        Question: What are the names of the two avenues at which The Belloe House is located? Context: In 1853, the first commercial hotel, The Belloe House, located at Massachusetts and Atlantic Avenue, was built.\n",
            "        Answer:\n",
            "                                                           \n"
          ]
        },
        {
          "data": {
            "application/vnd.jupyter.widget-view+json": {
              "model_id": "67417ec083b4426eab0e09db0b41e23a",
              "version_major": 2,
              "version_minor": 0
            },
            "text/plain": [
              "Batches:   0%|          | 0/1 [00:00<?, ?it/s]"
            ]
          },
          "metadata": {},
          "output_type": "display_data"
        },
        {
          "name": "stdout",
          "output_type": "stream",
          "text": [
            "Model: DistilGPT-2\n",
            "Question: In what century did the Latin alphabet replace the runic system in Old English writing?\n",
            "Context: The oldest Old English inscriptions were written using a runic system, but from about the 9th century this was replaced by a version of the Latin alphabet.\n",
            "Answer:  Answer similar to the following examples\n",
            "        Question: Who wrote The Racial Contract? Context: This led to a challenge to the social contract by philosophers Charles W. Mills in his book The Racial Contract.\n",
            "        Answer: Charles W. Mills wrote The Racial Contract.\n",
            "        \n",
            "        Question: Where was the centre of Argentoratum situated? Context: The centre was on the Grande Île (current Rue du Dôme, Rue des Hallebardes).\n",
            "        Answer: The Grande Île (current Rue du Dôme and Rue des Hallebardes) was the center of Argentoratum.\n",
            "        \n",
            "        Question: Ice from what source helped to create Earth's oceans? Context: Condensing vapor augmented by comet ice.\n",
            "        Answer: Comets contributed ice to create Earth's oceans.\n",
            "        \n",
            "        Question: What occurs with osmotic diarrhea? Context: Too much water drawn into bowels.\n",
            "        Answer: Excess water drawn into the bowels occurs.\n",
            "        \n",
            "        Question: Premier League's name outside UK? Context: Commonly called English Premier League (EPL).\n",
            "        Answer: The English Premier League (EPL) is its common name.\n",
            "        \n",
            "        Question: Industrial music's name origin? Context: Throbbing Gristle's Industrial Records label.\n",
            "        Answer: Industrial Records (Throbbing Gristle's label) gave the name.\n",
            "        \n",
            "        Question: Who recorded \"You Really Got Me\"? Context: The Kinks' 1964 version.\n",
            "        Answer: The Kinks recorded \"You Really Got Me\".\n",
            "\n",
            "        Question: In what century did the Latin alphabet replace the runic system in Old English writing? Context: The oldest Old English inscriptions were written using a runic system, but from about the 9th century this was replaced by a version of the Latin alphabet.\n",
            "        Answer:\n",
            "                                                           \n"
          ]
        },
        {
          "data": {
            "application/vnd.jupyter.widget-view+json": {
              "model_id": "78bc079103cf4609a0db0003deccf6e4",
              "version_major": 2,
              "version_minor": 0
            },
            "text/plain": [
              "Batches:   0%|          | 0/1 [00:00<?, ?it/s]"
            ]
          },
          "metadata": {},
          "output_type": "display_data"
        },
        {
          "name": "stdout",
          "output_type": "stream",
          "text": [
            "Model: DistilGPT-2\n",
            "Question: What groups are are utilized toward comprehending symmetry wonders in chemistry? \n",
            "Context: Lie groups are the symmetry groups used in the Standard Model of particle physics; Point groups are used to help understand symmetry phenomena in molecular chemistry; and Poincaré groups can express the physical symmetry underlying special relativity.\n",
            "Answer:  Answer similar to the following examples\n",
            "        Question: Who wrote The Racial Contract? Context: This led to a challenge to the social contract by philosophers Charles W. Mills in his book The Racial Contract.\n",
            "        Answer: Charles W. Mills wrote The Racial Contract.\n",
            "        \n",
            "        Question: Where was the centre of Argentoratum situated? Context: The centre was on the Grande Île (current Rue du Dôme, Rue des Hallebardes).\n",
            "        Answer: The Grande Île (current Rue du Dôme and Rue des Hallebardes) was the center of Argentoratum.\n",
            "        \n",
            "        Question: Ice from what source helped to create Earth's oceans? Context: Condensing vapor augmented by comet ice.\n",
            "        Answer: Comets contributed ice to create Earth's oceans.\n",
            "        \n",
            "        Question: What occurs with osmotic diarrhea? Context: Too much water drawn into bowels.\n",
            "        Answer: Excess water drawn into the bowels occurs.\n",
            "        \n",
            "        Question: Premier League's name outside UK? Context: Commonly called English Premier League (EPL).\n",
            "        Answer: The English Premier League (EPL) is its common name.\n",
            "        \n",
            "        Question: Industrial music's name origin? Context: Throbbing Gristle's Industrial Records label.\n",
            "        Answer: Industrial Records (Throbbing Gristle's label) gave the name.\n",
            "        \n",
            "        Question: Who recorded \"You Really Got Me\"? Context: The Kinks' 1964 version.\n",
            "        Answer: The Kinks recorded \"You Really Got Me\".\n",
            "\n",
            "        Question: What groups are are utilized toward comprehending symmetry wonders in chemistry?  Context: Lie groups are the symmetry groups used in the Standard Model of particle physics; Point groups are used to help understand symmetry phenomena in molecular chemistry; and Poincaré groups can express the physical symmetry underlying special relativity.\n",
            "        Answer:\n",
            "                                                           \n"
          ]
        },
        {
          "data": {
            "application/vnd.jupyter.widget-view+json": {
              "model_id": "c0c6a35dd0f94dc89cce7181b7457676",
              "version_major": 2,
              "version_minor": 0
            },
            "text/plain": [
              "Batches:   0%|          | 0/1 [00:00<?, ?it/s]"
            ]
          },
          "metadata": {},
          "output_type": "display_data"
        },
        {
          "name": "stdout",
          "output_type": "stream",
          "text": [
            "Model: DistilGPT-2\n",
            "Question: How many suburban residents take in Detroit's entertainment options?\n",
            "Context: About two-thirds of suburban residents occasionally dine and attend cultural events or take in professional games in the city of Detroit.\n",
            "Answer:  Answer similar to the following examples\n",
            "        Question: Who wrote The Racial Contract? Context: This led to a challenge to the social contract by philosophers Charles W. Mills in his book The Racial Contract.\n",
            "        Answer: Charles W. Mills wrote The Racial Contract.\n",
            "        \n",
            "        Question: Where was the centre of Argentoratum situated? Context: The centre was on the Grande Île (current Rue du Dôme, Rue des Hallebardes).\n",
            "        Answer: The Grande Île (current Rue du Dôme and Rue des Hallebardes) was the center of Argentoratum.\n",
            "        \n",
            "        Question: Ice from what source helped to create Earth's oceans? Context: Condensing vapor augmented by comet ice.\n",
            "        Answer: Comets contributed ice to create Earth's oceans.\n",
            "        \n",
            "        Question: What occurs with osmotic diarrhea? Context: Too much water drawn into bowels.\n",
            "        Answer: Excess water drawn into the bowels occurs.\n",
            "        \n",
            "        Question: Premier League's name outside UK? Context: Commonly called English Premier League (EPL).\n",
            "        Answer: The English Premier League (EPL) is its common name.\n",
            "        \n",
            "        Question: Industrial music's name origin? Context: Throbbing Gristle's Industrial Records label.\n",
            "        Answer: Industrial Records (Throbbing Gristle's label) gave the name.\n",
            "        \n",
            "        Question: Who recorded \"You Really Got Me\"? Context: The Kinks' 1964 version.\n",
            "        Answer: The Kinks recorded \"You Really Got Me\".\n",
            "\n",
            "        Question: How many suburban residents take in Detroit's entertainment options? Context: About two-thirds of suburban residents occasionally dine and attend cultural events or take in professional games in the city of Detroit.\n",
            "        Answer:\n",
            "                                                           \n"
          ]
        },
        {
          "data": {
            "application/vnd.jupyter.widget-view+json": {
              "model_id": "3b14b26535df4f1da08c710be9c948c1",
              "version_major": 2,
              "version_minor": 0
            },
            "text/plain": [
              "Batches:   0%|          | 0/1 [00:00<?, ?it/s]"
            ]
          },
          "metadata": {},
          "output_type": "display_data"
        },
        {
          "name": "stdout",
          "output_type": "stream",
          "text": [
            "Model: DistilGPT-2\n",
            "Question: Which kingdom did Galicia later become a part of?\n",
            "Context: Later the Muslims invaded Spain (711), but the Arabs and Moors never managed to have any real control over Galicia, which was later incorporated into the expanding Christian Kingdom of Asturias, usually known as Gallaecia or Galicia (Yillīqiya and Galīsiya) by Muslim Chroniclers, as well as by many European contemporaries.\n",
            "Answer:  Answer similar to the following examples\n",
            "        Question: Who wrote The Racial Contract? Context: This led to a challenge to the social contract by philosophers Charles W. Mills in his book The Racial Contract.\n",
            "        Answer: Charles W. Mills wrote The Racial Contract.\n",
            "        \n",
            "        Question: Where was the centre of Argentoratum situated? Context: The centre was on the Grande Île (current Rue du Dôme, Rue des Hallebardes).\n",
            "        Answer: The Grande Île (current Rue du Dôme and Rue des Hallebardes) was the center of Argentoratum.\n",
            "        \n",
            "        Question: Ice from what source helped to create Earth's oceans? Context: Condensing vapor augmented by comet ice.\n",
            "        Answer: Comets contributed ice to create Earth's oceans.\n",
            "        \n",
            "        Question: What occurs with osmotic diarrhea? Context: Too much water drawn into bowels.\n",
            "        Answer: Excess water drawn into the bowels occurs.\n",
            "        \n",
            "        Question: Premier League's name outside UK? Context: Commonly called English Premier League (EPL).\n",
            "        Answer: The English Premier League (EPL) is its common name.\n",
            "        \n",
            "        Question: Industrial music's name origin? Context: Throbbing Gristle's Industrial Records label.\n",
            "        Answer: Industrial Records (Throbbing Gristle's label) gave the name.\n",
            "        \n",
            "        Question: Who recorded \"You Really Got Me\"? Context: The Kinks' 1964 version.\n",
            "        Answer: The Kinks recorded \"You Really Got Me\".\n",
            "\n",
            "        Question: Which kingdom did Galicia later become a part of? Context: Later the Muslims invaded Spain (711), but the Arabs and Moors never managed to have any real control over Galicia, which was later incorporated into the expanding Christian Kingdom of Asturias, usually known as Gallaecia or Galicia (Yillīqiya and Galīsiya) by Muslim Chroniclers, as well as by many European contemporaries.\n",
            "        Answer:\n",
            "                                                           \n"
          ]
        },
        {
          "data": {
            "application/vnd.jupyter.widget-view+json": {
              "model_id": "55ad956705c54f2a8c2f285aa50aaf0e",
              "version_major": 2,
              "version_minor": 0
            },
            "text/plain": [
              "Batches:   0%|          | 0/1 [00:00<?, ?it/s]"
            ]
          },
          "metadata": {},
          "output_type": "display_data"
        },
        {
          "name": "stdout",
          "output_type": "stream",
          "text": [
            "Model: DistilGPT-2\n",
            "Question: What commission was created in 1955?\n",
            "Context: The Philadelphia Historical Commission was created in 1955 to preserve the cultural and architectural history of the city.\n",
            "Answer:  Answer similar to the following examples\n",
            "        Question: Who wrote The Racial Contract? Context: This led to a challenge to the social contract by philosophers Charles W. Mills in his book The Racial Contract.\n",
            "        Answer: Charles W. Mills wrote The Racial Contract.\n",
            "        \n",
            "        Question: Where was the centre of Argentoratum situated? Context: The centre was on the Grande Île (current Rue du Dôme, Rue des Hallebardes).\n",
            "        Answer: The Grande Île (current Rue du Dôme and Rue des Hallebardes) was the center of Argentoratum.\n",
            "        \n",
            "        Question: Ice from what source helped to create Earth's oceans? Context: Condensing vapor augmented by comet ice.\n",
            "        Answer: Comets contributed ice to create Earth's oceans.\n",
            "        \n",
            "        Question: What occurs with osmotic diarrhea? Context: Too much water drawn into bowels.\n",
            "        Answer: Excess water drawn into the bowels occurs.\n",
            "        \n",
            "        Question: Premier League's name outside UK? Context: Commonly called English Premier League (EPL).\n",
            "        Answer: The English Premier League (EPL) is its common name.\n",
            "        \n",
            "        Question: Industrial music's name origin? Context: Throbbing Gristle's Industrial Records label.\n",
            "        Answer: Industrial Records (Throbbing Gristle's label) gave the name.\n",
            "        \n",
            "        Question: Who recorded \"You Really Got Me\"? Context: The Kinks' 1964 version.\n",
            "        Answer: The Kinks recorded \"You Really Got Me\".\n",
            "\n",
            "        Question: What commission was created in 1955? Context: The Philadelphia Historical Commission was created in 1955 to preserve the cultural and architectural history of the city.\n",
            "        Answer:\n",
            "                                                           \n"
          ]
        },
        {
          "data": {
            "application/vnd.jupyter.widget-view+json": {
              "model_id": "116cce9cf1d3463b8e080caef2588d2e",
              "version_major": 2,
              "version_minor": 0
            },
            "text/plain": [
              "Batches:   0%|          | 0/1 [00:00<?, ?it/s]"
            ]
          },
          "metadata": {},
          "output_type": "display_data"
        },
        {
          "name": "stdout",
          "output_type": "stream",
          "text": [
            "Model: DistilGPT-2\n",
            "Question: What is Neptune's atmosphere primarily composed of? \n",
            "Context: Like Jupiter and Saturn, Neptune's atmosphere is composed primarily of hydrogen and helium, along with traces of hydrocarbons and possibly nitrogen, but contains a higher proportion of \"ices\" such as water, ammonia, and methane.\n",
            "Answer:  Answer similar to the following examples\n",
            "        Question: Who wrote The Racial Contract? Context: This led to a challenge to the social contract by philosophers Charles W. Mills in his book The Racial Contract.\n",
            "        Answer: Charles W. Mills wrote The Racial Contract.\n",
            "        \n",
            "        Question: Where was the centre of Argentoratum situated? Context: The centre was on the Grande Île (current Rue du Dôme, Rue des Hallebardes).\n",
            "        Answer: The Grande Île (current Rue du Dôme and Rue des Hallebardes) was the center of Argentoratum.\n",
            "        \n",
            "        Question: Ice from what source helped to create Earth's oceans? Context: Condensing vapor augmented by comet ice.\n",
            "        Answer: Comets contributed ice to create Earth's oceans.\n",
            "        \n",
            "        Question: What occurs with osmotic diarrhea? Context: Too much water drawn into bowels.\n",
            "        Answer: Excess water drawn into the bowels occurs.\n",
            "        \n",
            "        Question: Premier League's name outside UK? Context: Commonly called English Premier League (EPL).\n",
            "        Answer: The English Premier League (EPL) is its common name.\n",
            "        \n",
            "        Question: Industrial music's name origin? Context: Throbbing Gristle's Industrial Records label.\n",
            "        Answer: Industrial Records (Throbbing Gristle's label) gave the name.\n",
            "        \n",
            "        Question: Who recorded \"You Really Got Me\"? Context: The Kinks' 1964 version.\n",
            "        Answer: The Kinks recorded \"You Really Got Me\".\n",
            "\n",
            "        Question: What is Neptune's atmosphere primarily composed of?  Context: Like Jupiter and Saturn, Neptune's atmosphere is composed primarily of hydrogen and helium, along with traces of hydrocarbons and possibly nitrogen, but contains a higher proportion of \"ices\" such as water, ammonia, and methane.\n",
            "        Answer:\n",
            "                                                           \n"
          ]
        },
        {
          "data": {
            "application/vnd.jupyter.widget-view+json": {
              "model_id": "0fdf0adbf68141c5afb49132d2901d3b",
              "version_major": 2,
              "version_minor": 0
            },
            "text/plain": [
              "Batches:   0%|          | 0/1 [00:00<?, ?it/s]"
            ]
          },
          "metadata": {},
          "output_type": "display_data"
        },
        {
          "name": "stdout",
          "output_type": "stream",
          "text": [
            "\n",
            "Evaluating Phi-2...\n"
          ]
        },
        {
          "data": {
            "application/vnd.jupyter.widget-view+json": {
              "model_id": "f6f0dac00f944ee9ace14563cc43e331",
              "version_major": 2,
              "version_minor": 0
            },
            "text/plain": [
              "tokenizer_config.json:   0%|          | 0.00/7.34k [00:00<?, ?B/s]"
            ]
          },
          "metadata": {},
          "output_type": "display_data"
        },
        {
          "data": {
            "application/vnd.jupyter.widget-view+json": {
              "model_id": "5f360c61519640fda493dc7ed9857c43",
              "version_major": 2,
              "version_minor": 0
            },
            "text/plain": [
              "vocab.json:   0%|          | 0.00/798k [00:00<?, ?B/s]"
            ]
          },
          "metadata": {},
          "output_type": "display_data"
        },
        {
          "data": {
            "application/vnd.jupyter.widget-view+json": {
              "model_id": "6b6008693cf6460fa68a5094318c9386",
              "version_major": 2,
              "version_minor": 0
            },
            "text/plain": [
              "merges.txt:   0%|          | 0.00/456k [00:00<?, ?B/s]"
            ]
          },
          "metadata": {},
          "output_type": "display_data"
        },
        {
          "data": {
            "application/vnd.jupyter.widget-view+json": {
              "model_id": "f692ec755d5748c0a46890ca021dfeae",
              "version_major": 2,
              "version_minor": 0
            },
            "text/plain": [
              "tokenizer.json:   0%|          | 0.00/2.11M [00:00<?, ?B/s]"
            ]
          },
          "metadata": {},
          "output_type": "display_data"
        },
        {
          "data": {
            "application/vnd.jupyter.widget-view+json": {
              "model_id": "b67a24752e7549f98a2121d0e90f4048",
              "version_major": 2,
              "version_minor": 0
            },
            "text/plain": [
              "added_tokens.json:   0%|          | 0.00/1.08k [00:00<?, ?B/s]"
            ]
          },
          "metadata": {},
          "output_type": "display_data"
        },
        {
          "data": {
            "application/vnd.jupyter.widget-view+json": {
              "model_id": "60ecf634d48f4709b53c006292039952",
              "version_major": 2,
              "version_minor": 0
            },
            "text/plain": [
              "special_tokens_map.json:   0%|          | 0.00/99.0 [00:00<?, ?B/s]"
            ]
          },
          "metadata": {},
          "output_type": "display_data"
        },
        {
          "data": {
            "application/vnd.jupyter.widget-view+json": {
              "model_id": "2bb2412e61a443f88b7b6d1069741feb",
              "version_major": 2,
              "version_minor": 0
            },
            "text/plain": [
              "config.json:   0%|          | 0.00/735 [00:00<?, ?B/s]"
            ]
          },
          "metadata": {},
          "output_type": "display_data"
        },
        {
          "data": {
            "application/vnd.jupyter.widget-view+json": {
              "model_id": "237c6aaa3c5b49deb8f557c55cf2c60e",
              "version_major": 2,
              "version_minor": 0
            },
            "text/plain": [
              "model.safetensors.index.json:   0%|          | 0.00/35.7k [00:00<?, ?B/s]"
            ]
          },
          "metadata": {},
          "output_type": "display_data"
        },
        {
          "data": {
            "application/vnd.jupyter.widget-view+json": {
              "model_id": "6b105ec939fe40e885ca3c8427639ba8",
              "version_major": 2,
              "version_minor": 0
            },
            "text/plain": [
              "Fetching 2 files:   0%|          | 0/2 [00:00<?, ?it/s]"
            ]
          },
          "metadata": {},
          "output_type": "display_data"
        },
        {
          "data": {
            "application/vnd.jupyter.widget-view+json": {
              "model_id": "6148f9da3ef745fab55c1fd7bf6628ec",
              "version_major": 2,
              "version_minor": 0
            },
            "text/plain": [
              "model-00001-of-00002.safetensors:   0%|          | 0.00/5.00G [00:00<?, ?B/s]"
            ]
          },
          "metadata": {},
          "output_type": "display_data"
        },
        {
          "data": {
            "application/vnd.jupyter.widget-view+json": {
              "model_id": "a50229a23b514725953b701863fb5cc2",
              "version_major": 2,
              "version_minor": 0
            },
            "text/plain": [
              "model-00002-of-00002.safetensors:   0%|          | 0.00/564M [00:00<?, ?B/s]"
            ]
          },
          "metadata": {},
          "output_type": "display_data"
        },
        {
          "data": {
            "application/vnd.jupyter.widget-view+json": {
              "model_id": "822dae9d6f0447f7bbbfa2c11eea14fd",
              "version_major": 2,
              "version_minor": 0
            },
            "text/plain": [
              "Loading checkpoint shards:   0%|          | 0/2 [00:00<?, ?it/s]"
            ]
          },
          "metadata": {},
          "output_type": "display_data"
        },
        {
          "data": {
            "application/vnd.jupyter.widget-view+json": {
              "model_id": "bf7fbe452f354b329da6aa55ef72bfed",
              "version_major": 2,
              "version_minor": 0
            },
            "text/plain": [
              "generation_config.json:   0%|          | 0.00/124 [00:00<?, ?B/s]"
            ]
          },
          "metadata": {},
          "output_type": "display_data"
        },
        {
          "name": "stdout",
          "output_type": "stream",
          "text": [
            "Model: Phi-2\n",
            "Question: What was the name of the famous telelgram?\n",
            "Context: Releasing the Ems Dispatch to the public, Bismarck made it sound as if the king had treated the French envoy in a demeaning fashion, which inflamed public opinion in France.\n",
            "Answer:  Answer similar to the following examples\n",
            "        Question: Who wrote The Racial Contract? Context: This led to a challenge to the social contract by philosophers Charles W. Mills in his book The Racial Contract.\n",
            "        Answer: Charles W. Mills wrote The Racial Contract.\n",
            "        \n",
            "        Question: Where was the centre of Argentoratum situated? Context: The centre was on the Grande Île (current Rue du Dôme, Rue des Hallebardes).\n",
            "        Answer: The Grande Île (current Rue du Dôme and Rue des Hallebardes) was the center of Argentoratum.\n",
            "        \n",
            "        Question: Ice from what source helped to create Earth's oceans? Context: Condensing vapor augmented by comet ice.\n",
            "        Answer: Comets contributed ice to create Earth's oceans.\n",
            "        \n",
            "        Question: What occurs with osmotic diarrhea? Context: Too much water drawn into bowels.\n",
            "        Answer: Excess water drawn into the bowels occurs.\n",
            "        \n",
            "        Question: Premier League's name outside UK? Context: Commonly called English Premier League (EPL).\n",
            "        Answer: The English Premier League (EPL) is its common name.\n",
            "        \n",
            "        Question: Industrial music's name origin? Context: Throbbing Gristle's Industrial Records label.\n",
            "        Answer: Industrial Records (Throbbing Gristle's label) gave the name.\n",
            "        \n",
            "        Question: Who recorded \"You Really Got Me\"? Context: The Kinks' 1964 version.\n",
            "        Answer: The Kinks recorded \"You Really Got Me\".\n",
            "\n",
            "        Question: What was the name of the famous telelgram? Context: Releasing the Ems Dispatch to the public, Bismarck made it sound as if the king had treated the French envoy in a demeaning fashion, which inflamed public opinion in France.\n",
            "        Answer:\n",
            "        \"\"\"\n",
            "        # TODO: Implement this function\n",
            "        pass\n",
            "\n",
            "    def get_question_answer_pairs(self, question_text, answer_text):\n",
            "        \"\"\"\n",
            "        Given a question and an answer, return a list \n"
          ]
        },
        {
          "data": {
            "application/vnd.jupyter.widget-view+json": {
              "model_id": "73508895746147968a2981530297005a",
              "version_major": 2,
              "version_minor": 0
            },
            "text/plain": [
              "Batches:   0%|          | 0/1 [00:00<?, ?it/s]"
            ]
          },
          "metadata": {},
          "output_type": "display_data"
        },
        {
          "name": "stdout",
          "output_type": "stream",
          "text": [
            "Model: Phi-2\n",
            "Question: Tito's marriage to what person was later erased in records?\n",
            "Context: In 1936, when Tito stayed at the Hotel Lux in Moscow, he met the Austrian comrade Lucia Bauer.\n",
            "Answer:  Answer similar to the following examples\n",
            "        Question: Who wrote The Racial Contract? Context: This led to a challenge to the social contract by philosophers Charles W. Mills in his book The Racial Contract.\n",
            "        Answer: Charles W. Mills wrote The Racial Contract.\n",
            "        \n",
            "        Question: Where was the centre of Argentoratum situated? Context: The centre was on the Grande Île (current Rue du Dôme, Rue des Hallebardes).\n",
            "        Answer: The Grande Île (current Rue du Dôme and Rue des Hallebardes) was the center of Argentoratum.\n",
            "        \n",
            "        Question: Ice from what source helped to create Earth's oceans? Context: Condensing vapor augmented by comet ice.\n",
            "        Answer: Comets contributed ice to create Earth's oceans.\n",
            "        \n",
            "        Question: What occurs with osmotic diarrhea? Context: Too much water drawn into bowels.\n",
            "        Answer: Excess water drawn into the bowels occurs.\n",
            "        \n",
            "        Question: Premier League's name outside UK? Context: Commonly called English Premier League (EPL).\n",
            "        Answer: The English Premier League (EPL) is its common name.\n",
            "        \n",
            "        Question: Industrial music's name origin? Context: Throbbing Gristle's Industrial Records label.\n",
            "        Answer: Industrial Records (Throbbing Gristle's label) gave the name.\n",
            "        \n",
            "        Question: Who recorded \"You Really Got Me\"? Context: The Kinks' 1964 version.\n",
            "        Answer: The Kinks recorded \"You Really Got Me\".\n",
            "\n",
            "        Question: Tito's marriage to what person was later erased in records? Context: In 1936, when Tito stayed at the Hotel Lux in Moscow, he met the Austrian comrade Lucia Bauer.\n",
            "        Answer:\n",
            "        \"\"\"\n",
            "        # TODO: Implement this function\n",
            "        pass\n",
            "\n",
            "    def get_question_answer_pairs(self, question_text, answer_text):\n",
            "        \"\"\"\n",
            "        Given a question and an answer, return a list \n"
          ]
        },
        {
          "data": {
            "application/vnd.jupyter.widget-view+json": {
              "model_id": "0d50222ba1eb457b84c12b0c0c72c957",
              "version_major": 2,
              "version_minor": 0
            },
            "text/plain": [
              "Batches:   0%|          | 0/1 [00:00<?, ?it/s]"
            ]
          },
          "metadata": {},
          "output_type": "display_data"
        },
        {
          "name": "stdout",
          "output_type": "stream",
          "text": [
            "Model: Phi-2\n",
            "Question: The Grecian islands in the 14th century were under the control of who?\n",
            "Context: The re-establishment of the Byzantine imperial capital in Constantinople in 1261 was accompanied by the empire's recovery of much of the Greek peninsula, although the Frankish Principality of Achaea in the Peloponnese and the rival Greek Despotate of Epirus in the north both remained important regional powers into the 14th century, while the islands remained largely under Genoese and Venetian control.\n",
            "Answer:  Answer similar to the following examples\n",
            "        Question: Who wrote The Racial Contract? Context: This led to a challenge to the social contract by philosophers Charles W. Mills in his book The Racial Contract.\n",
            "        Answer: Charles W. Mills wrote The Racial Contract.\n",
            "        \n",
            "        Question: Where was the centre of Argentoratum situated? Context: The centre was on the Grande Île (current Rue du Dôme, Rue des Hallebardes).\n",
            "        Answer: The Grande Île (current Rue du Dôme and Rue des Hallebardes) was the center of Argentoratum.\n",
            "        \n",
            "        Question: Ice from what source helped to create Earth's oceans? Context: Condensing vapor augmented by comet ice.\n",
            "        Answer: Comets contributed ice to create Earth's oceans.\n",
            "        \n",
            "        Question: What occurs with osmotic diarrhea? Context: Too much water drawn into bowels.\n",
            "        Answer: Excess water drawn into the bowels occurs.\n",
            "        \n",
            "        Question: Premier League's name outside UK? Context: Commonly called English Premier League (EPL).\n",
            "        Answer: The English Premier League (EPL) is its common name.\n",
            "        \n",
            "        Question: Industrial music's name origin? Context: Throbbing Gristle's Industrial Records label.\n",
            "        Answer: Industrial Records (Throbbing Gristle's label) gave the name.\n",
            "        \n",
            "        Question: Who recorded \"You Really Got Me\"? Context: The Kinks' 1964 version.\n",
            "        Answer: The Kinks recorded \"You Really Got Me\".\n",
            "\n",
            "        Question: The Grecian islands in the 14th century were under the control of who? Context: The re-establishment of the Byzantine imperial capital in Constantinople in 1261 was accompanied by the empire's recovery of much of the Greek peninsula, although the Frankish Principality of Achaea in the Peloponnese and the rival Greek Despotate of Epirus in the north both remained important regional powers into the 14th century, while the islands remained largely under Genoese and Venetian control.\n",
            "        Answer:\n",
            "        \"\"\"\n",
            "        # TODO: Implement the function\n",
            "        pass\n",
            "\n",
            "    def get_question_answer_pairs(self, question_text, context):\n",
            "        \"\"\"\n",
            "        Given a question and context, return a list of question- \n"
          ]
        },
        {
          "data": {
            "application/vnd.jupyter.widget-view+json": {
              "model_id": "618f01a005cd408db61c61a68528bbab",
              "version_major": 2,
              "version_minor": 0
            },
            "text/plain": [
              "Batches:   0%|          | 0/1 [00:00<?, ?it/s]"
            ]
          },
          "metadata": {},
          "output_type": "display_data"
        },
        {
          "name": "stdout",
          "output_type": "stream",
          "text": [
            "Model: Phi-2\n",
            "Question: What makes up Education?\n",
            "Context: Education is the process of facilitating learning, or the acquisition of knowledge, skills, values, beliefs, and habits.\n",
            "Answer:  Answer similar to the following examples\n",
            "        Question: Who wrote The Racial Contract? Context: This led to a challenge to the social contract by philosophers Charles W. Mills in his book The Racial Contract.\n",
            "        Answer: Charles W. Mills wrote The Racial Contract.\n",
            "        \n",
            "        Question: Where was the centre of Argentoratum situated? Context: The centre was on the Grande Île (current Rue du Dôme, Rue des Hallebardes).\n",
            "        Answer: The Grande Île (current Rue du Dôme and Rue des Hallebardes) was the center of Argentoratum.\n",
            "        \n",
            "        Question: Ice from what source helped to create Earth's oceans? Context: Condensing vapor augmented by comet ice.\n",
            "        Answer: Comets contributed ice to create Earth's oceans.\n",
            "        \n",
            "        Question: What occurs with osmotic diarrhea? Context: Too much water drawn into bowels.\n",
            "        Answer: Excess water drawn into the bowels occurs.\n",
            "        \n",
            "        Question: Premier League's name outside UK? Context: Commonly called English Premier League (EPL).\n",
            "        Answer: The English Premier League (EPL) is its common name.\n",
            "        \n",
            "        Question: Industrial music's name origin? Context: Throbbing Gristle's Industrial Records label.\n",
            "        Answer: Industrial Records (Throbbing Gristle's label) gave the name.\n",
            "        \n",
            "        Question: Who recorded \"You Really Got Me\"? Context: The Kinks' 1964 version.\n",
            "        Answer: The Kinks recorded \"You Really Got Me\".\n",
            "\n",
            "        Question: What makes up Education? Context: Education is the process of facilitating learning, or the acquisition of knowledge, skills, values, beliefs, and habits.\n",
            "        Answer:\n",
            "        \"\"\"\n",
            "        # TODO: Implement the function\n",
            "        pass\n",
            "\n",
            "    def get_question_answer_pairs(self, text):\n",
            "        \"\"\"\n",
            "        Given a text, return a list of question-answer pairs.\n",
            "        \n",
            " \n"
          ]
        },
        {
          "data": {
            "application/vnd.jupyter.widget-view+json": {
              "model_id": "01cba80f40d3459ab6c4a5a9e27f0bee",
              "version_major": 2,
              "version_minor": 0
            },
            "text/plain": [
              "Batches:   0%|          | 0/1 [00:00<?, ?it/s]"
            ]
          },
          "metadata": {},
          "output_type": "display_data"
        },
        {
          "name": "stdout",
          "output_type": "stream",
          "text": [
            "Model: Phi-2\n",
            "Question: Which river is near the New York Botanical Gardens?\n",
            "Context: Canoeing and kayaking on the borough's namesake river have been promoted by the Bronx River Alliance.\n",
            "Answer:  Answer similar to the following examples\n",
            "        Question: Who wrote The Racial Contract? Context: This led to a challenge to the social contract by philosophers Charles W. Mills in his book The Racial Contract.\n",
            "        Answer: Charles W. Mills wrote The Racial Contract.\n",
            "        \n",
            "        Question: Where was the centre of Argentoratum situated? Context: The centre was on the Grande Île (current Rue du Dôme, Rue des Hallebardes).\n",
            "        Answer: The Grande Île (current Rue du Dôme and Rue des Hallebardes) was the center of Argentoratum.\n",
            "        \n",
            "        Question: Ice from what source helped to create Earth's oceans? Context: Condensing vapor augmented by comet ice.\n",
            "        Answer: Comets contributed ice to create Earth's oceans.\n",
            "        \n",
            "        Question: What occurs with osmotic diarrhea? Context: Too much water drawn into bowels.\n",
            "        Answer: Excess water drawn into the bowels occurs.\n",
            "        \n",
            "        Question: Premier League's name outside UK? Context: Commonly called English Premier League (EPL).\n",
            "        Answer: The English Premier League (EPL) is its common name.\n",
            "        \n",
            "        Question: Industrial music's name origin? Context: Throbbing Gristle's Industrial Records label.\n",
            "        Answer: Industrial Records (Throbbing Gristle's label) gave the name.\n",
            "        \n",
            "        Question: Who recorded \"You Really Got Me\"? Context: The Kinks' 1964 version.\n",
            "        Answer: The Kinks recorded \"You Really Got Me\".\n",
            "\n",
            "        Question: Which river is near the New York Botanical Gardens? Context: Canoeing and kayaking on the borough's namesake river have been promoted by the Bronx River Alliance.\n",
            "        Answer:\n",
            "        \"\"\"\n",
            "        # TODO: Implement this function\n",
            "        pass\n",
            "\n",
            "    def get_question_answer_pairs(self, question_text, answer_text):\n",
            "        \"\"\"\n",
            "        Given a question and an answer, return a list \n"
          ]
        },
        {
          "data": {
            "application/vnd.jupyter.widget-view+json": {
              "model_id": "57b88c67439e453c9ebf1d9ad19ed12c",
              "version_major": 2,
              "version_minor": 0
            },
            "text/plain": [
              "Batches:   0%|          | 0/1 [00:00<?, ?it/s]"
            ]
          },
          "metadata": {},
          "output_type": "display_data"
        },
        {
          "name": "stdout",
          "output_type": "stream",
          "text": [
            "Model: Phi-2\n",
            "Question: What wildlife center is located in Southampton Common?\n",
            "Context: The Common includes Hawthorns Urban Wildlife Centre on the former site of Southampton Zoo, a paddling pool and several lakes and ponds.\n",
            "Answer:  Answer similar to the following examples\n",
            "        Question: Who wrote The Racial Contract? Context: This led to a challenge to the social contract by philosophers Charles W. Mills in his book The Racial Contract.\n",
            "        Answer: Charles W. Mills wrote The Racial Contract.\n",
            "        \n",
            "        Question: Where was the centre of Argentoratum situated? Context: The centre was on the Grande Île (current Rue du Dôme, Rue des Hallebardes).\n",
            "        Answer: The Grande Île (current Rue du Dôme and Rue des Hallebardes) was the center of Argentoratum.\n",
            "        \n",
            "        Question: Ice from what source helped to create Earth's oceans? Context: Condensing vapor augmented by comet ice.\n",
            "        Answer: Comets contributed ice to create Earth's oceans.\n",
            "        \n",
            "        Question: What occurs with osmotic diarrhea? Context: Too much water drawn into bowels.\n",
            "        Answer: Excess water drawn into the bowels occurs.\n",
            "        \n",
            "        Question: Premier League's name outside UK? Context: Commonly called English Premier League (EPL).\n",
            "        Answer: The English Premier League (EPL) is its common name.\n",
            "        \n",
            "        Question: Industrial music's name origin? Context: Throbbing Gristle's Industrial Records label.\n",
            "        Answer: Industrial Records (Throbbing Gristle's label) gave the name.\n",
            "        \n",
            "        Question: Who recorded \"You Really Got Me\"? Context: The Kinks' 1964 version.\n",
            "        Answer: The Kinks recorded \"You Really Got Me\".\n",
            "\n",
            "        Question: What wildlife center is located in Southampton Common? Context: The Common includes Hawthorns Urban Wildlife Centre on the former site of Southampton Zoo, a paddling pool and several lakes and ponds.\n",
            "        Answer:\n",
            "        \n",
            "        Question: What is the name of the largest lake in Southampton Common? Context: The largest lake is called the Common Lake.\n",
            "        Answer: The Common Lake is the largest lake in Southampton Common.\n",
            "        \n",
            "        Question: What is \n"
          ]
        },
        {
          "data": {
            "application/vnd.jupyter.widget-view+json": {
              "model_id": "2e778d07e7a14a7ea9d2ab2b4630482e",
              "version_major": 2,
              "version_minor": 0
            },
            "text/plain": [
              "Batches:   0%|          | 0/1 [00:00<?, ?it/s]"
            ]
          },
          "metadata": {},
          "output_type": "display_data"
        },
        {
          "name": "stdout",
          "output_type": "stream",
          "text": [
            "Model: Phi-2\n",
            "Question: How many clubs entered in 2006-07?\n",
            "Context: In 2005–06 this increased to 674 entrants, in 2006–07 to 687, in 2007–08 to 731 clubs, and for the 2008–09 and 2009–10 competitions it reached 762.\n",
            "Answer:  Answer similar to the following examples\n",
            "        Question: Who wrote The Racial Contract? Context: This led to a challenge to the social contract by philosophers Charles W. Mills in his book The Racial Contract.\n",
            "        Answer: Charles W. Mills wrote The Racial Contract.\n",
            "        \n",
            "        Question: Where was the centre of Argentoratum situated? Context: The centre was on the Grande Île (current Rue du Dôme, Rue des Hallebardes).\n",
            "        Answer: The Grande Île (current Rue du Dôme and Rue des Hallebardes) was the center of Argentoratum.\n",
            "        \n",
            "        Question: Ice from what source helped to create Earth's oceans? Context: Condensing vapor augmented by comet ice.\n",
            "        Answer: Comets contributed ice to create Earth's oceans.\n",
            "        \n",
            "        Question: What occurs with osmotic diarrhea? Context: Too much water drawn into bowels.\n",
            "        Answer: Excess water drawn into the bowels occurs.\n",
            "        \n",
            "        Question: Premier League's name outside UK? Context: Commonly called English Premier League (EPL).\n",
            "        Answer: The English Premier League (EPL) is its common name.\n",
            "        \n",
            "        Question: Industrial music's name origin? Context: Throbbing Gristle's Industrial Records label.\n",
            "        Answer: Industrial Records (Throbbing Gristle's label) gave the name.\n",
            "        \n",
            "        Question: Who recorded \"You Really Got Me\"? Context: The Kinks' 1964 version.\n",
            "        Answer: The Kinks recorded \"You Really Got Me\".\n",
            "\n",
            "        Question: How many clubs entered in 2006-07? Context: In 2005–06 this increased to 674 entrants, in 2006–07 to 687, in 2007–08 to 731 clubs, and for the 2008–09 and 2009–10 competitions it reached 762.\n",
            "        Answer:\n",
            "        \n",
            "        Question: What is the name of the first club to enter the competition? Context: The first club to enter the competition was the Royal Artillery.\n",
            "        Answer: The Royal Artillery was the first club to enter the competition.\n",
            " \n"
          ]
        },
        {
          "data": {
            "application/vnd.jupyter.widget-view+json": {
              "model_id": "b3e9cd33d1d74871b0ef04d898385b53",
              "version_major": 2,
              "version_minor": 0
            },
            "text/plain": [
              "Batches:   0%|          | 0/1 [00:00<?, ?it/s]"
            ]
          },
          "metadata": {},
          "output_type": "display_data"
        },
        {
          "name": "stdout",
          "output_type": "stream",
          "text": [
            "Model: Phi-2\n",
            "Question: What period saw the rise of New Comedy?\n",
            "Context: The Hellenistic period saw the rise of New Comedy, Alexandrian poetry, the Septuagint and the philosophies of Stoicism and Epicureanism.\n",
            "Answer:  Answer similar to the following examples\n",
            "        Question: Who wrote The Racial Contract? Context: This led to a challenge to the social contract by philosophers Charles W. Mills in his book The Racial Contract.\n",
            "        Answer: Charles W. Mills wrote The Racial Contract.\n",
            "        \n",
            "        Question: Where was the centre of Argentoratum situated? Context: The centre was on the Grande Île (current Rue du Dôme, Rue des Hallebardes).\n",
            "        Answer: The Grande Île (current Rue du Dôme and Rue des Hallebardes) was the center of Argentoratum.\n",
            "        \n",
            "        Question: Ice from what source helped to create Earth's oceans? Context: Condensing vapor augmented by comet ice.\n",
            "        Answer: Comets contributed ice to create Earth's oceans.\n",
            "        \n",
            "        Question: What occurs with osmotic diarrhea? Context: Too much water drawn into bowels.\n",
            "        Answer: Excess water drawn into the bowels occurs.\n",
            "        \n",
            "        Question: Premier League's name outside UK? Context: Commonly called English Premier League (EPL).\n",
            "        Answer: The English Premier League (EPL) is its common name.\n",
            "        \n",
            "        Question: Industrial music's name origin? Context: Throbbing Gristle's Industrial Records label.\n",
            "        Answer: Industrial Records (Throbbing Gristle's label) gave the name.\n",
            "        \n",
            "        Question: Who recorded \"You Really Got Me\"? Context: The Kinks' 1964 version.\n",
            "        Answer: The Kinks recorded \"You Really Got Me\".\n",
            "\n",
            "        Question: What period saw the rise of New Comedy? Context: The Hellenistic period saw the rise of New Comedy, Alexandrian poetry, the Septuagint and the philosophies of Stoicism and Epicureanism.\n",
            "        Answer:\n",
            "        \"\"\"\n",
            "        # TODO: Implement this function\n",
            "        pass\n",
            "\n",
            "    def get_question_answer_pairs(self, question_texts, answer_texts):\n",
            "        \"\"\"\n",
            "        Given a list of question texts and a \n"
          ]
        },
        {
          "data": {
            "application/vnd.jupyter.widget-view+json": {
              "model_id": "c26d30aa8a1947789e37ecca89960ffb",
              "version_major": 2,
              "version_minor": 0
            },
            "text/plain": [
              "Batches:   0%|          | 0/1 [00:00<?, ?it/s]"
            ]
          },
          "metadata": {},
          "output_type": "display_data"
        },
        {
          "name": "stdout",
          "output_type": "stream",
          "text": [
            "Model: Phi-2\n",
            "Question: In which US state was GE incorporated?\n",
            "Context: The company was incorporated in New York, with the Schenectady plant used as headquarters for many years thereafter.\n",
            "Answer:  Answer similar to the following examples\n",
            "        Question: Who wrote The Racial Contract? Context: This led to a challenge to the social contract by philosophers Charles W. Mills in his book The Racial Contract.\n",
            "        Answer: Charles W. Mills wrote The Racial Contract.\n",
            "        \n",
            "        Question: Where was the centre of Argentoratum situated? Context: The centre was on the Grande Île (current Rue du Dôme, Rue des Hallebardes).\n",
            "        Answer: The Grande Île (current Rue du Dôme and Rue des Hallebardes) was the center of Argentoratum.\n",
            "        \n",
            "        Question: Ice from what source helped to create Earth's oceans? Context: Condensing vapor augmented by comet ice.\n",
            "        Answer: Comets contributed ice to create Earth's oceans.\n",
            "        \n",
            "        Question: What occurs with osmotic diarrhea? Context: Too much water drawn into bowels.\n",
            "        Answer: Excess water drawn into the bowels occurs.\n",
            "        \n",
            "        Question: Premier League's name outside UK? Context: Commonly called English Premier League (EPL).\n",
            "        Answer: The English Premier League (EPL) is its common name.\n",
            "        \n",
            "        Question: Industrial music's name origin? Context: Throbbing Gristle's Industrial Records label.\n",
            "        Answer: Industrial Records (Throbbing Gristle's label) gave the name.\n",
            "        \n",
            "        Question: Who recorded \"You Really Got Me\"? Context: The Kinks' 1964 version.\n",
            "        Answer: The Kinks recorded \"You Really Got Me\".\n",
            "\n",
            "        Question: In which US state was GE incorporated? Context: The company was incorporated in New York, with the Schenectady plant used as headquarters for many years thereafter.\n",
            "        Answer:\n",
            "        \"\"\"\n",
            "        # TODO: Implement this function\n",
            "        pass\n",
            "\n",
            "    def get_question_answer_pairs(self, question_text, answer_text):\n",
            "        \"\"\"\n",
            "        Given a question and an answer, return a list \n"
          ]
        },
        {
          "data": {
            "application/vnd.jupyter.widget-view+json": {
              "model_id": "3b112ab4220045b4aa47aaf472d7d28c",
              "version_major": 2,
              "version_minor": 0
            },
            "text/plain": [
              "Batches:   0%|          | 0/1 [00:00<?, ?it/s]"
            ]
          },
          "metadata": {},
          "output_type": "display_data"
        },
        {
          "name": "stdout",
          "output_type": "stream",
          "text": [
            "Model: Phi-2\n",
            "Question: What is a defensive way that mimicry can be used?\n",
            "Context: When an insectivorous predator disturbs the moth, it reveals its hind wings, temporarily startling the predator and giving it time to escape.\n",
            "Answer:  Answer similar to the following examples\n",
            "        Question: Who wrote The Racial Contract? Context: This led to a challenge to the social contract by philosophers Charles W. Mills in his book The Racial Contract.\n",
            "        Answer: Charles W. Mills wrote The Racial Contract.\n",
            "        \n",
            "        Question: Where was the centre of Argentoratum situated? Context: The centre was on the Grande Île (current Rue du Dôme, Rue des Hallebardes).\n",
            "        Answer: The Grande Île (current Rue du Dôme and Rue des Hallebardes) was the center of Argentoratum.\n",
            "        \n",
            "        Question: Ice from what source helped to create Earth's oceans? Context: Condensing vapor augmented by comet ice.\n",
            "        Answer: Comets contributed ice to create Earth's oceans.\n",
            "        \n",
            "        Question: What occurs with osmotic diarrhea? Context: Too much water drawn into bowels.\n",
            "        Answer: Excess water drawn into the bowels occurs.\n",
            "        \n",
            "        Question: Premier League's name outside UK? Context: Commonly called English Premier League (EPL).\n",
            "        Answer: The English Premier League (EPL) is its common name.\n",
            "        \n",
            "        Question: Industrial music's name origin? Context: Throbbing Gristle's Industrial Records label.\n",
            "        Answer: Industrial Records (Throbbing Gristle's label) gave the name.\n",
            "        \n",
            "        Question: Who recorded \"You Really Got Me\"? Context: The Kinks' 1964 version.\n",
            "        Answer: The Kinks recorded \"You Really Got Me\".\n",
            "\n",
            "        Question: What is a defensive way that mimicry can be used? Context: When an insectivorous predator disturbs the moth, it reveals its hind wings, temporarily startling the predator and giving it time to escape.\n",
            "        Answer:\n",
            "        \n",
            "        Question: What is the name of the first album by the Kinks? Context: The Kinks' first album was called \"Kinks\".\n",
            "        Answer: The Kinks' first album was called \"Kinks\".\n",
            "        \n",
            " \n"
          ]
        },
        {
          "data": {
            "application/vnd.jupyter.widget-view+json": {
              "model_id": "a1af94dfac674951879a4bd22f3cc54c",
              "version_major": 2,
              "version_minor": 0
            },
            "text/plain": [
              "Batches:   0%|          | 0/1 [00:00<?, ?it/s]"
            ]
          },
          "metadata": {},
          "output_type": "display_data"
        },
        {
          "name": "stdout",
          "output_type": "stream",
          "text": [
            "Model: Phi-2\n",
            "Question: Did they have daily quotas for cotton?\n",
            "Context: In September, when school normally starts, the classes are suspended and children are sent to cotton fields for work, where they are assigned daily quotas of 20 to 60 kg of raw cotton they have to collect.\n",
            "Answer:  Answer similar to the following examples\n",
            "        Question: Who wrote The Racial Contract? Context: This led to a challenge to the social contract by philosophers Charles W. Mills in his book The Racial Contract.\n",
            "        Answer: Charles W. Mills wrote The Racial Contract.\n",
            "        \n",
            "        Question: Where was the centre of Argentoratum situated? Context: The centre was on the Grande Île (current Rue du Dôme, Rue des Hallebardes).\n",
            "        Answer: The Grande Île (current Rue du Dôme and Rue des Hallebardes) was the center of Argentoratum.\n",
            "        \n",
            "        Question: Ice from what source helped to create Earth's oceans? Context: Condensing vapor augmented by comet ice.\n",
            "        Answer: Comets contributed ice to create Earth's oceans.\n",
            "        \n",
            "        Question: What occurs with osmotic diarrhea? Context: Too much water drawn into bowels.\n",
            "        Answer: Excess water drawn into the bowels occurs.\n",
            "        \n",
            "        Question: Premier League's name outside UK? Context: Commonly called English Premier League (EPL).\n",
            "        Answer: The English Premier League (EPL) is its common name.\n",
            "        \n",
            "        Question: Industrial music's name origin? Context: Throbbing Gristle's Industrial Records label.\n",
            "        Answer: Industrial Records (Throbbing Gristle's label) gave the name.\n",
            "        \n",
            "        Question: Who recorded \"You Really Got Me\"? Context: The Kinks' 1964 version.\n",
            "        Answer: The Kinks recorded \"You Really Got Me\".\n",
            "\n",
            "        Question: Did they have daily quotas for cotton? Context: In September, when school normally starts, the classes are suspended and children are sent to cotton fields for work, where they are assigned daily quotas of 20 to 60 kg of raw cotton they have to collect.\n",
            "        Answer:\n",
            "        \"\"\"\n",
            "        # TODO: Implement the function\n",
            "        pass\n",
            "\n",
            "    def get_question_answer_pairs(self, text):\n",
            "        \"\"\"\n",
            "        Given a text, return a list of question-answer pairs.\n",
            "        \n",
            " \n"
          ]
        },
        {
          "data": {
            "application/vnd.jupyter.widget-view+json": {
              "model_id": "b5dfa2bb9a6a408dbf712004f372f8d8",
              "version_major": 2,
              "version_minor": 0
            },
            "text/plain": [
              "Batches:   0%|          | 0/1 [00:00<?, ?it/s]"
            ]
          },
          "metadata": {},
          "output_type": "display_data"
        },
        {
          "name": "stdout",
          "output_type": "stream",
          "text": [
            "Model: Phi-2\n",
            "Question: How is the filament attached to the bulb?\n",
            "Context: The filament and its supports are assembled on a glass stem, which is fused to the bulb.\n",
            "Answer:  Answer similar to the following examples\n",
            "        Question: Who wrote The Racial Contract? Context: This led to a challenge to the social contract by philosophers Charles W. Mills in his book The Racial Contract.\n",
            "        Answer: Charles W. Mills wrote The Racial Contract.\n",
            "        \n",
            "        Question: Where was the centre of Argentoratum situated? Context: The centre was on the Grande Île (current Rue du Dôme, Rue des Hallebardes).\n",
            "        Answer: The Grande Île (current Rue du Dôme and Rue des Hallebardes) was the center of Argentoratum.\n",
            "        \n",
            "        Question: Ice from what source helped to create Earth's oceans? Context: Condensing vapor augmented by comet ice.\n",
            "        Answer: Comets contributed ice to create Earth's oceans.\n",
            "        \n",
            "        Question: What occurs with osmotic diarrhea? Context: Too much water drawn into bowels.\n",
            "        Answer: Excess water drawn into the bowels occurs.\n",
            "        \n",
            "        Question: Premier League's name outside UK? Context: Commonly called English Premier League (EPL).\n",
            "        Answer: The English Premier League (EPL) is its common name.\n",
            "        \n",
            "        Question: Industrial music's name origin? Context: Throbbing Gristle's Industrial Records label.\n",
            "        Answer: Industrial Records (Throbbing Gristle's label) gave the name.\n",
            "        \n",
            "        Question: Who recorded \"You Really Got Me\"? Context: The Kinks' 1964 version.\n",
            "        Answer: The Kinks recorded \"You Really Got Me\".\n",
            "\n",
            "        Question: How is the filament attached to the bulb? Context: The filament and its supports are assembled on a glass stem, which is fused to the bulb.\n",
            "        Answer:\n",
            "        \"\"\"\n",
            "        # TODO: Implement the function\n",
            "        pass\n",
            "\n",
            "    def get_question_answer_pairs(self, question_text, answer_text):\n",
            "        \"\"\"\n",
            "        Given a question and an answer, return a list \n"
          ]
        },
        {
          "data": {
            "application/vnd.jupyter.widget-view+json": {
              "model_id": "82c2676e84e64297b4e3b80b5ce9711c",
              "version_major": 2,
              "version_minor": 0
            },
            "text/plain": [
              "Batches:   0%|          | 0/1 [00:00<?, ?it/s]"
            ]
          },
          "metadata": {},
          "output_type": "display_data"
        },
        {
          "name": "stdout",
          "output_type": "stream",
          "text": [
            "Model: Phi-2\n",
            "Question: The desire to explore, record and systematize knowledge had a meaningful impact on what other form of publication?\n",
            "Context: The desire to explore, record and systematize knowledge had a meaningful impact on music publications.\n",
            "Answer:  Answer similar to the following examples\n",
            "        Question: Who wrote The Racial Contract? Context: This led to a challenge to the social contract by philosophers Charles W. Mills in his book The Racial Contract.\n",
            "        Answer: Charles W. Mills wrote The Racial Contract.\n",
            "        \n",
            "        Question: Where was the centre of Argentoratum situated? Context: The centre was on the Grande Île (current Rue du Dôme, Rue des Hallebardes).\n",
            "        Answer: The Grande Île (current Rue du Dôme and Rue des Hallebardes) was the center of Argentoratum.\n",
            "        \n",
            "        Question: Ice from what source helped to create Earth's oceans? Context: Condensing vapor augmented by comet ice.\n",
            "        Answer: Comets contributed ice to create Earth's oceans.\n",
            "        \n",
            "        Question: What occurs with osmotic diarrhea? Context: Too much water drawn into bowels.\n",
            "        Answer: Excess water drawn into the bowels occurs.\n",
            "        \n",
            "        Question: Premier League's name outside UK? Context: Commonly called English Premier League (EPL).\n",
            "        Answer: The English Premier League (EPL) is its common name.\n",
            "        \n",
            "        Question: Industrial music's name origin? Context: Throbbing Gristle's Industrial Records label.\n",
            "        Answer: Industrial Records (Throbbing Gristle's label) gave the name.\n",
            "        \n",
            "        Question: Who recorded \"You Really Got Me\"? Context: The Kinks' 1964 version.\n",
            "        Answer: The Kinks recorded \"You Really Got Me\".\n",
            "\n",
            "        Question: The desire to explore, record and systematize knowledge had a meaningful impact on what other form of publication? Context: The desire to explore, record and systematize knowledge had a meaningful impact on music publications.\n",
            "        Answer:\n",
            "        \n",
            "        Question: What is the name of the first album by the Kinks? Context: The Kinks' first album was called \"Kinks\".\n",
            "        Answer: The Kinks' first album was called \"Kinks\".\n",
            "        \n",
            " \n"
          ]
        },
        {
          "data": {
            "application/vnd.jupyter.widget-view+json": {
              "model_id": "e750e7efd3ad461e8f1f812c40385801",
              "version_major": 2,
              "version_minor": 0
            },
            "text/plain": [
              "Batches:   0%|          | 0/1 [00:00<?, ?it/s]"
            ]
          },
          "metadata": {},
          "output_type": "display_data"
        },
        {
          "name": "stdout",
          "output_type": "stream",
          "text": [
            "Model: Phi-2\n",
            "Question: Which individual did the populares part have an allegiance with?\n",
            "Context: The populares party took full advantage of this opportunity by allying itself with Marius.\n",
            "Answer:  Answer similar to the following examples\n",
            "        Question: Who wrote The Racial Contract? Context: This led to a challenge to the social contract by philosophers Charles W. Mills in his book The Racial Contract.\n",
            "        Answer: Charles W. Mills wrote The Racial Contract.\n",
            "        \n",
            "        Question: Where was the centre of Argentoratum situated? Context: The centre was on the Grande Île (current Rue du Dôme, Rue des Hallebardes).\n",
            "        Answer: The Grande Île (current Rue du Dôme and Rue des Hallebardes) was the center of Argentoratum.\n",
            "        \n",
            "        Question: Ice from what source helped to create Earth's oceans? Context: Condensing vapor augmented by comet ice.\n",
            "        Answer: Comets contributed ice to create Earth's oceans.\n",
            "        \n",
            "        Question: What occurs with osmotic diarrhea? Context: Too much water drawn into bowels.\n",
            "        Answer: Excess water drawn into the bowels occurs.\n",
            "        \n",
            "        Question: Premier League's name outside UK? Context: Commonly called English Premier League (EPL).\n",
            "        Answer: The English Premier League (EPL) is its common name.\n",
            "        \n",
            "        Question: Industrial music's name origin? Context: Throbbing Gristle's Industrial Records label.\n",
            "        Answer: Industrial Records (Throbbing Gristle's label) gave the name.\n",
            "        \n",
            "        Question: Who recorded \"You Really Got Me\"? Context: The Kinks' 1964 version.\n",
            "        Answer: The Kinks recorded \"You Really Got Me\".\n",
            "\n",
            "        Question: Which individual did the populares part have an allegiance with? Context: The populares party took full advantage of this opportunity by allying itself with Marius.\n",
            "        Answer:\n",
            "        \"\"\"\n",
            "        # TODO: Implement this function\n",
            "        pass\n",
            "\n",
            "    def get_question_answer_pairs(self, question_text, answer_text):\n",
            "        \"\"\"\n",
            "        Given a question and an answer, return a list \n"
          ]
        },
        {
          "data": {
            "application/vnd.jupyter.widget-view+json": {
              "model_id": "8257d927b6ad4d3a9c5b29f8602674a5",
              "version_major": 2,
              "version_minor": 0
            },
            "text/plain": [
              "Batches:   0%|          | 0/1 [00:00<?, ?it/s]"
            ]
          },
          "metadata": {},
          "output_type": "display_data"
        },
        {
          "name": "stdout",
          "output_type": "stream",
          "text": [
            "Model: Phi-2\n",
            "Question: Madonna sold how many albums worldwide?\n",
            "Context: Madonna has sold more than 300 million records worldwide.\n",
            "Answer:  Answer similar to the following examples\n",
            "        Question: Who wrote The Racial Contract? Context: This led to a challenge to the social contract by philosophers Charles W. Mills in his book The Racial Contract.\n",
            "        Answer: Charles W. Mills wrote The Racial Contract.\n",
            "        \n",
            "        Question: Where was the centre of Argentoratum situated? Context: The centre was on the Grande Île (current Rue du Dôme, Rue des Hallebardes).\n",
            "        Answer: The Grande Île (current Rue du Dôme and Rue des Hallebardes) was the center of Argentoratum.\n",
            "        \n",
            "        Question: Ice from what source helped to create Earth's oceans? Context: Condensing vapor augmented by comet ice.\n",
            "        Answer: Comets contributed ice to create Earth's oceans.\n",
            "        \n",
            "        Question: What occurs with osmotic diarrhea? Context: Too much water drawn into bowels.\n",
            "        Answer: Excess water drawn into the bowels occurs.\n",
            "        \n",
            "        Question: Premier League's name outside UK? Context: Commonly called English Premier League (EPL).\n",
            "        Answer: The English Premier League (EPL) is its common name.\n",
            "        \n",
            "        Question: Industrial music's name origin? Context: Throbbing Gristle's Industrial Records label.\n",
            "        Answer: Industrial Records (Throbbing Gristle's label) gave the name.\n",
            "        \n",
            "        Question: Who recorded \"You Really Got Me\"? Context: The Kinks' 1964 version.\n",
            "        Answer: The Kinks recorded \"You Really Got Me\".\n",
            "\n",
            "        Question: Madonna sold how many albums worldwide? Context: Madonna has sold more than 300 million records worldwide.\n",
            "        Answer:\n",
            "        \"\"\"\n",
            "        # TODO: Implement the function\n",
            "        pass\n",
            "\n",
            "    def get_top_n_answers(self, question, context, n=5):\n",
            "        \"\"\"\n",
            "        Given a question and context, return the top \n"
          ]
        },
        {
          "data": {
            "application/vnd.jupyter.widget-view+json": {
              "model_id": "0f8eca36849f4dc3ac5ab56d5aea22b4",
              "version_major": 2,
              "version_minor": 0
            },
            "text/plain": [
              "Batches:   0%|          | 0/1 [00:00<?, ?it/s]"
            ]
          },
          "metadata": {},
          "output_type": "display_data"
        },
        {
          "name": "stdout",
          "output_type": "stream",
          "text": [
            "Model: Phi-2\n",
            "Question: What nation influenced the Crusaders mosaic styles?\n",
            "Context: The Crusaders in the Holy Land also adopted mosaic decoration under local Byzantine influence.\n",
            "Answer:  Answer similar to the following examples\n",
            "        Question: Who wrote The Racial Contract? Context: This led to a challenge to the social contract by philosophers Charles W. Mills in his book The Racial Contract.\n",
            "        Answer: Charles W. Mills wrote The Racial Contract.\n",
            "        \n",
            "        Question: Where was the centre of Argentoratum situated? Context: The centre was on the Grande Île (current Rue du Dôme, Rue des Hallebardes).\n",
            "        Answer: The Grande Île (current Rue du Dôme and Rue des Hallebardes) was the center of Argentoratum.\n",
            "        \n",
            "        Question: Ice from what source helped to create Earth's oceans? Context: Condensing vapor augmented by comet ice.\n",
            "        Answer: Comets contributed ice to create Earth's oceans.\n",
            "        \n",
            "        Question: What occurs with osmotic diarrhea? Context: Too much water drawn into bowels.\n",
            "        Answer: Excess water drawn into the bowels occurs.\n",
            "        \n",
            "        Question: Premier League's name outside UK? Context: Commonly called English Premier League (EPL).\n",
            "        Answer: The English Premier League (EPL) is its common name.\n",
            "        \n",
            "        Question: Industrial music's name origin? Context: Throbbing Gristle's Industrial Records label.\n",
            "        Answer: Industrial Records (Throbbing Gristle's label) gave the name.\n",
            "        \n",
            "        Question: Who recorded \"You Really Got Me\"? Context: The Kinks' 1964 version.\n",
            "        Answer: The Kinks recorded \"You Really Got Me\".\n",
            "\n",
            "        Question: What nation influenced the Crusaders mosaic styles? Context: The Crusaders in the Holy Land also adopted mosaic decoration under local Byzantine influence.\n",
            "        Answer:\n",
            "        \"\"\"\n",
            "        # TODO: Implement this function\n",
            "        pass\n",
            "\n",
            "    def get_question_answer_pairs(self, question_texts, answer_texts):\n",
            "        \"\"\"\n",
            "        Given a list of question texts and a \n"
          ]
        },
        {
          "data": {
            "application/vnd.jupyter.widget-view+json": {
              "model_id": "29f20dcb12a243e89188bfbf82da59b8",
              "version_major": 2,
              "version_minor": 0
            },
            "text/plain": [
              "Batches:   0%|          | 0/1 [00:00<?, ?it/s]"
            ]
          },
          "metadata": {},
          "output_type": "display_data"
        },
        {
          "name": "stdout",
          "output_type": "stream",
          "text": [
            "Model: Phi-2\n",
            "Question: In what year was it known as CBS Records?\n",
            "Context: In 1966, the company was reorganized to become CBS Records.\n",
            "Answer:  Answer similar to the following examples\n",
            "        Question: Who wrote The Racial Contract? Context: This led to a challenge to the social contract by philosophers Charles W. Mills in his book The Racial Contract.\n",
            "        Answer: Charles W. Mills wrote The Racial Contract.\n",
            "        \n",
            "        Question: Where was the centre of Argentoratum situated? Context: The centre was on the Grande Île (current Rue du Dôme, Rue des Hallebardes).\n",
            "        Answer: The Grande Île (current Rue du Dôme and Rue des Hallebardes) was the center of Argentoratum.\n",
            "        \n",
            "        Question: Ice from what source helped to create Earth's oceans? Context: Condensing vapor augmented by comet ice.\n",
            "        Answer: Comets contributed ice to create Earth's oceans.\n",
            "        \n",
            "        Question: What occurs with osmotic diarrhea? Context: Too much water drawn into bowels.\n",
            "        Answer: Excess water drawn into the bowels occurs.\n",
            "        \n",
            "        Question: Premier League's name outside UK? Context: Commonly called English Premier League (EPL).\n",
            "        Answer: The English Premier League (EPL) is its common name.\n",
            "        \n",
            "        Question: Industrial music's name origin? Context: Throbbing Gristle's Industrial Records label.\n",
            "        Answer: Industrial Records (Throbbing Gristle's label) gave the name.\n",
            "        \n",
            "        Question: Who recorded \"You Really Got Me\"? Context: The Kinks' 1964 version.\n",
            "        Answer: The Kinks recorded \"You Really Got Me\".\n",
            "\n",
            "        Question: In what year was it known as CBS Records? Context: In 1966, the company was reorganized to become CBS Records.\n",
            "        Answer:\n",
            "        \"\"\"\n",
            "        # TODO: Implement this function\n",
            "        pass\n",
            "\n",
            "    def get_question_answer_pairs(self, question_texts, answer_texts):\n",
            "        \"\"\"\n",
            "        Given a list of question texts and a \n"
          ]
        },
        {
          "data": {
            "application/vnd.jupyter.widget-view+json": {
              "model_id": "729542166d7841c384b9cbb0c67246a0",
              "version_major": 2,
              "version_minor": 0
            },
            "text/plain": [
              "Batches:   0%|          | 0/1 [00:00<?, ?it/s]"
            ]
          },
          "metadata": {},
          "output_type": "display_data"
        },
        {
          "name": "stdout",
          "output_type": "stream",
          "text": [
            "Model: Phi-2\n",
            "Question: What is one benefit of transferring an older format to a newer format?\n",
            "Context: Where old disc recordings are considered to be of artistic or historic interest, from before the era of tape or where no tape master exists, archivists play back the disc on suitable equipment and record the result, typically onto a digital format, which can be copied and manipulated to remove analog flaws without any further damage to the source recording.\n",
            "Answer:  Answer similar to the following examples\n",
            "        Question: Who wrote The Racial Contract? Context: This led to a challenge to the social contract by philosophers Charles W. Mills in his book The Racial Contract.\n",
            "        Answer: Charles W. Mills wrote The Racial Contract.\n",
            "        \n",
            "        Question: Where was the centre of Argentoratum situated? Context: The centre was on the Grande Île (current Rue du Dôme, Rue des Hallebardes).\n",
            "        Answer: The Grande Île (current Rue du Dôme and Rue des Hallebardes) was the center of Argentoratum.\n",
            "        \n",
            "        Question: Ice from what source helped to create Earth's oceans? Context: Condensing vapor augmented by comet ice.\n",
            "        Answer: Comets contributed ice to create Earth's oceans.\n",
            "        \n",
            "        Question: What occurs with osmotic diarrhea? Context: Too much water drawn into bowels.\n",
            "        Answer: Excess water drawn into the bowels occurs.\n",
            "        \n",
            "        Question: Premier League's name outside UK? Context: Commonly called English Premier League (EPL).\n",
            "        Answer: The English Premier League (EPL) is its common name.\n",
            "        \n",
            "        Question: Industrial music's name origin? Context: Throbbing Gristle's Industrial Records label.\n",
            "        Answer: Industrial Records (Throbbing Gristle's label) gave the name.\n",
            "        \n",
            "        Question: Who recorded \"You Really Got Me\"? Context: The Kinks' 1964 version.\n",
            "        Answer: The Kinks recorded \"You Really Got Me\".\n",
            "\n",
            "        Question: What is one benefit of transferring an older format to a newer format? Context: Where old disc recordings are considered to be of artistic or historic interest, from before the era of tape or where no tape master exists, archivists play back the disc on suitable equipment and record the result, typically onto a digital format, which can be copied and manipulated to remove analog flaws without any further damage to the source recording.\n",
            "        Answer:\n",
            "        \n",
            "        Question: What is the name of the first album by the Kinks? Context: The Kinks' first album was called \"Kinks\".\n",
            "        Answer: The Kinks' first album was called \"Kinks\".\n",
            "        \n",
            " \n"
          ]
        },
        {
          "data": {
            "application/vnd.jupyter.widget-view+json": {
              "model_id": "18ceeebd66e34fa0995d9b2f3a88123d",
              "version_major": 2,
              "version_minor": 0
            },
            "text/plain": [
              "Batches:   0%|          | 0/1 [00:00<?, ?it/s]"
            ]
          },
          "metadata": {},
          "output_type": "display_data"
        },
        {
          "name": "stdout",
          "output_type": "stream",
          "text": [
            "Model: Phi-2\n",
            "Question: What is the doctrine that says that the mind and only the mind are real?\n",
            "Context: While the Mādhyamaka school held that asserting the existence or non-existence of any ultimately real thing was inappropriate, some exponents of Yogacara asserted that the mind and only the mind is ultimately real (a doctrine known as cittamatra).\n",
            "Answer:  Answer similar to the following examples\n",
            "        Question: Who wrote The Racial Contract? Context: This led to a challenge to the social contract by philosophers Charles W. Mills in his book The Racial Contract.\n",
            "        Answer: Charles W. Mills wrote The Racial Contract.\n",
            "        \n",
            "        Question: Where was the centre of Argentoratum situated? Context: The centre was on the Grande Île (current Rue du Dôme, Rue des Hallebardes).\n",
            "        Answer: The Grande Île (current Rue du Dôme and Rue des Hallebardes) was the center of Argentoratum.\n",
            "        \n",
            "        Question: Ice from what source helped to create Earth's oceans? Context: Condensing vapor augmented by comet ice.\n",
            "        Answer: Comets contributed ice to create Earth's oceans.\n",
            "        \n",
            "        Question: What occurs with osmotic diarrhea? Context: Too much water drawn into bowels.\n",
            "        Answer: Excess water drawn into the bowels occurs.\n",
            "        \n",
            "        Question: Premier League's name outside UK? Context: Commonly called English Premier League (EPL).\n",
            "        Answer: The English Premier League (EPL) is its common name.\n",
            "        \n",
            "        Question: Industrial music's name origin? Context: Throbbing Gristle's Industrial Records label.\n",
            "        Answer: Industrial Records (Throbbing Gristle's label) gave the name.\n",
            "        \n",
            "        Question: Who recorded \"You Really Got Me\"? Context: The Kinks' 1964 version.\n",
            "        Answer: The Kinks recorded \"You Really Got Me\".\n",
            "\n",
            "        Question: What is the doctrine that says that the mind and only the mind are real? Context: While the Mādhyamaka school held that asserting the existence or non-existence of any ultimately real thing was inappropriate, some exponents of Yogacara asserted that the mind and only the mind is ultimately real (a doctrine known as cittamatra).\n",
            "        Answer:\n",
            "        \"\"\"\n",
            "        # TODO: Implement this function\n",
            "        pass\n",
            "\n",
            "    def get_question_answer_pairs(self, question_text, answer_text):\n",
            "        \"\"\"\n",
            "        Given a question and an answer, return a list \n"
          ]
        },
        {
          "data": {
            "application/vnd.jupyter.widget-view+json": {
              "model_id": "331aea2083104f1cb73a88e8072073ac",
              "version_major": 2,
              "version_minor": 0
            },
            "text/plain": [
              "Batches:   0%|          | 0/1 [00:00<?, ?it/s]"
            ]
          },
          "metadata": {},
          "output_type": "display_data"
        },
        {
          "name": "stdout",
          "output_type": "stream",
          "text": [
            "Model: Phi-2\n",
            "Question: When did Favre make the declaration concerning colonial territories?\n",
            "Context: While the republican government was amenable to war reparations or ceding colonial territories in Africa or in South East Asia to Prussia, Favre on behalf of the Government of National Defense, declared on 6 September that France would not \"yield an inch of its territory nor a stone of its fortresses.\"\n",
            "Answer:  Answer similar to the following examples\n",
            "        Question: Who wrote The Racial Contract? Context: This led to a challenge to the social contract by philosophers Charles W. Mills in his book The Racial Contract.\n",
            "        Answer: Charles W. Mills wrote The Racial Contract.\n",
            "        \n",
            "        Question: Where was the centre of Argentoratum situated? Context: The centre was on the Grande Île (current Rue du Dôme, Rue des Hallebardes).\n",
            "        Answer: The Grande Île (current Rue du Dôme and Rue des Hallebardes) was the center of Argentoratum.\n",
            "        \n",
            "        Question: Ice from what source helped to create Earth's oceans? Context: Condensing vapor augmented by comet ice.\n",
            "        Answer: Comets contributed ice to create Earth's oceans.\n",
            "        \n",
            "        Question: What occurs with osmotic diarrhea? Context: Too much water drawn into bowels.\n",
            "        Answer: Excess water drawn into the bowels occurs.\n",
            "        \n",
            "        Question: Premier League's name outside UK? Context: Commonly called English Premier League (EPL).\n",
            "        Answer: The English Premier League (EPL) is its common name.\n",
            "        \n",
            "        Question: Industrial music's name origin? Context: Throbbing Gristle's Industrial Records label.\n",
            "        Answer: Industrial Records (Throbbing Gristle's label) gave the name.\n",
            "        \n",
            "        Question: Who recorded \"You Really Got Me\"? Context: The Kinks' 1964 version.\n",
            "        Answer: The Kinks recorded \"You Really Got Me\".\n",
            "\n",
            "        Question: When did Favre make the declaration concerning colonial territories? Context: While the republican government was amenable to war reparations or ceding colonial territories in Africa or in South East Asia to Prussia, Favre on behalf of the Government of National Defense, declared on 6 September that France would not \"yield an inch of its territory nor a stone of its fortresses.\"\n",
            "        Answer:\n",
            "        \"\"\"\n",
            "        # TODO: Implement the function\n",
            "        pass\n",
            "\n",
            "    def get_question_answer_pairs(self, question_text, answer_text):\n",
            "        \"\"\"\n",
            "        Given a question and an answer, return a list \n"
          ]
        },
        {
          "data": {
            "application/vnd.jupyter.widget-view+json": {
              "model_id": "50dce3e2e8054ab991a628cd13b211cb",
              "version_major": 2,
              "version_minor": 0
            },
            "text/plain": [
              "Batches:   0%|          | 0/1 [00:00<?, ?it/s]"
            ]
          },
          "metadata": {},
          "output_type": "display_data"
        }
      ],
      "source": [
        "import numpy as np\n",
        "import pandas as pd\n",
        "import torch\n",
        "import torch.nn.functional as F\n",
        "from transformers import AutoModelForCausalLM, AutoModelForSeq2SeqLM, AutoTokenizer\n",
        "from sentence_transformers import SentenceTransformer\n",
        "import json\n",
        "\n",
        "# Initialize semantic similarity scorer\n",
        "scorer = SentenceTransformer('all-MiniLM-L6-v2')\n",
        "\n",
        "# Model configuration with architecture specification\n",
        "models = {\n",
        "    # Instruct Models\n",
        "    # \"Mistral-7B-Instruct\": (\"TheBloke/Mistral-7B-Instruct-v0.2-GPTQ\", \"causal\", \"instruct\"),\n",
        "    \"FLAN-T5-Base\": (\"google/flan-t5-base\", \"seq2seq\", \"instruct\"),\n",
        "    # Non-Instruct Models\n",
        "    # \"Mistralai/Mistral-7B-v0.1\": (\"mistralai/Mistral-7B-v0.1\", \"causal\", \"non-instruct\"),\n",
        "    # \"Tiiuae/Falcon-1b\":(\"tiiuae/falcon-1b\", \"causal\", \"non-instruct\"),\n",
        "    \"DistilGPT-2\": (\"distilgpt2\", \"causal\", \"non-instruct\"),\n",
        "    # \"Mosaicml/Mpt-7b\":(\"mosaicml/mpt-7b\", \"causal\", \"non-instruct\"),\n",
        "    \"Phi-2\": (\"microsoft/phi-2\", \"causal\", \"non-instruct\")\n",
        "}\n",
        "\n",
        "device = torch.device(\"cuda\" if torch.cuda.is_available() else \"cpu\")\n",
        "results = []\n",
        "\n",
        "import random\n",
        "\n",
        "def iterate_minibatches(data, batch_size, shuffle=True, cycle=False):\n",
        "    \"\"\"\n",
        "    Generates minibatches of triples: {questions, correct answers, wrong answers}\n",
        "    If there are several wrong (or correct) answers, picks one at random.\n",
        "    \"\"\"\n",
        "    indices = np.arange(len(data))\n",
        "    while True:\n",
        "        if shuffle:\n",
        "            indices = np.random.permutation(indices)\n",
        "        for batch_start in range(0, len(indices), batch_size):\n",
        "            batch_indices = indices[batch_start: batch_start + batch_size]\n",
        "            batch = data.iloc[batch_indices]\n",
        "            questions = batch['question'].values\n",
        "            correct_answers = np.array([\n",
        "                row['options'][random.choice(row['correct_indices'])]\n",
        "                for i, row in batch.iterrows()\n",
        "            ])\n",
        "            wrong_answers = np.array([\n",
        "                row['options'][random.choice(row['wrong_indices'])]\n",
        "                for i, row in batch.iterrows()\n",
        "            ])\n",
        "\n",
        "            yield {\n",
        "                'questions' : questions,\n",
        "                'correct_answers': correct_answers,\n",
        "                'wrong_answers': wrong_answers,\n",
        "            }\n",
        "        if not cycle:\n",
        "            break\n",
        "\n",
        "def format_prompt(model_arch, model_type, context, question):\n",
        "    \"\"\"Format prompt based on model architecture and type\"\"\"\n",
        "    if model_type == \"instruct\":\n",
        "            messages = [\n",
        "                {\"role\": \"user\", \"content\": \"Question: Who wrote The Racial Contract?\\nContext: This led to a challenge to the social contract by philosophers Charles W. Mills in his book The Racial Contract and Carole Patemen in her book The Sexual Contract that the social contract excluded persons of colour and women respectively.\"},\n",
        "                {\"role\": \"assistant\", \"content\": \"Charles W. Mills wrote The Racial Contract.\"},\n",
        "\n",
        "                {\"role\": \"user\", \"content\": \"Question: Where was the centre of Argentoratum situated?\\nContext: The centre of Argentoratum proper was situated on the Grande Île (Cardo: current Rue du Dôme, Decumanus: current Rue des Hallebardes).\"},\n",
        "                {\"role\": \"assistant\", \"content\": \"The Grande Île (current Rue du Dôme and Rue des Hallebardes) was the center of Argentoratum.\"},\n",
        "\n",
        "                {\"role\": \"user\", \"content\": \"Question: Ice from what source helped to create Earth's oceans?\\nContext: Condensing water vapor, augmented by ice delivered from comets, produced the oceans.\"},\n",
        "                {\"role\": \"assistant\", \"content\": \"Comets contributed ice to create Earth's oceans.\"},\n",
        "\n",
        "                {\"role\": \"user\", \"content\": \"Question: What occurs with osmotic diarrhea?\\nContext: Osmotic diarrhea occurs when too much water is drawn into the bowels.\"},\n",
        "                {\"role\": \"assistant\", \"content\": \"Excess water drawn into the bowels occurs in osmotic diarrhea.\"},\n",
        "\n",
        "                {\"role\": \"user\", \"content\": \"Question: What is the Premier League commonly referred to outside the UK?\\nContext: Outside the UK it is commonly referred to as the English Premier League (EPL).\"},\n",
        "                {\"role\": \"assistant\", \"content\": \"The English Premier League (EPL) is its common name outside the UK.\"},\n",
        "\n",
        "                {\"role\": \"user\", \"content\": \"Question: Where did industrial music get its name?\\nContext: Throbbing Gristle's independent label Industrial Records would become a hub for this scene and provide it with its namesake.\"},\n",
        "                {\"role\": \"assistant\", \"content\": \"Industrial Records (Throbbing Gristle's label) gave industrial music its name.\"},\n",
        "\n",
        "                {\"role\": \"user\", \"content\": \"Question: Who recorded \\\"You Really Got Me\\\"?\\nContext: Early forms of hard rock can be heard in the work of Chicago blues musicians Elmore James, Muddy Waters, and Howlin' Wolf, The Kingsmen's version of \\\"Louie Louie\\\" (1963) which made it a garage rock standard, and the songs of rhythm and blues influenced British Invasion acts, including \\\"You Really Got Me\\\" by The Kinks (1964).\"},\n",
        "                {\"role\": \"assistant\", \"content\": \"The Kinks recorded \\\"You Really Got Me\\\".\"},\n",
        "\n",
        "                {\"role\": \"user\", \"content\": \"Question: What executive initially led the Arctic drilling project?\\nContext: At inception, the project was led by Pete Slaiby, a Shell executive who had previously worked in the North Sea.\"},\n",
        "                {\"role\": \"assistant\", \"content\": \"Pete Slaiby (Shell executive) initially led the Arctic drilling project.\"},\n",
        "\n",
        "                {\"role\": \"user\", \"content\": \"Question: In a direct review, what type of court looks at the record?\\nContext: An appellate court examines the record of evidence presented in the trial court and the law that the lower court applied and decides whether the decision was legally sound or not.\"},\n",
        "                {\"role\": \"assistant\", \"content\": \"An appellate court reviews records in direct review cases.\"},\n",
        "\n",
        "                {\"role\": \"user\", \"content\": \"Question: Whose responsibility is it to conduct meetings and decide action for cases involving sexual misconduct?\\nContext: Elders maintain general responsibility for congregational governance, setting meeting times, selecting speakers and conducting meetings, directing the public preaching work, and creating \\\"judicial committees\\\" to investigate and decide disciplinary action for cases involving sexual misconduct or doctrinal breaches.\"},\n",
        "                {\"role\": \"assistant\", \"content\": \"Elders conduct meetings for sexual misconduct cases.\"},\n",
        "\n",
        "                {\"role\": \"user\", \"content\": \"Question: What do Ethnoarchaeologists gain a better understanding of by studying living human groups?\\nContext: Ethnoarchaeology is a type of archaeology that studies the practices and material remains of living human groups in order to gain a better understanding of the evidence left behind by past human groups, who are presumed to have lived in similar ways.\"},\n",
        "                {\"role\": \"assistant\", \"content\": \"Past human practices are better understood via ethnoarchaeology.\"},\n",
        "\n",
        "                {\"role\": \"user\", \"content\": \"Question: In what form is the information or content sent in a simple model?\\nContext: A message in natural language is sent in some form (as spoken language) from an emisor/sender/encoder to a destination/receiver/decoder.\"},\n",
        "                {\"role\": \"assistant\", \"content\": \"Natural language (e.g., spoken words) is used in simple models.\"},\n",
        "\n",
        "                {\"role\": \"user\", \"content\": \"Question: What three departments of the inner suburbs are included in the metropole?\\nContext: It includes the City of Paris, plus the communes of the three departments of the inner suburbs: Hauts-de-Seine, Seine-Saint-Denis and Val-de-Marne.\"},\n",
        "                {\"role\": \"assistant\", \"content\": \"Hauts-de-Seine, Seine-Saint-Denis, and Val-de-Marne are included.\"},\n",
        "\n",
        "                {\"role\": \"user\", \"content\": \"Question: From where did the ideology of the Liberals stem?\\nContext: More broadly, the Liberal Party's ideological ancestry stretched back to the anti-Labor groupings in the first Commonwealth parliaments.\"},\n",
        "                {\"role\": \"assistant\", \"content\": \"Anti-Labor Commonwealth groupings inspired Liberal ideology.\"},\n",
        "\n",
        "                {\"role\": \"user\", \"content\": \"Question: What did the Tuvalu Prime Minister say was not enough of an immediate threat to cause evacuation of the population?\\nContext: In 2006 Maatia Toafa (Prime Minister from 2004–2006) said his government did not regard rising sea levels as such a threat that the entire population would need to be evacuated.\"},\n",
        "                {\"role\": \"assistant\", \"content\": \"Rising sea levels were deemed insufficiently urgent by Prime Minister Maatia Toafa.\"},\n",
        "\n",
        "                {\"role\": \"user\", \"content\": \"Question: In 1995, who decided to manage the girls singing group?\\nContext: In 1995 Beyoncé's father resigned from his job to manage the group.\"},\n",
        "                {\"role\": \"assistant\", \"content\": \"Beyoncé's father managed the girls' group in 1995.\"},\n",
        "\n",
        "                {\"role\": \"user\", \"content\": \"Question: Which parts of annelids are different from true segments?\\nContext: The frontmost and rearmost sections are not regarded as true segments as they do not contain the standard sets of organs and do not develop in the same way as the true segments.\"},\n",
        "                {\"role\": \"assistant\", \"content\": \"Frontmost/rearmost sections differ from true annelid segments.\"},\n",
        "\n",
        "                {\"role\": \"user\", \"content\": \"Question: Why was secondary school introduced in the U.S?\\nContext: Secondary education in the United States did not emerge until 1910, with the rise of large corporations and advancing technology in factories, which required skilled workers.\"},\n",
        "                {\"role\": \"assistant\", \"content\": \"Skilled labor demands (1910 factories/corporations) prompted U.S. secondary schools.\"},\n",
        "\n",
        "                {\"role\": \"user\", \"content\": \"Question: When did the Arabs invade Iran?\\nContext: The prolonged Byzantine-Sassanid Wars opened the way for an Arab invasion to Iran in the 7th century.\"},\n",
        "                {\"role\": \"assistant\", \"content\": \"7th century Arab invasion occurred during Byzantine-Sassanid conflicts.\"},\n",
        "\n",
        "                {\"role\": \"user\", \"content\": \"Question: What has been more prominently reported in recent years in Saint Helena?\\nContext: There have been reports of child abuse in St Helena.\"},\n",
        "                {\"role\": \"assistant\", \"content\": \"Child abuse reports have risen in Saint Helena recently.\"},\n",
        "                {\"role\": \"user\", \"content\": f\"Question: {question}\\nContext:\\n{context}\"}\n",
        "                        ]\n",
        "            return messages\n",
        "\n",
        "\n",
        "\n",
        "    else:\n",
        "        qa_text = f\"\"\" Answer similar to the following examples\n",
        "        Question: Who wrote The Racial Contract? Context: This led to a challenge to the social contract by philosophers Charles W. Mills in his book The Racial Contract.\n",
        "        Answer: Charles W. Mills wrote The Racial Contract.\n",
        "\n",
        "        Question: Where was the centre of Argentoratum situated? Context: The centre was on the Grande Île (current Rue du Dôme, Rue des Hallebardes).\n",
        "        Answer: The Grande Île (current Rue du Dôme and Rue des Hallebardes) was the center of Argentoratum.\n",
        "\n",
        "        Question: Ice from what source helped to create Earth's oceans? Context: Condensing vapor augmented by comet ice.\n",
        "        Answer: Comets contributed ice to create Earth's oceans.\n",
        "\n",
        "        Question: What occurs with osmotic diarrhea? Context: Too much water drawn into bowels.\n",
        "        Answer: Excess water drawn into the bowels occurs.\n",
        "\n",
        "        Question: Premier League's name outside UK? Context: Commonly called English Premier League (EPL).\n",
        "        Answer: The English Premier League (EPL) is its common name.\n",
        "\n",
        "        Question: Industrial music's name origin? Context: Throbbing Gristle's Industrial Records label.\n",
        "        Answer: Industrial Records (Throbbing Gristle's label) gave the name.\n",
        "\n",
        "        Question: Who recorded \"You Really Got Me\"? Context: The Kinks' 1964 version.\n",
        "        Answer: The Kinks recorded \"You Really Got Me\".\n",
        "\n",
        "        Question: {question} Context: {context}\n",
        "        Answer:\n",
        "        \"\"\"\n",
        "        #Couldn't add more examples as it is giving error.\n",
        "        return qa_text\n",
        "\n",
        "# Main evaluation loop\n",
        "for model_name, (model_id, arch, model_type) in models.items():\n",
        "    print(f\"\\nEvaluating {model_name}...\")\n",
        "\n",
        "    try:\n",
        "        # Load tokenizer and model\n",
        "        tokenizer = AutoTokenizer.from_pretrained(model_id)\n",
        "\n",
        "        # Load correct model class based on architecture\n",
        "        if arch == \"causal\":\n",
        "            model = AutoModelForCausalLM.from_pretrained(\n",
        "                model_id,\n",
        "                # device_map='auto',\n",
        "                torch_dtype=torch.float16,\n",
        "                low_cpu_mem_usage=True,\n",
        "                offload_state_dict=True).to(device)\n",
        "            if tokenizer.pad_token is None:\n",
        "                tokenizer.pad_token = tokenizer.eos_token\n",
        "        elif arch == \"seq2seq\":\n",
        "            model = AutoModelForSeq2SeqLM.from_pretrained(model_id).to(device)\n",
        "\n",
        "        model.eval()\n",
        "\n",
        "        semantic_scores = []\n",
        "\n",
        "        # Get test minibatch\n",
        "        minibatch = next(iterate_minibatches(train, batch_size=20))\n",
        "        questions = minibatch['questions']\n",
        "        answers = minibatch['correct_answers']\n",
        "\n",
        "        for question, context in zip(questions, answers):\n",
        "            # Format prompt\n",
        "            prompt = format_prompt(arch, model_type, context, question)\n",
        "            if arch==\"seq2seq\":\n",
        "                # Tokenize and generate\n",
        "                messages_string = json.dumps(prompt, indent=4)\n",
        "                # input_ids = tokenizer.apply_chat_template(\n",
        "                #     prompt,\n",
        "                #     return_tensors=\"pt\"\n",
        "                # ).to(device)\n",
        "                # with torch.no_grad():\n",
        "                #     outputs = model.generate(\n",
        "                #         input_ids,\n",
        "                #         max_new_tokens=50,\n",
        "                #         pad_token_id=tokenizer.pad_token_id or tokenizer.eos_token_id\n",
        "                #     )\n",
        "                inputs = tokenizer(messages_string, return_tensors=\"pt\").to(device)\n",
        "                with torch.no_grad():\n",
        "                        outputs = model.generate(\n",
        "                            inputs.input_ids,\n",
        "                            max_new_tokens=50,\n",
        "                            pad_token_id=tokenizer.pad_token_id or tokenizer.eos_token_id\n",
        "                        )\n",
        "            # Generate response\n",
        "            else:\n",
        "                inputs = tokenizer(prompt, return_tensors=\"pt\").to(device)\n",
        "                with torch.no_grad():\n",
        "                    outputs = model.generate(\n",
        "                        inputs.input_ids,\n",
        "                        max_new_tokens=50,\n",
        "                        pad_token_id=tokenizer.pad_token_id or tokenizer.eos_token_id\n",
        "                    )\n",
        "\n",
        "            # Decode and score\n",
        "            answer = tokenizer.decode(outputs[0], skip_special_tokens=True)\n",
        "            print(f\"Model: {model_name}\\nQuestion: {question}\\nContext: {context}\\nAnswer: {answer} \")\n",
        "            sem_encodings = scorer.encode([answer, context])\n",
        "            sem_score = F.cosine_similarity(\n",
        "                torch.tensor(sem_encodings[0]),\n",
        "                torch.tensor(sem_encodings[1]),\n",
        "                dim=0\n",
        "            ).item()\n",
        "            semantic_scores.append(sem_score)\n",
        "\n",
        "        # Save results\n",
        "        results.append({\n",
        "            \"Model\": model_name,\n",
        "            \"Architecture\": arch.upper(),\n",
        "            \"Type\": model_type.upper(),\n",
        "            \"Semantic Score\": np.mean(semantic_scores),\n",
        "        })\n",
        "\n",
        "    except Exception as e:\n",
        "        print(f\"Error evaluating {model_name}: {str(e)}\")\n",
        "        continue\n",
        "\n"
      ]
    },
    {
      "cell_type": "code",
      "execution_count": null,
      "metadata": {
        "execution": {
          "iopub.execute_input": "2025-05-07T15:44:56.954970Z",
          "iopub.status.busy": "2025-05-07T15:44:56.954246Z",
          "iopub.status.idle": "2025-05-07T15:44:56.993551Z",
          "shell.execute_reply": "2025-05-07T15:44:56.992904Z",
          "shell.execute_reply.started": "2025-05-07T15:44:56.954948Z"
        },
        "id": "yhOb6eAUT9pH",
        "outputId": "01631e7d-e452-492b-c7dc-150e50c43173",
        "trusted": true
      },
      "outputs": [
        {
          "name": "stdout",
          "output_type": "stream",
          "text": [
            "\n",
            "Evaluation Results:\n",
            "| Model        | Architecture   | Type         |   Semantic Score |\n",
            "|:-------------|:---------------|:-------------|-----------------:|\n",
            "| FLAN-T5-Base | SEQ2SEQ        | INSTRUCT     |        0.488178  |\n",
            "| DistilGPT-2  | CAUSAL         | NON-INSTRUCT |        0.056546  |\n",
            "| Phi-2        | CAUSAL         | NON-INSTRUCT |        0.0566531 |\n"
          ]
        }
      ],
      "source": [
        "# Display results\n",
        "if results:\n",
        "    df = pd.DataFrame(results)\n",
        "    print(\"\\nEvaluation Results:\")\n",
        "    print(df[['Model', 'Architecture', 'Type', 'Semantic Score']].to_markdown(index=False))\n",
        "else:\n",
        "    print(\"No models were successfully evaluated.\")"
      ]
    },
    {
      "cell_type": "markdown",
      "metadata": {
        "id": "f1dJ8bGFT9pI"
      },
      "source": [
        "# For some reason, the non-instruct models are not generating properly. Maybe because I used lower end ones. I tried better models, but insuffient memory to load more than one in the system to compare.  "
      ]
    }
  ],
  "metadata": {
    "accelerator": "GPU",
    "colab": {
      "gpuType": "T4",
      "provenance": []
    },
    "kaggle": {
      "accelerator": "nvidiaTeslaT4",
      "dataSources": [],
      "dockerImageVersionId": 31011,
      "isGpuEnabled": true,
      "isInternetEnabled": true,
      "language": "python",
      "sourceType": "notebook"
    },
    "kernelspec": {
      "display_name": "Python 3",
      "language": "python",
      "name": "python3"
    },
    "language_info": {
      "codemirror_mode": {
        "name": "ipython",
        "version": 3
      },
      "file_extension": ".py",
      "mimetype": "text/x-python",
      "name": "python",
      "nbconvert_exporter": "python",
      "pygments_lexer": "ipython3",
      "version": "3.11.11"
    }
  },
  "nbformat": 4,
  "nbformat_minor": 0
}
