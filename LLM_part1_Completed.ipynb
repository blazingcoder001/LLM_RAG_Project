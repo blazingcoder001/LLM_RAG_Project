{
 "cells": [
  {
   "cell_type": "markdown",
   "metadata": {
    "id": "eAahzI9lcLUr"
   },
   "source": [
    "# Practice: question answering with retrieval\n",
    "\n",
    "In this homework you will build a retrieval-based question answering system, one component at a time.\n",
    "\n",
    "_Okay, realistically, there's like, two components, but technically it's one component at a time._\n",
    "\n",
    "\n",
    "![img](https://www.cs.upc.edu/~mlatifi/index_files/qa-logo.jpg)\n",
    "\n",
    "\n",
    "\n",
    "There are two parts to this type of systems: a retriever and a generator.\n",
    "- the retriever subsystem searches for similar texts from a given databse, e.g. wikipedia\n",
    "- the generator uses the texts found by the retriever to generate an answer in natural language\n",
    "\n",
    "_this seminar is based on original notebook by [Oleg Vasilev](https://github.com/Omrigan/)_\n",
    "\n"
   ]
  },
  {
   "cell_type": "code",
   "execution_count": 1,
   "metadata": {
    "execution": {
     "iopub.execute_input": "2025-05-06T23:55:46.329288Z",
     "iopub.status.busy": "2025-05-06T23:55:46.329048Z",
     "iopub.status.idle": "2025-05-06T23:57:05.850240Z",
     "shell.execute_reply": "2025-05-06T23:57:05.849388Z",
     "shell.execute_reply.started": "2025-05-06T23:55:46.329270Z"
    },
    "id": "WDn3WnJa1ZBt",
    "trusted": true
   },
   "outputs": [
    {
     "name": "stdout",
     "output_type": "stream",
     "text": [
      "Requirement already satisfied: accelerate in /usr/local/lib/python3.11/dist-packages (1.3.0)\n",
      "Collecting accelerate\n",
      "  Downloading accelerate-1.6.0-py3-none-any.whl.metadata (19 kB)\n",
      "Requirement already satisfied: numpy<3.0.0,>=1.17 in /usr/local/lib/python3.11/dist-packages (from accelerate) (1.26.4)\n",
      "Requirement already satisfied: packaging>=20.0 in /usr/local/lib/python3.11/dist-packages (from accelerate) (24.2)\n",
      "Requirement already satisfied: psutil in /usr/local/lib/python3.11/dist-packages (from accelerate) (7.0.0)\n",
      "Requirement already satisfied: pyyaml in /usr/local/lib/python3.11/dist-packages (from accelerate) (6.0.2)\n",
      "Requirement already satisfied: torch>=2.0.0 in /usr/local/lib/python3.11/dist-packages (from accelerate) (2.5.1+cu124)\n",
      "Requirement already satisfied: huggingface-hub>=0.21.0 in /usr/local/lib/python3.11/dist-packages (from accelerate) (0.30.2)\n",
      "Requirement already satisfied: safetensors>=0.4.3 in /usr/local/lib/python3.11/dist-packages (from accelerate) (0.5.2)\n",
      "Requirement already satisfied: filelock in /usr/local/lib/python3.11/dist-packages (from huggingface-hub>=0.21.0->accelerate) (3.18.0)\n",
      "Requirement already satisfied: fsspec>=2023.5.0 in /usr/local/lib/python3.11/dist-packages (from huggingface-hub>=0.21.0->accelerate) (2025.3.2)\n",
      "Requirement already satisfied: requests in /usr/local/lib/python3.11/dist-packages (from huggingface-hub>=0.21.0->accelerate) (2.32.3)\n",
      "Requirement already satisfied: tqdm>=4.42.1 in /usr/local/lib/python3.11/dist-packages (from huggingface-hub>=0.21.0->accelerate) (4.67.1)\n",
      "Requirement already satisfied: typing-extensions>=3.7.4.3 in /usr/local/lib/python3.11/dist-packages (from huggingface-hub>=0.21.0->accelerate) (4.13.1)\n",
      "Requirement already satisfied: mkl_fft in /usr/local/lib/python3.11/dist-packages (from numpy<3.0.0,>=1.17->accelerate) (1.3.8)\n",
      "Requirement already satisfied: mkl_random in /usr/local/lib/python3.11/dist-packages (from numpy<3.0.0,>=1.17->accelerate) (1.2.4)\n",
      "Requirement already satisfied: mkl_umath in /usr/local/lib/python3.11/dist-packages (from numpy<3.0.0,>=1.17->accelerate) (0.1.1)\n",
      "Requirement already satisfied: mkl in /usr/local/lib/python3.11/dist-packages (from numpy<3.0.0,>=1.17->accelerate) (2025.1.0)\n",
      "Requirement already satisfied: tbb4py in /usr/local/lib/python3.11/dist-packages (from numpy<3.0.0,>=1.17->accelerate) (2022.1.0)\n",
      "Requirement already satisfied: mkl-service in /usr/local/lib/python3.11/dist-packages (from numpy<3.0.0,>=1.17->accelerate) (2.4.1)\n",
      "Requirement already satisfied: networkx in /usr/local/lib/python3.11/dist-packages (from torch>=2.0.0->accelerate) (3.4.2)\n",
      "Requirement already satisfied: jinja2 in /usr/local/lib/python3.11/dist-packages (from torch>=2.0.0->accelerate) (3.1.6)\n",
      "Requirement already satisfied: nvidia-cuda-nvrtc-cu12==12.4.127 in /usr/local/lib/python3.11/dist-packages (from torch>=2.0.0->accelerate) (12.4.127)\n",
      "Requirement already satisfied: nvidia-cuda-runtime-cu12==12.4.127 in /usr/local/lib/python3.11/dist-packages (from torch>=2.0.0->accelerate) (12.4.127)\n",
      "Requirement already satisfied: nvidia-cuda-cupti-cu12==12.4.127 in /usr/local/lib/python3.11/dist-packages (from torch>=2.0.0->accelerate) (12.4.127)\n",
      "Collecting nvidia-cudnn-cu12==9.1.0.70 (from torch>=2.0.0->accelerate)\n",
      "  Downloading nvidia_cudnn_cu12-9.1.0.70-py3-none-manylinux2014_x86_64.whl.metadata (1.6 kB)\n",
      "Collecting nvidia-cublas-cu12==12.4.5.8 (from torch>=2.0.0->accelerate)\n",
      "  Downloading nvidia_cublas_cu12-12.4.5.8-py3-none-manylinux2014_x86_64.whl.metadata (1.5 kB)\n",
      "Collecting nvidia-cufft-cu12==11.2.1.3 (from torch>=2.0.0->accelerate)\n",
      "  Downloading nvidia_cufft_cu12-11.2.1.3-py3-none-manylinux2014_x86_64.whl.metadata (1.5 kB)\n",
      "Collecting nvidia-curand-cu12==10.3.5.147 (from torch>=2.0.0->accelerate)\n",
      "  Downloading nvidia_curand_cu12-10.3.5.147-py3-none-manylinux2014_x86_64.whl.metadata (1.5 kB)\n",
      "Collecting nvidia-cusolver-cu12==11.6.1.9 (from torch>=2.0.0->accelerate)\n",
      "  Downloading nvidia_cusolver_cu12-11.6.1.9-py3-none-manylinux2014_x86_64.whl.metadata (1.6 kB)\n",
      "Collecting nvidia-cusparse-cu12==12.3.1.170 (from torch>=2.0.0->accelerate)\n",
      "  Downloading nvidia_cusparse_cu12-12.3.1.170-py3-none-manylinux2014_x86_64.whl.metadata (1.6 kB)\n",
      "Requirement already satisfied: nvidia-nccl-cu12==2.21.5 in /usr/local/lib/python3.11/dist-packages (from torch>=2.0.0->accelerate) (2.21.5)\n",
      "Requirement already satisfied: nvidia-nvtx-cu12==12.4.127 in /usr/local/lib/python3.11/dist-packages (from torch>=2.0.0->accelerate) (12.4.127)\n",
      "Collecting nvidia-nvjitlink-cu12==12.4.127 (from torch>=2.0.0->accelerate)\n",
      "  Downloading nvidia_nvjitlink_cu12-12.4.127-py3-none-manylinux2014_x86_64.whl.metadata (1.5 kB)\n",
      "Requirement already satisfied: triton==3.1.0 in /usr/local/lib/python3.11/dist-packages (from torch>=2.0.0->accelerate) (3.1.0)\n",
      "Requirement already satisfied: sympy==1.13.1 in /usr/local/lib/python3.11/dist-packages (from torch>=2.0.0->accelerate) (1.13.1)\n",
      "Requirement already satisfied: mpmath<1.4,>=1.1.0 in /usr/local/lib/python3.11/dist-packages (from sympy==1.13.1->torch>=2.0.0->accelerate) (1.3.0)\n",
      "Requirement already satisfied: MarkupSafe>=2.0 in /usr/local/lib/python3.11/dist-packages (from jinja2->torch>=2.0.0->accelerate) (3.0.2)\n",
      "Requirement already satisfied: intel-openmp<2026,>=2024 in /usr/local/lib/python3.11/dist-packages (from mkl->numpy<3.0.0,>=1.17->accelerate) (2024.2.0)\n",
      "Requirement already satisfied: tbb==2022.* in /usr/local/lib/python3.11/dist-packages (from mkl->numpy<3.0.0,>=1.17->accelerate) (2022.1.0)\n",
      "Requirement already satisfied: tcmlib==1.* in /usr/local/lib/python3.11/dist-packages (from tbb==2022.*->mkl->numpy<3.0.0,>=1.17->accelerate) (1.2.0)\n",
      "Requirement already satisfied: intel-cmplr-lib-rt in /usr/local/lib/python3.11/dist-packages (from mkl_umath->numpy<3.0.0,>=1.17->accelerate) (2024.2.0)\n",
      "Requirement already satisfied: charset-normalizer<4,>=2 in /usr/local/lib/python3.11/dist-packages (from requests->huggingface-hub>=0.21.0->accelerate) (3.4.1)\n",
      "Requirement already satisfied: idna<4,>=2.5 in /usr/local/lib/python3.11/dist-packages (from requests->huggingface-hub>=0.21.0->accelerate) (3.10)\n",
      "Requirement already satisfied: urllib3<3,>=1.21.1 in /usr/local/lib/python3.11/dist-packages (from requests->huggingface-hub>=0.21.0->accelerate) (2.3.0)\n",
      "Requirement already satisfied: certifi>=2017.4.17 in /usr/local/lib/python3.11/dist-packages (from requests->huggingface-hub>=0.21.0->accelerate) (2025.1.31)\n",
      "Requirement already satisfied: intel-cmplr-lib-ur==2024.2.0 in /usr/local/lib/python3.11/dist-packages (from intel-openmp<2026,>=2024->mkl->numpy<3.0.0,>=1.17->accelerate) (2024.2.0)\n",
      "Downloading accelerate-1.6.0-py3-none-any.whl (354 kB)\n",
      "\u001b[2K   \u001b[90m━━━━━━━━━━━━━━━━━━━━━━━━━━━━━━━━━━━━━━━━\u001b[0m \u001b[32m354.7/354.7 kB\u001b[0m \u001b[31m6.7 MB/s\u001b[0m eta \u001b[36m0:00:00\u001b[0mta \u001b[36m0:00:01\u001b[0m\n",
      "\u001b[?25hDownloading nvidia_cublas_cu12-12.4.5.8-py3-none-manylinux2014_x86_64.whl (363.4 MB)\n",
      "\u001b[2K   \u001b[90m━━━━━━━━━━━━━━━━━━━━━━━━━━━━━━━━━━━━━━━━\u001b[0m \u001b[32m363.4/363.4 MB\u001b[0m \u001b[31m4.9 MB/s\u001b[0m eta \u001b[36m0:00:00\u001b[0m0:00:01\u001b[0m00:01\u001b[0m\n",
      "\u001b[?25hDownloading nvidia_cudnn_cu12-9.1.0.70-py3-none-manylinux2014_x86_64.whl (664.8 MB)\n",
      "\u001b[2K   \u001b[90m━━━━━━━━━━━━━━━━━━━━━━━━━━━━━━━━━━━━━━━━\u001b[0m \u001b[32m664.8/664.8 MB\u001b[0m \u001b[31m2.6 MB/s\u001b[0m eta \u001b[36m0:00:00\u001b[0m0:00:01\u001b[0m00:01\u001b[0m\n",
      "\u001b[?25hDownloading nvidia_cufft_cu12-11.2.1.3-py3-none-manylinux2014_x86_64.whl (211.5 MB)\n",
      "\u001b[2K   \u001b[90m━━━━━━━━━━━━━━━━━━━━━━━━━━━━━━━━━━━━━━━━\u001b[0m \u001b[32m211.5/211.5 MB\u001b[0m \u001b[31m7.6 MB/s\u001b[0m eta \u001b[36m0:00:00\u001b[0m0:00:01\u001b[0m00:01\u001b[0m\n",
      "\u001b[?25hDownloading nvidia_curand_cu12-10.3.5.147-py3-none-manylinux2014_x86_64.whl (56.3 MB)\n",
      "\u001b[2K   \u001b[90m━━━━━━━━━━━━━━━━━━━━━━━━━━━━━━━━━━━━━━━━\u001b[0m \u001b[32m56.3/56.3 MB\u001b[0m \u001b[31m31.5 MB/s\u001b[0m eta \u001b[36m0:00:00\u001b[0m:00:01\u001b[0m00:01\u001b[0m\n",
      "\u001b[?25hDownloading nvidia_cusolver_cu12-11.6.1.9-py3-none-manylinux2014_x86_64.whl (127.9 MB)\n",
      "\u001b[2K   \u001b[90m━━━━━━━━━━━━━━━━━━━━━━━━━━━━━━━━━━━━━━━━\u001b[0m \u001b[32m127.9/127.9 MB\u001b[0m \u001b[31m9.3 MB/s\u001b[0m eta \u001b[36m0:00:00\u001b[0m0:00:01\u001b[0m00:01\u001b[0m\n",
      "\u001b[?25hDownloading nvidia_cusparse_cu12-12.3.1.170-py3-none-manylinux2014_x86_64.whl (207.5 MB)\n",
      "\u001b[2K   \u001b[90m━━━━━━━━━━━━━━━━━━━━━━━━━━━━━━━━━━━━━━━━\u001b[0m \u001b[32m207.5/207.5 MB\u001b[0m \u001b[31m8.3 MB/s\u001b[0m eta \u001b[36m0:00:00\u001b[0m0:00:01\u001b[0m00:01\u001b[0m\n",
      "\u001b[?25hDownloading nvidia_nvjitlink_cu12-12.4.127-py3-none-manylinux2014_x86_64.whl (21.1 MB)\n",
      "\u001b[2K   \u001b[90m━━━━━━━━━━━━━━━━━━━━━━━━━━━━━━━━━━━━━━━━\u001b[0m \u001b[32m21.1/21.1 MB\u001b[0m \u001b[31m85.0 MB/s\u001b[0m eta \u001b[36m0:00:00\u001b[0m:00:01\u001b[0m00:01\u001b[0m\n",
      "\u001b[?25hInstalling collected packages: nvidia-nvjitlink-cu12, nvidia-curand-cu12, nvidia-cufft-cu12, nvidia-cublas-cu12, nvidia-cusparse-cu12, nvidia-cudnn-cu12, nvidia-cusolver-cu12, accelerate\n",
      "  Attempting uninstall: nvidia-nvjitlink-cu12\n",
      "    Found existing installation: nvidia-nvjitlink-cu12 12.8.93\n",
      "    Uninstalling nvidia-nvjitlink-cu12-12.8.93:\n",
      "      Successfully uninstalled nvidia-nvjitlink-cu12-12.8.93\n",
      "  Attempting uninstall: nvidia-curand-cu12\n",
      "    Found existing installation: nvidia-curand-cu12 10.3.9.90\n",
      "    Uninstalling nvidia-curand-cu12-10.3.9.90:\n",
      "      Successfully uninstalled nvidia-curand-cu12-10.3.9.90\n",
      "  Attempting uninstall: nvidia-cufft-cu12\n",
      "    Found existing installation: nvidia-cufft-cu12 11.3.3.83\n",
      "    Uninstalling nvidia-cufft-cu12-11.3.3.83:\n",
      "      Successfully uninstalled nvidia-cufft-cu12-11.3.3.83\n",
      "  Attempting uninstall: nvidia-cublas-cu12\n",
      "    Found existing installation: nvidia-cublas-cu12 12.8.4.1\n",
      "    Uninstalling nvidia-cublas-cu12-12.8.4.1:\n",
      "      Successfully uninstalled nvidia-cublas-cu12-12.8.4.1\n",
      "  Attempting uninstall: nvidia-cusparse-cu12\n",
      "    Found existing installation: nvidia-cusparse-cu12 12.5.8.93\n",
      "    Uninstalling nvidia-cusparse-cu12-12.5.8.93:\n",
      "      Successfully uninstalled nvidia-cusparse-cu12-12.5.8.93\n",
      "  Attempting uninstall: nvidia-cudnn-cu12\n",
      "    Found existing installation: nvidia-cudnn-cu12 9.3.0.75\n",
      "    Uninstalling nvidia-cudnn-cu12-9.3.0.75:\n",
      "      Successfully uninstalled nvidia-cudnn-cu12-9.3.0.75\n",
      "  Attempting uninstall: nvidia-cusolver-cu12\n",
      "    Found existing installation: nvidia-cusolver-cu12 11.7.3.90\n",
      "    Uninstalling nvidia-cusolver-cu12-11.7.3.90:\n",
      "      Successfully uninstalled nvidia-cusolver-cu12-11.7.3.90\n",
      "  Attempting uninstall: accelerate\n",
      "    Found existing installation: accelerate 1.3.0\n",
      "    Uninstalling accelerate-1.3.0:\n",
      "      Successfully uninstalled accelerate-1.3.0\n",
      "\u001b[31mERROR: pip's dependency resolver does not currently take into account all the packages that are installed. This behaviour is the source of the following dependency conflicts.\n",
      "pylibcugraph-cu12 24.12.0 requires pylibraft-cu12==24.12.*, but you have pylibraft-cu12 25.2.0 which is incompatible.\n",
      "pylibcugraph-cu12 24.12.0 requires rmm-cu12==24.12.*, but you have rmm-cu12 25.2.0 which is incompatible.\u001b[0m\u001b[31m\n",
      "\u001b[0mSuccessfully installed accelerate-1.6.0 nvidia-cublas-cu12-12.4.5.8 nvidia-cudnn-cu12-9.1.0.70 nvidia-cufft-cu12-11.2.1.3 nvidia-curand-cu12-10.3.5.147 nvidia-cusolver-cu12-11.6.1.9 nvidia-cusparse-cu12-12.3.1.170 nvidia-nvjitlink-cu12-12.4.127\n"
     ]
    }
   ],
   "source": [
    "!pip install --upgrade accelerate"
   ]
  },
  {
   "cell_type": "code",
   "execution_count": 2,
   "metadata": {
    "execution": {
     "iopub.execute_input": "2025-05-06T23:57:05.852146Z",
     "iopub.status.busy": "2025-05-06T23:57:05.851878Z",
     "iopub.status.idle": "2025-05-06T23:57:09.386605Z",
     "shell.execute_reply": "2025-05-06T23:57:09.385589Z",
     "shell.execute_reply.started": "2025-05-06T23:57:05.852117Z"
    },
    "id": "4dtN8dPocLUy",
    "trusted": true
   },
   "outputs": [],
   "source": [
    "import numpy as np\n",
    "import torch, torch.nn as nn\n",
    "import torch.nn.functional as F\n",
    "import matplotlib.pyplot as plt\n",
    "%matplotlib inline"
   ]
  },
  {
   "cell_type": "code",
   "execution_count": 3,
   "metadata": {
    "execution": {
     "iopub.execute_input": "2025-05-06T23:57:09.387947Z",
     "iopub.status.busy": "2025-05-06T23:57:09.387530Z",
     "iopub.status.idle": "2025-05-06T23:57:09.474998Z",
     "shell.execute_reply": "2025-05-06T23:57:09.474206Z",
     "shell.execute_reply.started": "2025-05-06T23:57:09.387925Z"
    },
    "id": "O9i6aUkxJC56",
    "trusted": true
   },
   "outputs": [],
   "source": [
    "device = torch.device('cuda:0' if torch.cuda.is_available() else 'cpu') # use 'cuda' for any GPU"
   ]
  },
  {
   "cell_type": "markdown",
   "metadata": {
    "id": "5ks8AlEVcLUz"
   },
   "source": [
    "### Part 0: the dataset\n",
    "\n",
    "Before we train anything, let's take a look at the question answering data that we can use. There are several popular datasets, e.g. TriviaQA for trivia questions or GSM8K for math. Today's data is Stanford Question Answering Dataset (SQuAD). Given a paragraph of text and a question, our model's task is to select a snippet that answers the question.\n",
    "\n",
    "We are not going to solve the full task today. Instead, we'll train a model to __select the sentence containing answer__ among several options.\n",
    "\n",
    "As usual, you are given an utility module with data reader and some helper functions"
   ]
  },
  {
   "cell_type": "code",
   "execution_count": 4,
   "metadata": {
    "colab": {
     "base_uri": "https://localhost:8080/"
    },
    "execution": {
     "iopub.execute_input": "2025-05-06T23:57:09.476980Z",
     "iopub.status.busy": "2025-05-06T23:57:09.476765Z",
     "iopub.status.idle": "2025-05-06T23:57:10.873086Z",
     "shell.execute_reply": "2025-05-06T23:57:10.872418Z",
     "shell.execute_reply.started": "2025-05-06T23:57:09.476964Z"
    },
    "id": "MtD9zmBuol1-",
    "outputId": "d19fa473-e059-4c99-bb9d-63cfb46cdd08",
    "trusted": true
   },
   "outputs": [
    {
     "name": "stderr",
     "output_type": "stream",
     "text": [
      "[nltk_data] Downloading package punkt_tab to /usr/share/nltk_data...\n",
      "[nltk_data]   Package punkt_tab is already up-to-date!\n"
     ]
    },
    {
     "data": {
      "text/plain": [
       "True"
      ]
     },
     "execution_count": 4,
     "metadata": {},
     "output_type": "execute_result"
    }
   ],
   "source": [
    "import nltk\n",
    "nltk.download('punkt_tab')"
   ]
  },
  {
   "cell_type": "code",
   "execution_count": 5,
   "metadata": {
    "colab": {
     "base_uri": "https://localhost:8080/"
    },
    "execution": {
     "iopub.execute_input": "2025-05-06T23:57:10.874187Z",
     "iopub.status.busy": "2025-05-06T23:57:10.873775Z",
     "iopub.status.idle": "2025-05-06T23:57:35.271815Z",
     "shell.execute_reply": "2025-05-06T23:57:35.270952Z",
     "shell.execute_reply.started": "2025-05-06T23:57:10.874168Z"
    },
    "id": "iWRei-HxcLU0",
    "outputId": "d9ea3b40-4b38-473a-f552-82c90675a1de",
    "trusted": true
   },
   "outputs": [
    {
     "name": "stdout",
     "output_type": "stream",
     "text": [
      "\u001b[2K     \u001b[90m━━━━━━━━━━━━━━━━━━━━━━━━━━━━━━━━━━━━━━━━\u001b[0m \u001b[32m126.8/126.8 kB\u001b[0m \u001b[31m3.2 MB/s\u001b[0m eta \u001b[36m0:00:00\u001b[0ma \u001b[36m0:00:01\u001b[0m\n",
      "\u001b[2K     \u001b[90m━━━━━━━━━━━━━━━━━━━━━━━━━━━━━━━━━━━━━━━━\u001b[0m \u001b[32m301.0/301.0 kB\u001b[0m \u001b[31m7.4 MB/s\u001b[0m eta \u001b[36m0:00:00\u001b[0m:00:01\u001b[0m\n",
      "\u001b[?25h  Installing build dependencies ... \u001b[?25l\u001b[?25hdone\n",
      "  Getting requirements to build wheel ... \u001b[?25l\u001b[?25hdone\n",
      "  Preparing metadata (pyproject.toml) ... \u001b[?25l\u001b[?25hdone\n",
      "\u001b[2K   \u001b[90m━━━━━━━━━━━━━━━━━━━━━━━━━━━━━━━━━━━━━━━━\u001b[0m \u001b[32m8.2/8.2 MB\u001b[0m \u001b[31m87.0 MB/s\u001b[0m eta \u001b[36m0:00:00\u001b[0m:00:01\u001b[0m00:01\u001b[0m\n",
      "\u001b[2K   \u001b[90m━━━━━━━━━━━━━━━━━━━━━━━━━━━━━━━━━━━━━━━━\u001b[0m \u001b[32m261.0/261.0 kB\u001b[0m \u001b[31m13.8 MB/s\u001b[0m eta \u001b[36m0:00:00\u001b[0m\n",
      "\u001b[2K   \u001b[90m━━━━━━━━━━━━━━━━━━━━━━━━━━━━━━━━━━━━━━━━\u001b[0m \u001b[32m1.3/1.3 MB\u001b[0m \u001b[31m37.0 MB/s\u001b[0m eta \u001b[36m0:00:00\u001b[0m:00:01\u001b[0m\n",
      "\u001b[2K   \u001b[90m━━━━━━━━━━━━━━━━━━━━━━━━━━━━━━━━━━━━━━━━\u001b[0m \u001b[32m1.8/1.8 MB\u001b[0m \u001b[31m59.9 MB/s\u001b[0m eta \u001b[36m0:00:00\u001b[0m\n",
      "\u001b[2K   \u001b[90m━━━━━━━━━━━━━━━━━━━━━━━━━━━━━━━━━━━━━━━━\u001b[0m \u001b[32m3.6/3.6 MB\u001b[0m \u001b[31m92.2 MB/s\u001b[0m eta \u001b[36m0:00:00\u001b[0m:00:01\u001b[0m\n",
      "\u001b[2K   \u001b[90m━━━━━━━━━━━━━━━━━━━━━━━━━━━━━━━━━━━━━━━━\u001b[0m \u001b[32m46.0/46.0 kB\u001b[0m \u001b[31m2.7 MB/s\u001b[0m eta \u001b[36m0:00:00\u001b[0m\n",
      "\u001b[2K   \u001b[90m━━━━━━━━━━━━━━━━━━━━━━━━━━━━━━━━━━━━━━━━\u001b[0m \u001b[32m183.9/183.9 kB\u001b[0m \u001b[31m9.5 MB/s\u001b[0m eta \u001b[36m0:00:00\u001b[0m\n",
      "\u001b[2K   \u001b[90m━━━━━━━━━━━━━━━━━━━━━━━━━━━━━━━━━━━━━━━━\u001b[0m \u001b[32m86.8/86.8 kB\u001b[0m \u001b[31m5.4 MB/s\u001b[0m eta \u001b[36m0:00:00\u001b[0m\n",
      "\u001b[?25h  Building wheel for optimum (pyproject.toml) ... \u001b[?25l\u001b[?25hdone\n",
      "\u001b[31mERROR: pip's dependency resolver does not currently take into account all the packages that are installed. This behaviour is the source of the following dependency conflicts.\n",
      "sentence-transformers 3.4.1 requires transformers<5.0.0,>=4.41.0, but you have transformers 4.36.2 which is incompatible.\n",
      "gcsfs 2024.10.0 requires fsspec==2024.10.0, but you have fsspec 2024.12.0 which is incompatible.\n",
      "bigframes 1.36.0 requires rich<14,>=12.4.4, but you have rich 14.0.0 which is incompatible.\u001b[0m\u001b[31m\n",
      "\u001b[0mNote: you may need to restart the kernel to use updated packages.\n",
      "--2025-05-06 23:57:30--  https://raw.githubusercontent.com/yandexdataschool/nlp_course/2023/week_extra/retrieval/data.py\n",
      "Resolving raw.githubusercontent.com (raw.githubusercontent.com)... 185.199.108.133, 185.199.109.133, 185.199.110.133, ...\n",
      "Connecting to raw.githubusercontent.com (raw.githubusercontent.com)|185.199.108.133|:443... connected.\n",
      "HTTP request sent, awaiting response... 200 OK\n",
      "Length: 3553 (3.5K) [text/plain]\n",
      "Saving to: ‘data.py’\n",
      "\n",
      "data.py             100%[===================>]   3.47K  --.-KB/s    in 0s      \n",
      "\n",
      "2025-05-06 23:57:30 (49.0 MB/s) - ‘data.py’ saved [3553/3553]\n",
      "\n"
     ]
    },
    {
     "name": "stderr",
     "output_type": "stream",
     "text": [
      "[nltk_data] Downloading package punkt to /usr/share/nltk_data...\n",
      "[nltk_data]   Package punkt is already up-to-date!\n"
     ]
    }
   ],
   "source": [
    "%pip install --quiet transformers==4.36.2 accelerate==0.24.0 sentencepiece==0.1.99 optimum==1.13.2 auto-gptq==0.4.2\n",
    "# ^-- if this fails, remove the specific version and install latest ones: pip install --update transformers accelerate ...\n",
    "!wget https://raw.githubusercontent.com/yandexdataschool/nlp_course/2023/week_extra/retrieval/data.py -O data.py\n",
    "!wget https://rajpurkar.github.io/SQuAD-explorer/dataset/train-v2.0.json -O squad-v2.0.json 2> log\n",
    "\n",
    "import data\n",
    "# backup download link: https://www.dropbox.com/s/q4fuihaerqr0itj/squad.tar.gz?dl=1\n",
    "train, test = data.build_dataset('./squad-v2.0.json')"
   ]
  },
  {
   "cell_type": "code",
   "execution_count": 6,
   "metadata": {
    "colab": {
     "base_uri": "https://localhost:8080/"
    },
    "execution": {
     "iopub.execute_input": "2025-05-06T23:57:35.273617Z",
     "iopub.status.busy": "2025-05-06T23:57:35.273016Z",
     "iopub.status.idle": "2025-05-06T23:57:35.278650Z",
     "shell.execute_reply": "2025-05-06T23:57:35.277887Z",
     "shell.execute_reply.started": "2025-05-06T23:57:35.273584Z"
    },
    "id": "KvzzSgVicLU0",
    "outputId": "54cb6c6f-03d6-4251-925b-347a7b030d21",
    "trusted": true
   },
   "outputs": [
    {
     "name": "stdout",
     "output_type": "stream",
     "text": [
      "QUESTION Where did Beyonce get her name from? \n",
      "\n",
      "TEXT SENTENCES\n",
      "[ ] Beyoncé Giselle Knowles was born in Houston, Texas, to Celestine Ann \"Tina\" Knowles (née Beyincé), a hairdresser and salon owner, and Mathew Knowles, a Xerox sales manager.\n",
      "[v] Beyoncé's name is a tribute to her mother's maiden name.\n",
      "[ ] Beyoncé's younger sister Solange is also a singer and a former member of Destiny's Child.\n",
      "[ ] Mathew is African-American, while Tina is of Louisiana Creole descent (with African, Native American, French, Cajun, and distant Irish and Spanish ancestry).\n",
      "[ ] Through her mother, Beyoncé is a descendant of Acadian leader Joseph Broussard.\n",
      "[ ] She was raised in a Methodist household.\n"
     ]
    }
   ],
   "source": [
    "pid, question, options, correct_indices, wrong_indices = train.iloc[40]\n",
    "print('QUESTION', question, '\\n')\n",
    "print('TEXT SENTENCES')\n",
    "for i, cand in enumerate(options):\n",
    "    print(['[ ]', '[v]'][i in correct_indices], cand)"
   ]
  },
  {
   "cell_type": "markdown",
   "metadata": {
    "id": "TGxVKpjAcLU1"
   },
   "source": [
    "### Pre-trained BERT\n",
    "_(but you guessed it)_\n",
    "\n",
    "We've already solved quite a few tasks from scratch, training our own embeddings and convolutional/recurrent layers. However, one can often achieve higher quality by using pre-trained models. We will default to the good ol' [BERT](https://arxiv.org/abs/1810.04805), though, you are free to use any [other model](https://huggingface.co/models) as you see fit.\n"
   ]
  },
  {
   "cell_type": "code",
   "execution_count": 7,
   "metadata": {
    "colab": {
     "base_uri": "https://localhost:8080/"
    },
    "execution": {
     "iopub.execute_input": "2025-05-06T23:57:35.279651Z",
     "iopub.status.busy": "2025-05-06T23:57:35.279299Z",
     "iopub.status.idle": "2025-05-06T23:58:01.223328Z",
     "shell.execute_reply": "2025-05-06T23:58:01.222529Z",
     "shell.execute_reply.started": "2025-05-06T23:57:35.279626Z"
    },
    "id": "iRAdNj2IcLU1",
    "outputId": "4515ddc1-39d4-42fd-c7a1-defb17709d73",
    "trusted": true
   },
   "outputs": [
    {
     "name": "stderr",
     "output_type": "stream",
     "text": [
      "/usr/local/lib/python3.11/dist-packages/transformers/utils/generic.py:441: FutureWarning: `torch.utils._pytree._register_pytree_node` is deprecated. Please use `torch.utils._pytree.register_pytree_node` instead.\n",
      "  _torch_pytree._register_pytree_node(\n",
      "2025-05-06 23:57:40.729822: E external/local_xla/xla/stream_executor/cuda/cuda_fft.cc:477] Unable to register cuFFT factory: Attempting to register factory for plugin cuFFT when one has already been registered\n",
      "WARNING: All log messages before absl::InitializeLog() is called are written to STDERR\n",
      "E0000 00:00:1746575861.048578      31 cuda_dnn.cc:8310] Unable to register cuDNN factory: Attempting to register factory for plugin cuDNN when one has already been registered\n",
      "E0000 00:00:1746575861.118349      31 cuda_blas.cc:1418] Unable to register cuBLAS factory: Attempting to register factory for plugin cuBLAS when one has already been registered\n",
      "/usr/local/lib/python3.11/dist-packages/transformers/utils/generic.py:309: FutureWarning: `torch.utils._pytree._register_pytree_node` is deprecated. Please use `torch.utils._pytree.register_pytree_node` instead.\n",
      "  _torch_pytree._register_pytree_node(\n",
      "/usr/local/lib/python3.11/dist-packages/transformers/utils/generic.py:309: FutureWarning: `torch.utils._pytree._register_pytree_node` is deprecated. Please use `torch.utils._pytree.register_pytree_node` instead.\n",
      "  _torch_pytree._register_pytree_node(\n",
      "/usr/local/lib/python3.11/dist-packages/huggingface_hub/file_download.py:896: FutureWarning: `resume_download` is deprecated and will be removed in version 1.0.0. Downloads always resume when possible. If you want to force a new download, use `force_download=True`.\n",
      "  warnings.warn(\n"
     ]
    },
    {
     "data": {
      "application/vnd.jupyter.widget-view+json": {
       "model_id": "f467c24cf23843f8ba3c767bfa30fc19",
       "version_major": 2,
       "version_minor": 0
      },
      "text/plain": [
       "tokenizer_config.json:   0%|          | 0.00/399 [00:00<?, ?B/s]"
      ]
     },
     "metadata": {},
     "output_type": "display_data"
    },
    {
     "data": {
      "application/vnd.jupyter.widget-view+json": {
       "model_id": "7c6ec293fe984539bd8d9e799fadc10f",
       "version_major": 2,
       "version_minor": 0
      },
      "text/plain": [
       "config.json:   0%|          | 0.00/625 [00:00<?, ?B/s]"
      ]
     },
     "metadata": {},
     "output_type": "display_data"
    },
    {
     "data": {
      "application/vnd.jupyter.widget-view+json": {
       "model_id": "2ce3b2de7b8644d9b00ea29350e08a8f",
       "version_major": 2,
       "version_minor": 0
      },
      "text/plain": [
       "vocab.txt:   0%|          | 0.00/232k [00:00<?, ?B/s]"
      ]
     },
     "metadata": {},
     "output_type": "display_data"
    },
    {
     "data": {
      "application/vnd.jupyter.widget-view+json": {
       "model_id": "f90b24e0f34b4b2596f0c7f095aef728",
       "version_major": 2,
       "version_minor": 0
      },
      "text/plain": [
       "tokenizer.json:   0%|          | 0.00/466k [00:00<?, ?B/s]"
      ]
     },
     "metadata": {},
     "output_type": "display_data"
    },
    {
     "data": {
      "application/vnd.jupyter.widget-view+json": {
       "model_id": "b5a2a45e5a5c47ecbe33b65a7bfb6be8",
       "version_major": 2,
       "version_minor": 0
      },
      "text/plain": [
       "added_tokens.json:   0%|          | 0.00/2.00 [00:00<?, ?B/s]"
      ]
     },
     "metadata": {},
     "output_type": "display_data"
    },
    {
     "data": {
      "application/vnd.jupyter.widget-view+json": {
       "model_id": "49c6e009d6f84e4582093370e3e71400",
       "version_major": 2,
       "version_minor": 0
      },
      "text/plain": [
       "special_tokens_map.json:   0%|          | 0.00/112 [00:00<?, ?B/s]"
      ]
     },
     "metadata": {},
     "output_type": "display_data"
    },
    {
     "name": "stderr",
     "output_type": "stream",
     "text": [
      "Xet Storage is enabled for this repo, but the 'hf_xet' package is not installed. Falling back to regular HTTP download. For better performance, install the package with: `pip install huggingface_hub[hf_xet]` or `pip install hf_xet`\n"
     ]
    },
    {
     "data": {
      "application/vnd.jupyter.widget-view+json": {
       "model_id": "d4d5b8fe85804479b442ab8dc39be8e0",
       "version_major": 2,
       "version_minor": 0
      },
      "text/plain": [
       "model.safetensors:   0%|          | 0.00/438M [00:00<?, ?B/s]"
      ]
     },
     "metadata": {},
     "output_type": "display_data"
    }
   ],
   "source": [
    "from transformers import AutoTokenizer, AutoModel, pipeline\n",
    "\n",
    "model_name = 'sentence-transformers/bert-base-nli-mean-tokens'\n",
    "tokenizer = AutoTokenizer.from_pretrained(model_name)\n",
    "bert = AutoModel.from_pretrained(model_name)"
   ]
  },
  {
   "cell_type": "code",
   "execution_count": 8,
   "metadata": {
    "colab": {
     "base_uri": "https://localhost:8080/"
    },
    "execution": {
     "iopub.execute_input": "2025-05-06T23:58:01.224977Z",
     "iopub.status.busy": "2025-05-06T23:58:01.224299Z",
     "iopub.status.idle": "2025-05-06T23:58:01.494320Z",
     "shell.execute_reply": "2025-05-06T23:58:01.493501Z",
     "shell.execute_reply.started": "2025-05-06T23:58:01.224941Z"
    },
    "id": "kAQHqgW_cLU1",
    "outputId": "cf01399b-1f56-4441-8f73-106d7c28284a",
    "trusted": true
   },
   "outputs": [
    {
     "name": "stderr",
     "output_type": "stream",
     "text": [
      "Asking to truncate to max_length but no maximum length is provided and the model has no predefined maximum length. Default to no truncation.\n"
     ]
    }
   ],
   "source": [
    "# just a reminder: here's how it works\n",
    "dummy_lines = [\n",
    "    \"How old are you?\",                                                 # 0\n",
    "    \"In what mythology do two canines watch over the Chinvat Bridge?\",  # 1\n",
    "    \"I'm sorry, okay, I'm not perfect, but I'm trying.\",                # 2\n",
    "    \"What is your age?\",                                                # 3\n",
    "    \"Beware, for I am fearless, and therefore powerful.\",               # 4\n",
    "]\n",
    "\n",
    "with torch.no_grad():\n",
    "    batch_tensors = tokenizer(dummy_lines, padding=True, truncation=True, return_tensors=\"pt\")\n",
    "    out = bert(**batch_tensors)\n",
    "    token_embs = out.last_hidden_state\n",
    "    cls_embs = out.pooler_output\n",
    "    del out\n",
    "\n",
    "\n",
    "mask = batch_tensors['attention_mask'][..., None].to(torch.float32)\n",
    "naive_phrase_embs = (token_embs * mask).sum(1) / mask.sum(1)"
   ]
  },
  {
   "cell_type": "code",
   "execution_count": 9,
   "metadata": {
    "colab": {
     "base_uri": "https://localhost:8080/",
     "height": 470
    },
    "execution": {
     "iopub.execute_input": "2025-05-06T23:58:01.495531Z",
     "iopub.status.busy": "2025-05-06T23:58:01.495237Z",
     "iopub.status.idle": "2025-05-06T23:58:01.730422Z",
     "shell.execute_reply": "2025-05-06T23:58:01.729678Z",
     "shell.execute_reply.started": "2025-05-06T23:58:01.495503Z"
    },
    "id": "eYLyOgvzcLU3",
    "outputId": "c64d18e8-5a86-4975-f8d4-e9900c9e5b92",
    "trusted": true
   },
   "outputs": [
    {
     "data": {
      "text/plain": [
       "<matplotlib.image.AxesImage at 0x78987ceaa650>"
      ]
     },
     "execution_count": 9,
     "metadata": {},
     "output_type": "execute_result"
    },
    {
     "data": {
      "image/png": "[encoded data removed]",
      "text/plain": [
       "<Figure size 640x480 with 1 Axes>"
      ]
     },
     "metadata": {},
     "output_type": "display_data"
    }
   ],
   "source": [
    "plt.title('phrase similarity')\n",
    "plt.imshow((naive_phrase_embs @ naive_phrase_embs.t()).cpu().data.numpy(), interpolation='none', cmap='gray')"
   ]
  },
  {
   "cell_type": "markdown",
   "metadata": {
    "id": "apBCmWWgcLU4"
   },
   "source": [
    "As you can see, __the strongest similarity is between lines 0 and 3__. Indeed they correspond to \"How old are you?\" and \"What is your age?\""
   ]
  },
  {
   "cell_type": "markdown",
   "metadata": {
    "id": "u3qa0HGrcLU4"
   },
   "source": [
    "### Retriever Model (2 points)\n",
    "\n",
    "Our goal for today is to build a model that measures similarity between question and answer. In particular, it maps both question and answer into fixed-size vectors such that:\n",
    "\n",
    "Our model is a pair of $V_q(q)$ and $V_a(a)$ - networks that turn phrases into vectors.\n",
    "\n",
    "__Objective:__ Question vector $V_q(q)$ should be __closer__ to correct answer vectors $V_a(a^+)$ than to incorrect ones $V_a(a^-)$ .\n",
    "\n",
    "Both vectorizers can be anything you wish. For starters, let's use a couple of dense layers on top of the pre-trained encoder.\n",
    "\n",
    "\n"
   ]
  },
  {
   "cell_type": "code",
   "execution_count": 10,
   "metadata": {
    "execution": {
     "iopub.execute_input": "2025-05-06T23:58:01.733035Z",
     "iopub.status.busy": "2025-05-06T23:58:01.732819Z",
     "iopub.status.idle": "2025-05-06T23:58:01.739663Z",
     "shell.execute_reply": "2025-05-06T23:58:01.738963Z",
     "shell.execute_reply.started": "2025-05-06T23:58:01.733019Z"
    },
    "id": "2LnBd1IdcLU4",
    "trusted": true
   },
   "outputs": [],
   "source": [
    "class Vectorizer(nn.Module):\n",
    "    def __init__(self, hid_size=256, bert=bert):\n",
    "        \"\"\" A small feedforward network on top of pre-trained encoder. 2-3 layers should be enough \"\"\"\n",
    "        super().__init__()\n",
    "        self.bert = bert\n",
    "        self.hid_size = hid_size\n",
    "\n",
    "        # define a few layers to be applied on top of pre-trained BERT\n",
    "        # note: please make sure your final layer comes with _linear_ activation\n",
    "        # <YOUR CODE HERE>\n",
    "        # Freeze BERT parameters\n",
    "        for param in self.bert.parameters():\n",
    "            param.requires_grad = False\n",
    "\n",
    "        self.dropout = nn.Dropout(0.1)\n",
    "        self.fc1 = nn.Linear(768, 512)\n",
    "        self.fc2 = nn.Linear(512, hid_size)\n",
    "        self.relu = nn.ReLU()\n",
    "        self.to(device)\n",
    "\n",
    "\n",
    "    def forward(self, input_phrases):\n",
    "        \"\"\"\n",
    "        Apply vectorizer. Use dropout and any other hacks at will.\n",
    "        :param input_phrases: a list of strings, [batch_size]\n",
    "        :returns: predicted phrase vectors, [batch_size, output_size]\n",
    "\n",
    "        Note: you may want to use dropouts.\n",
    "        if self.training:\n",
    "          <something>\n",
    "\n",
    "        Note 2: you may also want to use with torch.no_grad to avoid training BERT for your first attempts\n",
    "\n",
    "        \"\"\"\n",
    "\n",
    "        # In fact, please DO use at least 10% dropout!\n",
    "        # <YOUR CODE>\n",
    "        # return <...>\n",
    "        with torch.no_grad():\n",
    "            batch = tokenizer(input_phrases, padding=True, truncation=True, return_tensors=\"pt\").to(device)\n",
    "            outputs = self.bert(**batch)\n",
    "\n",
    "        mask = batch['attention_mask'].unsqueeze(-1).float()\n",
    "        token_embs = outputs.last_hidden_state\n",
    "        phrase_embs = (token_embs * mask).sum(1) / mask.sum(1)\n",
    "\n",
    "        x = self.dropout(phrase_embs)\n",
    "        x = self.relu(self.fc1(x))\n",
    "        x = self.dropout(x)\n",
    "        x = self.fc2(x)\n",
    "        return x\n",
    "\n"
   ]
  },
  {
   "cell_type": "code",
   "execution_count": 16,
   "metadata": {
    "execution": {
     "iopub.execute_input": "2025-05-06T23:58:01.824085Z",
     "iopub.status.busy": "2025-05-06T23:58:01.823848Z",
     "iopub.status.idle": "2025-05-06T23:58:02.149684Z",
     "shell.execute_reply": "2025-05-06T23:58:02.149092Z",
     "shell.execute_reply.started": "2025-05-06T23:58:01.824067Z"
    },
    "id": "bmlIxPRQcLU5",
    "trusted": true
   },
   "outputs": [],
   "source": [
    "question_vectorizer = Vectorizer()\n",
    "answer_vectorizer = Vectorizer()"
   ]
  },
  {
   "cell_type": "code",
   "execution_count": 17,
   "metadata": {
    "colab": {
     "base_uri": "https://localhost:8080/"
    },
    "execution": {
     "iopub.execute_input": "2025-05-06T23:58:02.150625Z",
     "iopub.status.busy": "2025-05-06T23:58:02.150363Z",
     "iopub.status.idle": "2025-05-06T23:58:02.622889Z",
     "shell.execute_reply": "2025-05-06T23:58:02.622064Z",
     "shell.execute_reply.started": "2025-05-06T23:58:02.150603Z"
    },
    "id": "krX1gnD6cLU5",
    "outputId": "7fac570d-9ea8-45b7-953c-2c11819f191f",
    "trusted": true
   },
   "outputs": [
    {
     "name": "stdout",
     "output_type": "stream",
     "text": [
      "torch.Size([5, 256])\n",
      "Well done!\n"
     ]
    }
   ],
   "source": [
    "question_vectorizer.train(False)\n",
    "out1 = question_vectorizer(dummy_lines)\n",
    "print(out1.shape)\n",
    "out2 = question_vectorizer(dummy_lines)\n",
    "assert tuple(out1.shape) == (5, question_vectorizer.hid_size)\n",
    "assert torch.allclose(out1, out2, atol=1e-5, rtol=0), \"Make sure your model disables dropout if training == False\"\n",
    "print(\"Well done!\")"
   ]
  },
  {
   "cell_type": "markdown",
   "metadata": {
    "id": "7lUHY7LdcLU5"
   },
   "source": [
    "### Retriever training: minibatches\n",
    "\n",
    "Our model learns on triples $(q, a^+, a^-)$:\n",
    "* q - <b>q</b>uestion\n",
    "* (a+) - correct <b>a</b>nswer\n",
    "* (a-) - wrong <b>a</b>nswer\n",
    "\n",
    "Below you will find a generator that samples such triples from data."
   ]
  },
  {
   "cell_type": "code",
   "execution_count": 18,
   "metadata": {
    "execution": {
     "iopub.execute_input": "2025-05-06T23:58:02.624126Z",
     "iopub.status.busy": "2025-05-06T23:58:02.623828Z",
     "iopub.status.idle": "2025-05-06T23:58:02.630403Z",
     "shell.execute_reply": "2025-05-06T23:58:02.629729Z",
     "shell.execute_reply.started": "2025-05-06T23:58:02.624102Z"
    },
    "id": "GO64sZ3AcLU6",
    "trusted": true
   },
   "outputs": [],
   "source": [
    "import random\n",
    "\n",
    "def iterate_minibatches(data, batch_size, shuffle=True, cycle=False):\n",
    "    \"\"\"\n",
    "    Generates minibatches of triples: {questions, correct answers, wrong answers}\n",
    "    If there are several wrong (or correct) answers, picks one at random.\n",
    "    \"\"\"\n",
    "    indices = np.arange(len(data))\n",
    "    while True:\n",
    "        if shuffle:\n",
    "            indices = np.random.permutation(indices)\n",
    "        for batch_start in range(0, len(indices), batch_size):\n",
    "            batch_indices = indices[batch_start: batch_start + batch_size]\n",
    "            batch = data.iloc[batch_indices]\n",
    "            questions = batch['question'].values\n",
    "            correct_answers = np.array([\n",
    "                row['options'][random.choice(row['correct_indices'])]\n",
    "                for i, row in batch.iterrows()\n",
    "            ])\n",
    "            wrong_answers = np.array([\n",
    "                row['options'][random.choice(row['wrong_indices'])]\n",
    "                for i, row in batch.iterrows()\n",
    "            ])\n",
    "\n",
    "            yield {\n",
    "                'questions' : questions,\n",
    "                'correct_answers': correct_answers,\n",
    "                'wrong_answers': wrong_answers,\n",
    "            }\n",
    "        if not cycle:\n",
    "            break"
   ]
  },
  {
   "cell_type": "code",
   "execution_count": 19,
   "metadata": {
    "colab": {
     "base_uri": "https://localhost:8080/"
    },
    "execution": {
     "iopub.execute_input": "2025-05-06T23:58:02.631465Z",
     "iopub.status.busy": "2025-05-06T23:58:02.631238Z",
     "iopub.status.idle": "2025-05-06T23:58:02.649670Z",
     "shell.execute_reply": "2025-05-06T23:58:02.649015Z",
     "shell.execute_reply.started": "2025-05-06T23:58:02.631440Z"
    },
    "id": "wcnGu02BcLU6",
    "outputId": "2be77cf9-828b-4d46-8d3b-863ab5dd5ce7",
    "trusted": true
   },
   "outputs": [
    {
     "name": "stdout",
     "output_type": "stream",
     "text": [
      "{'questions': array(['Why were many killed in Underground Stations?',\n",
      "       'What is the world of the digimon called?',\n",
      "       'Al-Andalus was an Emirate of which entity?'], dtype=object), 'correct_answers': array(['Noises of battle were muffled and sleep was easier in the deepest stations, but many were killed from direct hits on several stations.',\n",
      "       'According to the stories, they are inhabitants of the \"DigiWorld\", a manifestation of Earth\\'s communication network.',\n",
      "       'Many scholars (including Makdisi) have argued that early medieval universities were influenced by the religious madrasahs in Al-Andalus, the Emirate of Sicily, and the Middle East (during the Crusades).'],\n",
      "      dtype='<U202'), 'wrong_answers': array(['Although many civilians had used them as such during the First World War, the government in 1939 refused to allow the stations to be used as shelters so as not to interfere with commuter and troop travel, and the fears that occupants might refuse to leave.',\n",
      "       '\"Digimon\" are \"Digital Monsters\".',\n",
      "       'Lowe and Yasuhara have recently drawn on the well-documented influences of scholarship from the Islamic world on the universities of Western Europe to call for a reconsideration of the development of higher education, turning away from a concern with local institutional structures to a broader consideration within a global context.'],\n",
      "      dtype='<U333')}\n"
     ]
    }
   ],
   "source": [
    "dummy_batch = next(iterate_minibatches(train.sample(3), 3))\n",
    "print(dummy_batch)"
   ]
  },
  {
   "cell_type": "markdown",
   "metadata": {
    "id": "F09wfUH9cLU6"
   },
   "source": [
    "### Retriever training: loss function (2 points)\n",
    "We want our vectorizers to put correct answers closer to question vectors and incorrect answers farther away from them. One way to express this is to use is Pairwise Hinge Loss _(aka Triplet Loss)_.\n",
    "\n",
    "$$ L = \\frac 1N \\underset {q, a^+, a^-} \\sum max(0, \\space \\delta - sim[V_q(q), V_a(a^+)] + sim[V_q(q), V_a(a^-)] )$$\n",
    "\n",
    ", where\n",
    "* sim[a, b] is some similarity function: dot product, cosine or negative distance\n",
    "* δ - loss hyperparameter, e.g. δ=1.0. If sim[a, b] is linear in b, all δ > 0 are equivalent.\n",
    "\n",
    "\n",
    "This reads as __Correct answers must be closer than the wrong ones by at least δ.__\n",
    "\n",
    "![img](https://raw.githubusercontent.com/yandexdataschool/nlp_course/master/resources/margin.png)\n",
    "<center>_image: question vector is green, correct answers are blue, incorrect answers are red_</center>\n",
    "\n",
    "\n",
    "Note: in effect, we train a Deep Semantic Similarity Model [DSSM](https://www.microsoft.com/en-us/research/project/dssm/)."
   ]
  },
  {
   "cell_type": "code",
   "execution_count": 20,
   "metadata": {
    "execution": {
     "iopub.execute_input": "2025-05-06T23:58:02.650758Z",
     "iopub.status.busy": "2025-05-06T23:58:02.650462Z",
     "iopub.status.idle": "2025-05-06T23:58:02.664636Z",
     "shell.execute_reply": "2025-05-06T23:58:02.664043Z",
     "shell.execute_reply.started": "2025-05-06T23:58:02.650736Z"
    },
    "id": "nlV8YSewcLU7",
    "trusted": true
   },
   "outputs": [],
   "source": [
    "def similarity(a, b):\n",
    "    \"\"\" Dot product as a similarity function \"\"\"\n",
    "    # <YOUR CODE>\n",
    "    # return <...>\n",
    "    return torch.sum(a * b, dim=1)\n",
    "\n",
    "\n",
    "def compute_loss(question_vectors, correct_answer_vectors, wrong_answer_vectors, delta=1.0):\n",
    "    \"\"\"\n",
    "    Compute the triplet loss as per formula above.\n",
    "    Use similarity function above for  sim[a, b]\n",
    "    :param question_vectors: float32[batch_size, vector_size]\n",
    "    :param correct_answer_vectors: float32[batch_size, vector_size]\n",
    "    :param wrong_answer_vectors: float32[batch_size, vector_size]\n",
    "    :returns: loss for every row in batch, float32[batch_size]\n",
    "    Hint: you can compute max(0, *) using torch.relu :)\n",
    "    \"\"\"\n",
    "    # <YOUR CODE>\n",
    "    # return <...>\n",
    "    pos_sim = similarity(question_vectors, correct_answer_vectors)\n",
    "    neg_sim = similarity(question_vectors, wrong_answer_vectors)\n",
    "    print(torch.relu(delta - pos_sim + neg_sim))\n",
    "    return torch.relu(delta - pos_sim + neg_sim)"
   ]
  },
  {
   "cell_type": "code",
   "execution_count": 21,
   "metadata": {
    "colab": {
     "base_uri": "https://localhost:8080/"
    },
    "execution": {
     "iopub.execute_input": "2025-05-06T23:58:02.665741Z",
     "iopub.status.busy": "2025-05-06T23:58:02.665407Z",
     "iopub.status.idle": "2025-05-06T23:58:02.710816Z",
     "shell.execute_reply": "2025-05-06T23:58:02.710120Z",
     "shell.execute_reply.started": "2025-05-06T23:58:02.665715Z"
    },
    "id": "pzivm0jqcLU7",
    "outputId": "f59a39f9-0172-482b-e95f-d51b7e6d3c8e",
    "trusted": true
   },
   "outputs": [
    {
     "name": "stdout",
     "output_type": "stream",
     "text": [
      "tensor([0.0000, 3.8800])\n"
     ]
    }
   ],
   "source": [
    "dummy_v1 = torch.tensor([[0.1, 0.2, -1], [-1.2, 0.6, 1.0]], dtype=torch.float32)\n",
    "dummy_v2 = torch.tensor([[0.9, 2.1, -6.6], [0.1, 0.8, -2.2]], dtype=torch.float32)\n",
    "dummy_v3 = torch.tensor([[-4.1, 0.1, 1.2], [0.3, -1, -2]], dtype=torch.float32)\n",
    "\n",
    "assert np.allclose(similarity(dummy_v1, dummy_v2).data.numpy(), [7.11, -1.84])\n",
    "assert np.allclose(compute_loss(dummy_v1, dummy_v2, dummy_v3, delta=5.0).data.numpy(), [0.0, 3.88])"
   ]
  },
  {
   "cell_type": "markdown",
   "metadata": {
    "id": "oc30eCwKcLU7"
   },
   "source": [
    "Once loss is working, let's train our model by our usual means."
   ]
  },
  {
   "cell_type": "code",
   "execution_count": 23,
   "metadata": {
    "execution": {
     "iopub.execute_input": "2025-05-06T23:58:02.716116Z",
     "iopub.status.busy": "2025-05-06T23:58:02.715960Z",
     "iopub.status.idle": "2025-05-06T23:58:02.762949Z",
     "shell.execute_reply": "2025-05-06T23:58:02.761924Z",
     "shell.execute_reply.started": "2025-05-06T23:58:02.716103Z"
    },
    "trusted": true
   },
   "outputs": [],
   "source": [
    "def get_recall(questions, correct_answers, wrong_answers):\n",
    "    \"\"\"Compute recall using raw text inputs.\"\"\"\n",
    "    # Ensure inputs are lists of strings\n",
    "    questions = [str(q) for q in questions]\n",
    "    correct_answers = [str(a) for a in correct_answers]\n",
    "    wrong_answers = [str(a) for a in wrong_answers]\n",
    "\n",
    "    # Vectorize within get_recall\n",
    "    v_questions = question_vectorizer(questions)\n",
    "    v_correct = answer_vectorizer(correct_answers)\n",
    "    v_incorrect = answer_vectorizer(wrong_answers)\n",
    "\n",
    "    correct_is_closer = similarity(v_questions, v_correct) > similarity(v_questions, v_incorrect)\n",
    "    recall = torch.mean(correct_is_closer.to(torch.float32)).item()\n",
    "    return recall"
   ]
  },
  {
   "cell_type": "code",
   "execution_count": 24,
   "metadata": {
    "execution": {
     "iopub.execute_input": "2025-05-06T23:58:02.764159Z",
     "iopub.status.busy": "2025-05-06T23:58:02.763915Z",
     "iopub.status.idle": "2025-05-06T23:58:02.928948Z",
     "shell.execute_reply": "2025-05-06T23:58:02.928366Z",
     "shell.execute_reply.started": "2025-05-06T23:58:02.764142Z"
    },
    "id": "MOdhf_z4cLU8",
    "trusted": true
   },
   "outputs": [
    {
     "data": {
      "text/plain": [
       "0.6666666865348816"
      ]
     },
     "execution_count": 24,
     "metadata": {},
     "output_type": "execute_result"
    }
   ],
   "source": [
    "# make sure it works\n",
    "get_recall(**dummy_batch)"
   ]
  },
  {
   "cell_type": "markdown",
   "metadata": {
    "id": "KArsnvUpcLU9"
   },
   "source": [
    "### Training loop (1 point)\n",
    "\n",
    "Just as we always do, we can now train DSSM on minibatches and periodically measure recall on validation data.\n",
    "\n",
    "\n",
    "__Note 1:__ triplet loss training may be very sensitive to the choice of batch size. Small batch size may decrease model quality because there are less negative to consider.\n",
    "\n",
    "__Note 2:__ here we use the same dataset as __\"test set\"__ and __\"validation (dev) set\"__.\n",
    "\n",
    "In any serious scientific experiment, those must be two separate sets. Validation is for hyperparameter tuning and test is for final eval only.\n"
   ]
  },
  {
   "cell_type": "code",
   "execution_count": 25,
   "metadata": {
    "colab": {
     "base_uri": "https://localhost:8080/"
    },
    "execution": {
     "iopub.execute_input": "2025-05-06T23:58:02.929868Z",
     "iopub.status.busy": "2025-05-06T23:58:02.929647Z",
     "iopub.status.idle": "2025-05-06T23:58:02.954260Z",
     "shell.execute_reply": "2025-05-06T23:58:02.953463Z",
     "shell.execute_reply.started": "2025-05-06T23:58:02.929852Z"
    },
    "id": "gDaKqIdqcLU9",
    "outputId": "8bdac517-fb04-4301-ee25-7b7488f8ae5c",
    "trusted": true
   },
   "outputs": [
    {
     "name": "stderr",
     "output_type": "stream",
     "text": [
      "/usr/local/lib/python3.11/dist-packages/torch/_compile.py:32: UserWarning: optimizer contains a parameter group with duplicate parameters; in future, this will cause an error; see github.com/pytorch/pytorch/issues/40967 for more information\n",
      "  return disable_fn(*args, **kwargs)\n"
     ]
    }
   ],
   "source": [
    "import pandas as pd\n",
    "from IPython.display import clear_output\n",
    "from tqdm import tqdm\n",
    "\n",
    "\n",
    "# Initialize model, optimizers, anything else you want\n",
    "# <YOUR CODE HERE>\n",
    "\n",
    "# Initialize model and optimizer\n",
    "device = torch.device(\"cuda\" if torch.cuda.is_available() else \"cpu\")\n",
    "question_vectorizer = Vectorizer().to(device)\n",
    "answer_vectorizer = Vectorizer().to(device)\n",
    "optimizer = torch.optim.Adam(\n",
    "    list(question_vectorizer.parameters()) + list(answer_vectorizer.parameters()),\n",
    "    lr=1e-3\n",
    ")\n",
    "\n",
    "\n",
    "\n",
    "ewma = lambda x, span: pd.DataFrame({'x': x})['x'].ewm(span=span).mean().values\n",
    "dev_batches = iterate_minibatches(test, batch_size=256, cycle=True)\n",
    "loss_history = []\n",
    "dev_recall_history = []"
   ]
  },
  {
   "cell_type": "code",
   "execution_count": null,
   "metadata": {
    "colab": {
     "base_uri": "https://localhost:8080/",
     "height": 1000
    },
    "execution": {
     "iopub.execute_input": "2025-05-06T23:58:02.955387Z",
     "iopub.status.busy": "2025-05-06T23:58:02.955097Z",
     "iopub.status.idle": "2025-05-07T00:08:42.647266Z",
     "shell.execute_reply": "2025-05-07T00:08:42.645470Z",
     "shell.execute_reply.started": "2025-05-06T23:58:02.955372Z"
    },
    "id": "RuDUsgjrcLU9",
    "outputId": "621e5d42-a777-48ed-a963-7d7b957b6b84",
    "trusted": true
   },
   "outputs": [
    {
     "data": {
      "image/png": "[encoded data removed]",
      "text/plain": [
       "<Figure size 1200x600 with 2 Axes>"
      ]
     },
     "metadata": {},
     "output_type": "display_data"
    },
    {
     "name": "stdout",
     "output_type": "stream",
     "text": [
      "tensor([1.2207, 1.4062, 0.0000, 0.9888, 0.4439, 1.4489, 0.6832, 0.6900, 0.0000,\n",
      "        1.0042, 0.0000, 0.0000, 0.8859, 0.5267, 0.0000, 1.3539, 0.2838, 1.8072,\n",
      "        0.5619, 0.0000, 1.3102, 0.0000, 0.0000, 0.8596, 0.0000, 0.0000, 0.6405,\n",
      "        0.0000, 0.5737, 0.0000, 0.0000, 0.0000, 0.8108, 0.0000, 0.0000, 2.8297,\n",
      "        4.1464, 0.0000, 0.0000, 0.0000, 1.3861, 0.0000, 0.0000, 0.0000, 0.0000,\n",
      "        0.0000, 0.0000, 2.8205, 0.2319, 0.0000, 1.0150, 0.0000, 0.0000, 0.5216,\n",
      "        0.9917, 0.1212, 0.0000, 0.0000, 0.0000, 0.0000, 0.0000, 0.8580, 0.9680,\n",
      "        0.0000, 0.0000, 0.0000, 1.4801, 0.0000, 0.0000, 0.0000, 0.8285, 1.5273,\n",
      "        0.3184, 2.5311, 0.8466, 0.0000, 2.6088, 0.5950, 0.0000, 1.1799, 1.0546,\n",
      "        0.0000, 0.0000, 0.0000, 0.0000, 0.0000, 0.3508, 0.0000, 0.0000, 0.2092,\n",
      "        0.0000, 0.6119, 0.0000, 0.0000, 0.0000, 0.0000, 0.0000, 0.0000, 0.0000,\n",
      "        0.0000, 2.6226, 1.1616, 0.0000, 0.2172, 0.7493, 0.0000, 0.0000, 0.0000,\n",
      "        0.0000, 0.0000, 0.0000, 0.0000, 0.0000, 0.0000, 0.0000, 0.4709, 0.7902,\n",
      "        0.0069, 1.3900, 2.0843, 0.0000, 0.0000, 1.1967, 0.0000, 4.3854, 0.0000,\n",
      "        0.0000, 0.5906, 0.4221, 0.0098, 0.2167, 0.0000, 0.0000, 0.0000, 0.0000,\n",
      "        1.8285, 0.0000, 0.0000, 0.0000, 0.6332, 0.9085, 0.0000, 0.0000, 0.0000,\n",
      "        0.0000, 0.0000, 0.0000, 0.4975, 0.0383, 0.0000, 0.0000, 0.0000, 1.1369,\n",
      "        0.0000, 2.5614, 0.0000, 0.0000, 0.8887, 0.0000, 0.0000, 1.5068, 0.0000,\n",
      "        1.5345, 3.1136, 0.0000, 0.0449, 2.1954, 0.0000, 0.0000, 0.1467, 0.0000,\n",
      "        3.3125, 0.0000, 0.0000, 0.5857, 1.1963, 0.0000, 0.3803, 0.0000, 1.7760,\n",
      "        0.0000, 0.0000, 0.0000, 0.0000, 0.0000, 0.0000, 0.0000, 0.0596, 0.0000,\n",
      "        0.0000, 0.0000, 0.0000, 0.4514, 2.3058, 0.0000, 0.0000, 0.0000, 0.0000,\n",
      "        0.0000, 0.0000, 0.0000, 0.1315, 0.0000, 0.0000, 0.0000, 0.0000, 4.3482,\n",
      "        0.5572, 0.0000, 0.0000, 1.5242, 0.0000, 0.0000, 0.0000, 2.5216, 0.0000,\n",
      "        0.8432, 0.4312, 0.0000, 0.0000, 0.2116, 0.0000, 0.0000, 0.0000, 1.2144,\n",
      "        1.4196, 0.0000, 0.7312, 0.0000, 0.0000, 0.7254, 0.0000, 0.9049, 4.9658,\n",
      "        0.0000, 0.0000, 0.0000, 1.7637, 0.0000, 0.0000, 0.1990, 1.9636, 0.0000,\n",
      "        2.9421, 0.0000, 0.9331, 0.0339, 3.8027, 0.0000, 0.0000, 0.0000, 0.1629,\n",
      "        0.0000, 1.0857, 0.0000, 0.0000], device='cuda:0',\n",
      "       grad_fn=<ReluBackward0>)\n",
      "tensor([0.0000, 0.0000, 0.0000, 0.0000, 2.4488, 0.5759, 0.2768, 0.0000, 2.1935,\n",
      "        0.0000, 2.0527, 0.0000, 0.0000, 1.5265, 0.2625, 0.0000, 0.0000, 0.0000,\n",
      "        1.1765, 0.0000, 0.0000, 0.0000, 1.4826, 0.0000, 1.8818, 0.0000, 0.0000,\n",
      "        0.0000, 0.0000, 0.0000, 0.0000, 0.0000, 0.0000, 1.0088, 3.2367, 0.0000,\n",
      "        0.7925, 0.9743, 0.0000, 0.0000, 0.0000, 0.0000, 2.0428, 0.0000, 0.0000,\n",
      "        0.5692, 0.0000, 0.0000, 0.0000, 1.6734, 0.0000, 0.2519, 0.0000, 0.0000,\n",
      "        0.0000, 0.0000, 1.5205, 0.2570, 0.0000, 1.7542, 0.0000, 0.6671, 1.8949,\n",
      "        0.0000, 1.2508, 1.5755, 2.4562, 1.5483, 0.0000, 0.5529, 0.0000, 0.0000,\n",
      "        0.9542, 0.0000, 0.9484, 0.9543, 0.0000, 0.0000, 0.0000, 0.0000, 0.0000,\n",
      "        0.0000, 0.0000, 0.0000, 1.3008, 0.0000, 0.5627, 0.0000, 1.4914, 0.1483,\n",
      "        0.0000, 0.0000, 0.0000, 0.0000, 0.5994, 0.0000, 0.0000, 0.0000, 1.3651,\n",
      "        0.0000, 0.0000, 0.0000, 0.6148, 0.0000, 0.0000, 0.0000, 0.0000, 0.2075,\n",
      "        0.0000, 0.2371, 0.4731, 0.2797, 0.0000, 0.0000, 0.0000, 0.3743, 0.0000,\n",
      "        1.0049, 0.3368, 0.0000, 0.0000, 1.6241, 0.0805, 2.0465, 0.0000, 0.0000,\n",
      "        2.0448, 0.3718, 2.0637, 0.0000, 0.0000, 0.0000, 0.0000, 2.4393, 0.0000,\n",
      "        0.0000, 0.0000, 0.0000, 0.2917, 0.6085, 0.1033, 0.0000, 0.0000, 0.6093,\n",
      "        0.1513, 0.0000, 0.0000, 0.0000, 0.0000, 1.3621, 0.1094, 0.1255, 1.1225,\n",
      "        0.0000, 0.3175, 0.0000, 2.8493, 0.8075, 0.0000, 3.8560, 0.0000, 0.2941,\n",
      "        0.0000, 1.7250, 0.0000, 1.4554, 1.7280, 2.4175, 0.0000, 0.6316, 0.4869,\n",
      "        2.2109, 0.0229, 2.1162, 0.0000, 2.0586, 1.8225, 0.0000, 0.0000, 0.0000,\n",
      "        0.0000, 2.4472, 0.0000, 0.0000, 0.4015, 2.5473, 0.0000, 0.5324, 0.1849,\n",
      "        1.2421, 0.0000, 0.0000, 0.0000, 0.0000, 0.0000, 0.0000, 0.1533, 0.0000,\n",
      "        0.0000, 0.0000, 1.1578, 1.5096, 0.0000, 0.2501, 0.0000, 0.0000, 0.0000,\n",
      "        0.5319, 0.0000, 0.0000, 0.0000, 0.0000, 0.0000, 0.0000, 0.5605, 1.1357,\n",
      "        0.0000, 0.0000, 0.4903, 0.0000, 0.0000, 0.9264, 0.0943, 0.0000, 0.4731,\n",
      "        1.4000, 0.0000, 0.2608, 3.0378, 0.2397, 2.4686, 0.8428, 0.0000, 0.0000,\n",
      "        0.0000, 3.9795, 0.0000, 0.0000, 0.0000, 1.4494, 0.0778, 0.0000, 0.0000,\n",
      "        0.0000, 0.0000, 0.0644, 0.0000, 1.7230, 0.0000, 0.6946, 1.6451, 0.0000,\n",
      "        1.2272, 0.0000, 0.8158, 0.0000], device='cuda:0',\n",
      "       grad_fn=<ReluBackward0>)\n"
     ]
    },
    {
     "ename": "KeyboardInterrupt",
     "evalue": "",
     "output_type": "error",
     "traceback": [
      "\u001b[0;31m---------------------------------------------------------------------------\u001b[0m",
      "\u001b[0;31mKeyboardInterrupt\u001b[0m                         Traceback (most recent call last)",
      "\u001b[0;32m/tmp/ipykernel_31/883024258.py\u001b[0m in \u001b[0;36m<cell line: 0>\u001b[0;34m()\u001b[0m\n\u001b[1;32m     17\u001b[0m     \u001b[0;31m# Convert batch['questions'] to a list of strings\u001b[0m\u001b[0;34m\u001b[0m\u001b[0;34m\u001b[0m\u001b[0m\n\u001b[1;32m     18\u001b[0m     \u001b[0mq_vecs\u001b[0m \u001b[0;34m=\u001b[0m \u001b[0mquestion_vectorizer\u001b[0m\u001b[0;34m(\u001b[0m\u001b[0mbatch\u001b[0m\u001b[0;34m[\u001b[0m\u001b[0;34m'questions'\u001b[0m\u001b[0;34m]\u001b[0m\u001b[0;34m.\u001b[0m\u001b[0mtolist\u001b[0m\u001b[0;34m(\u001b[0m\u001b[0;34m)\u001b[0m\u001b[0;34m)\u001b[0m\u001b[0;34m\u001b[0m\u001b[0;34m\u001b[0m\u001b[0m\n\u001b[0;32m---> 19\u001b[0;31m     \u001b[0ma_pos_vecs\u001b[0m \u001b[0;34m=\u001b[0m \u001b[0manswer_vectorizer\u001b[0m\u001b[0;34m(\u001b[0m\u001b[0mbatch\u001b[0m\u001b[0;34m[\u001b[0m\u001b[0;34m'correct_answers'\u001b[0m\u001b[0;34m]\u001b[0m\u001b[0;34m.\u001b[0m\u001b[0mtolist\u001b[0m\u001b[0;34m(\u001b[0m\u001b[0;34m)\u001b[0m\u001b[0;34m)\u001b[0m\u001b[0;34m\u001b[0m\u001b[0;34m\u001b[0m\u001b[0m\n\u001b[0m\u001b[1;32m     20\u001b[0m     \u001b[0ma_neg_vecs\u001b[0m \u001b[0;34m=\u001b[0m \u001b[0manswer_vectorizer\u001b[0m\u001b[0;34m(\u001b[0m\u001b[0mbatch\u001b[0m\u001b[0;34m[\u001b[0m\u001b[0;34m'wrong_answers'\u001b[0m\u001b[0;34m]\u001b[0m\u001b[0;34m.\u001b[0m\u001b[0mtolist\u001b[0m\u001b[0;34m(\u001b[0m\u001b[0;34m)\u001b[0m\u001b[0;34m)\u001b[0m\u001b[0;34m\u001b[0m\u001b[0;34m\u001b[0m\u001b[0m\n\u001b[1;32m     21\u001b[0m \u001b[0;34m\u001b[0m\u001b[0m\n",
      "\u001b[0;32m/usr/local/lib/python3.11/dist-packages/torch/nn/modules/module.py\u001b[0m in \u001b[0;36m_wrapped_call_impl\u001b[0;34m(self, *args, **kwargs)\u001b[0m\n\u001b[1;32m   1734\u001b[0m             \u001b[0;32mreturn\u001b[0m \u001b[0mself\u001b[0m\u001b[0;34m.\u001b[0m\u001b[0m_compiled_call_impl\u001b[0m\u001b[0;34m(\u001b[0m\u001b[0;34m*\u001b[0m\u001b[0margs\u001b[0m\u001b[0;34m,\u001b[0m \u001b[0;34m**\u001b[0m\u001b[0mkwargs\u001b[0m\u001b[0;34m)\u001b[0m  \u001b[0;31m# type: ignore[misc]\u001b[0m\u001b[0;34m\u001b[0m\u001b[0;34m\u001b[0m\u001b[0m\n\u001b[1;32m   1735\u001b[0m         \u001b[0;32melse\u001b[0m\u001b[0;34m:\u001b[0m\u001b[0;34m\u001b[0m\u001b[0;34m\u001b[0m\u001b[0m\n\u001b[0;32m-> 1736\u001b[0;31m             \u001b[0;32mreturn\u001b[0m \u001b[0mself\u001b[0m\u001b[0;34m.\u001b[0m\u001b[0m_call_impl\u001b[0m\u001b[0;34m(\u001b[0m\u001b[0;34m*\u001b[0m\u001b[0margs\u001b[0m\u001b[0;34m,\u001b[0m \u001b[0;34m**\u001b[0m\u001b[0mkwargs\u001b[0m\u001b[0;34m)\u001b[0m\u001b[0;34m\u001b[0m\u001b[0;34m\u001b[0m\u001b[0m\n\u001b[0m\u001b[1;32m   1737\u001b[0m \u001b[0;34m\u001b[0m\u001b[0m\n\u001b[1;32m   1738\u001b[0m     \u001b[0;31m# torchrec tests the code consistency with the following code\u001b[0m\u001b[0;34m\u001b[0m\u001b[0;34m\u001b[0m\u001b[0m\n",
      "\u001b[0;32m/usr/local/lib/python3.11/dist-packages/torch/nn/modules/module.py\u001b[0m in \u001b[0;36m_call_impl\u001b[0;34m(self, *args, **kwargs)\u001b[0m\n\u001b[1;32m   1745\u001b[0m                 \u001b[0;32mor\u001b[0m \u001b[0m_global_backward_pre_hooks\u001b[0m \u001b[0;32mor\u001b[0m \u001b[0m_global_backward_hooks\u001b[0m\u001b[0;34m\u001b[0m\u001b[0;34m\u001b[0m\u001b[0m\n\u001b[1;32m   1746\u001b[0m                 or _global_forward_hooks or _global_forward_pre_hooks):\n\u001b[0;32m-> 1747\u001b[0;31m             \u001b[0;32mreturn\u001b[0m \u001b[0mforward_call\u001b[0m\u001b[0;34m(\u001b[0m\u001b[0;34m*\u001b[0m\u001b[0margs\u001b[0m\u001b[0;34m,\u001b[0m \u001b[0;34m**\u001b[0m\u001b[0mkwargs\u001b[0m\u001b[0;34m)\u001b[0m\u001b[0;34m\u001b[0m\u001b[0;34m\u001b[0m\u001b[0m\n\u001b[0m\u001b[1;32m   1748\u001b[0m \u001b[0;34m\u001b[0m\u001b[0m\n\u001b[1;32m   1749\u001b[0m         \u001b[0mresult\u001b[0m \u001b[0;34m=\u001b[0m \u001b[0;32mNone\u001b[0m\u001b[0;34m\u001b[0m\u001b[0;34m\u001b[0m\u001b[0m\n",
      "\u001b[0;32m/tmp/ipykernel_31/530069457.py\u001b[0m in \u001b[0;36mforward\u001b[0;34m(self, input_phrases)\u001b[0m\n\u001b[1;32m     38\u001b[0m         \u001b[0;31m# return <...>\u001b[0m\u001b[0;34m\u001b[0m\u001b[0;34m\u001b[0m\u001b[0m\n\u001b[1;32m     39\u001b[0m         \u001b[0;32mwith\u001b[0m \u001b[0mtorch\u001b[0m\u001b[0;34m.\u001b[0m\u001b[0mno_grad\u001b[0m\u001b[0;34m(\u001b[0m\u001b[0;34m)\u001b[0m\u001b[0;34m:\u001b[0m\u001b[0;34m\u001b[0m\u001b[0;34m\u001b[0m\u001b[0m\n\u001b[0;32m---> 40\u001b[0;31m             \u001b[0mbatch\u001b[0m \u001b[0;34m=\u001b[0m \u001b[0mtokenizer\u001b[0m\u001b[0;34m(\u001b[0m\u001b[0minput_phrases\u001b[0m\u001b[0;34m,\u001b[0m \u001b[0mpadding\u001b[0m\u001b[0;34m=\u001b[0m\u001b[0;32mTrue\u001b[0m\u001b[0;34m,\u001b[0m \u001b[0mtruncation\u001b[0m\u001b[0;34m=\u001b[0m\u001b[0;32mTrue\u001b[0m\u001b[0;34m,\u001b[0m \u001b[0mreturn_tensors\u001b[0m\u001b[0;34m=\u001b[0m\u001b[0;34m\"pt\"\u001b[0m\u001b[0;34m)\u001b[0m\u001b[0;34m.\u001b[0m\u001b[0mto\u001b[0m\u001b[0;34m(\u001b[0m\u001b[0mdevice\u001b[0m\u001b[0;34m)\u001b[0m\u001b[0;34m\u001b[0m\u001b[0;34m\u001b[0m\u001b[0m\n\u001b[0m\u001b[1;32m     41\u001b[0m             \u001b[0moutputs\u001b[0m \u001b[0;34m=\u001b[0m \u001b[0mself\u001b[0m\u001b[0;34m.\u001b[0m\u001b[0mbert\u001b[0m\u001b[0;34m(\u001b[0m\u001b[0;34m**\u001b[0m\u001b[0mbatch\u001b[0m\u001b[0;34m)\u001b[0m\u001b[0;34m\u001b[0m\u001b[0;34m\u001b[0m\u001b[0m\n\u001b[1;32m     42\u001b[0m \u001b[0;34m\u001b[0m\u001b[0m\n",
      "\u001b[0;32m/usr/local/lib/python3.11/dist-packages/transformers/tokenization_utils_base.py\u001b[0m in \u001b[0;36mto\u001b[0;34m(self, device)\u001b[0m\n\u001b[1;32m    787\u001b[0m         \u001b[0;31m# into a HalfTensor\u001b[0m\u001b[0;34m\u001b[0m\u001b[0;34m\u001b[0m\u001b[0m\n\u001b[1;32m    788\u001b[0m         \u001b[0;32mif\u001b[0m \u001b[0misinstance\u001b[0m\u001b[0;34m(\u001b[0m\u001b[0mdevice\u001b[0m\u001b[0;34m,\u001b[0m \u001b[0mstr\u001b[0m\u001b[0;34m)\u001b[0m \u001b[0;32mor\u001b[0m \u001b[0mis_torch_device\u001b[0m\u001b[0;34m(\u001b[0m\u001b[0mdevice\u001b[0m\u001b[0;34m)\u001b[0m \u001b[0;32mor\u001b[0m \u001b[0misinstance\u001b[0m\u001b[0;34m(\u001b[0m\u001b[0mdevice\u001b[0m\u001b[0;34m,\u001b[0m \u001b[0mint\u001b[0m\u001b[0;34m)\u001b[0m\u001b[0;34m:\u001b[0m\u001b[0;34m\u001b[0m\u001b[0;34m\u001b[0m\u001b[0m\n\u001b[0;32m--> 789\u001b[0;31m             \u001b[0mself\u001b[0m\u001b[0;34m.\u001b[0m\u001b[0mdata\u001b[0m \u001b[0;34m=\u001b[0m \u001b[0;34m{\u001b[0m\u001b[0mk\u001b[0m\u001b[0;34m:\u001b[0m \u001b[0mv\u001b[0m\u001b[0;34m.\u001b[0m\u001b[0mto\u001b[0m\u001b[0;34m(\u001b[0m\u001b[0mdevice\u001b[0m\u001b[0;34m=\u001b[0m\u001b[0mdevice\u001b[0m\u001b[0;34m)\u001b[0m \u001b[0;32mfor\u001b[0m \u001b[0mk\u001b[0m\u001b[0;34m,\u001b[0m \u001b[0mv\u001b[0m \u001b[0;32min\u001b[0m \u001b[0mself\u001b[0m\u001b[0;34m.\u001b[0m\u001b[0mdata\u001b[0m\u001b[0;34m.\u001b[0m\u001b[0mitems\u001b[0m\u001b[0;34m(\u001b[0m\u001b[0;34m)\u001b[0m\u001b[0;34m}\u001b[0m\u001b[0;34m\u001b[0m\u001b[0;34m\u001b[0m\u001b[0m\n\u001b[0m\u001b[1;32m    790\u001b[0m         \u001b[0;32melse\u001b[0m\u001b[0;34m:\u001b[0m\u001b[0;34m\u001b[0m\u001b[0;34m\u001b[0m\u001b[0m\n\u001b[1;32m    791\u001b[0m             \u001b[0mlogger\u001b[0m\u001b[0;34m.\u001b[0m\u001b[0mwarning\u001b[0m\u001b[0;34m(\u001b[0m\u001b[0;34mf\"Attempting to cast a BatchEncoding to type {str(device)}. This is not supported.\"\u001b[0m\u001b[0;34m)\u001b[0m\u001b[0;34m\u001b[0m\u001b[0;34m\u001b[0m\u001b[0m\n",
      "\u001b[0;32m/usr/local/lib/python3.11/dist-packages/transformers/tokenization_utils_base.py\u001b[0m in \u001b[0;36m<dictcomp>\u001b[0;34m(.0)\u001b[0m\n\u001b[1;32m    787\u001b[0m         \u001b[0;31m# into a HalfTensor\u001b[0m\u001b[0;34m\u001b[0m\u001b[0;34m\u001b[0m\u001b[0m\n\u001b[1;32m    788\u001b[0m         \u001b[0;32mif\u001b[0m \u001b[0misinstance\u001b[0m\u001b[0;34m(\u001b[0m\u001b[0mdevice\u001b[0m\u001b[0;34m,\u001b[0m \u001b[0mstr\u001b[0m\u001b[0;34m)\u001b[0m \u001b[0;32mor\u001b[0m \u001b[0mis_torch_device\u001b[0m\u001b[0;34m(\u001b[0m\u001b[0mdevice\u001b[0m\u001b[0;34m)\u001b[0m \u001b[0;32mor\u001b[0m \u001b[0misinstance\u001b[0m\u001b[0;34m(\u001b[0m\u001b[0mdevice\u001b[0m\u001b[0;34m,\u001b[0m \u001b[0mint\u001b[0m\u001b[0;34m)\u001b[0m\u001b[0;34m:\u001b[0m\u001b[0;34m\u001b[0m\u001b[0;34m\u001b[0m\u001b[0m\n\u001b[0;32m--> 789\u001b[0;31m             \u001b[0mself\u001b[0m\u001b[0;34m.\u001b[0m\u001b[0mdata\u001b[0m \u001b[0;34m=\u001b[0m \u001b[0;34m{\u001b[0m\u001b[0mk\u001b[0m\u001b[0;34m:\u001b[0m \u001b[0mv\u001b[0m\u001b[0;34m.\u001b[0m\u001b[0mto\u001b[0m\u001b[0;34m(\u001b[0m\u001b[0mdevice\u001b[0m\u001b[0;34m=\u001b[0m\u001b[0mdevice\u001b[0m\u001b[0;34m)\u001b[0m \u001b[0;32mfor\u001b[0m \u001b[0mk\u001b[0m\u001b[0;34m,\u001b[0m \u001b[0mv\u001b[0m \u001b[0;32min\u001b[0m \u001b[0mself\u001b[0m\u001b[0;34m.\u001b[0m\u001b[0mdata\u001b[0m\u001b[0;34m.\u001b[0m\u001b[0mitems\u001b[0m\u001b[0;34m(\u001b[0m\u001b[0;34m)\u001b[0m\u001b[0;34m}\u001b[0m\u001b[0;34m\u001b[0m\u001b[0;34m\u001b[0m\u001b[0m\n\u001b[0m\u001b[1;32m    790\u001b[0m         \u001b[0;32melse\u001b[0m\u001b[0;34m:\u001b[0m\u001b[0;34m\u001b[0m\u001b[0;34m\u001b[0m\u001b[0m\n\u001b[1;32m    791\u001b[0m             \u001b[0mlogger\u001b[0m\u001b[0;34m.\u001b[0m\u001b[0mwarning\u001b[0m\u001b[0;34m(\u001b[0m\u001b[0;34mf\"Attempting to cast a BatchEncoding to type {str(device)}. This is not supported.\"\u001b[0m\u001b[0;34m)\u001b[0m\u001b[0;34m\u001b[0m\u001b[0;34m\u001b[0m\u001b[0m\n",
      "\u001b[0;31mKeyboardInterrupt\u001b[0m: "
     ]
    }
   ],
   "source": [
    "# infinite training loop. Stop it manually or implement early stopping\n",
    "\n",
    "# for batch in iterate_minibatches(train, batch_size=256, cycle=True):\n",
    "for batch_idx, batch in enumerate(iterate_minibatches(train, batch_size=256, cycle=True)):\n",
    "\n",
    "    # # Perform one training step\n",
    "    # <YOUR CODE>\n",
    "\n",
    "\n",
    "    # loss_t = <...>\n",
    "    # loss_history.append(float(loss_t))\n",
    "\n",
    "    # Training step\n",
    "    optimizer.zero_grad()\n",
    "\n",
    "    # Vectorize batch\n",
    "    # Convert batch['questions'] to a list of strings\n",
    "    q_vecs = question_vectorizer(batch['questions'].tolist())\n",
    "    a_pos_vecs = answer_vectorizer(batch['correct_answers'].tolist())\n",
    "    a_neg_vecs = answer_vectorizer(batch['wrong_answers'].tolist())\n",
    "\n",
    "    # Compute loss\n",
    "    loss = compute_loss(q_vecs, a_pos_vecs, a_neg_vecs)\n",
    "\n",
    "    # Calculate the mean loss over the batch to get a scalar value\n",
    "    loss = loss.mean()\n",
    "    # Backpropagate\n",
    "    loss.backward()\n",
    "    optimizer.step()\n",
    "\n",
    "    # Store loss\n",
    "    loss_t = loss.item()\n",
    "    loss_history.append(loss_t)\n",
    "\n",
    "    # Validation every 50 steps\n",
    "    if (batch_idx + 1) % 50 == 0:\n",
    "        \n",
    "        dev_batch = next(dev_batches)\n",
    "        with torch.no_grad():\n",
    "        # Pass raw text to get_recall (no vectorization here)\n",
    "            recall_t = get_recall(\n",
    "                dev_batch['questions'].tolist(), \n",
    "                dev_batch['correct_answers'].tolist(),\n",
    "                dev_batch['wrong_answers'].tolist()\n",
    "            )\n",
    "        dev_recall_history.append(recall_t)\n",
    "\n",
    "        # Update plots\n",
    "        clear_output(True)\n",
    "        plt.figure(figsize=[12, 6])\n",
    "\n",
    "        plt.subplot(1, 2, 1)\n",
    "        plt.title('Train Loss (Hinge)')\n",
    "        plt.grid()\n",
    "        plt.scatter(np.arange(len(loss_history)), loss_history, alpha=0.1)\n",
    "        plt.plot(ewma(loss_history, span=100))\n",
    "\n",
    "        plt.subplot(1, 2, 2)\n",
    "        plt.title('Validation Recall')\n",
    "        plt.grid()\n",
    "        dev_time = np.arange(1, len(dev_recall_history)+1) * 50\n",
    "        plt.scatter(dev_time, dev_recall_history, alpha=0.1)\n",
    "        plt.plot(dev_time, ewma(dev_recall_history, span=10))\n",
    "        plt.ylim(0, 1)\n",
    "\n",
    "        plt.show()\n"
   ]
  },
  {
   "cell_type": "code",
   "execution_count": null,
   "metadata": {
    "trusted": true
   },
   "outputs": [],
   "source": []
  },
  {
   "cell_type": "code",
   "execution_count": 27,
   "metadata": {
    "colab": {
     "base_uri": "https://localhost:8080/",
     "height": 215
    },
    "execution": {
     "iopub.execute_input": "2025-05-07T00:08:50.242519Z",
     "iopub.status.busy": "2025-05-07T00:08:50.241950Z",
     "iopub.status.idle": "2025-05-07T00:08:50.264510Z",
     "shell.execute_reply": "2025-05-07T00:08:50.263594Z",
     "shell.execute_reply.started": "2025-05-07T00:08:50.242497Z"
    },
    "id": "kYLKsDNKcLU9",
    "outputId": "abe9cb25-6476-49db-de48-7d26be106d92",
    "trusted": true
   },
   "outputs": [
    {
     "name": "stdout",
     "output_type": "stream",
     "text": [
      "Mean recall: 0.7630208333333334\n"
     ]
    },
    {
     "ename": "AssertionError",
     "evalue": "Please train for at least 85% recall on test set. You may need to change vectorizer model for that.",
     "output_type": "error",
     "traceback": [
      "\u001b[0;31m---------------------------------------------------------------------------\u001b[0m",
      "\u001b[0;31mAssertionError\u001b[0m                            Traceback (most recent call last)",
      "\u001b[0;32m/tmp/ipykernel_31/2536160131.py\u001b[0m in \u001b[0;36m<cell line: 0>\u001b[0;34m()\u001b[0m\n\u001b[1;32m      1\u001b[0m \u001b[0mprint\u001b[0m\u001b[0;34m(\u001b[0m\u001b[0;34m\"Mean recall:\"\u001b[0m\u001b[0;34m,\u001b[0m \u001b[0mnp\u001b[0m\u001b[0;34m.\u001b[0m\u001b[0mmean\u001b[0m\u001b[0;34m(\u001b[0m\u001b[0mdev_recall_history\u001b[0m\u001b[0;34m[\u001b[0m\u001b[0;34m-\u001b[0m\u001b[0;36m10\u001b[0m\u001b[0;34m:\u001b[0m\u001b[0;34m]\u001b[0m\u001b[0;34m)\u001b[0m\u001b[0;34m)\u001b[0m\u001b[0;34m\u001b[0m\u001b[0;34m\u001b[0m\u001b[0m\n\u001b[0;32m----> 2\u001b[0;31m \u001b[0;32massert\u001b[0m \u001b[0mnp\u001b[0m\u001b[0;34m.\u001b[0m\u001b[0mmean\u001b[0m\u001b[0;34m(\u001b[0m\u001b[0mdev_recall_history\u001b[0m\u001b[0;34m[\u001b[0m\u001b[0;34m-\u001b[0m\u001b[0;36m10\u001b[0m\u001b[0;34m:\u001b[0m\u001b[0;34m]\u001b[0m\u001b[0;34m)\u001b[0m \u001b[0;34m>\u001b[0m \u001b[0;36m0.85\u001b[0m\u001b[0;34m,\u001b[0m \u001b[0;34m\"Please train for at least 85% recall on test set. \"\u001b[0m\u001b[0;31m\\\u001b[0m\u001b[0;34m\u001b[0m\u001b[0;34m\u001b[0m\u001b[0m\n\u001b[0m\u001b[1;32m      3\u001b[0m                                                   \u001b[0;34m\"You may need to change vectorizer model for that.\"\u001b[0m\u001b[0;34m\u001b[0m\u001b[0;34m\u001b[0m\u001b[0m\n\u001b[1;32m      4\u001b[0m \u001b[0mprint\u001b[0m\u001b[0;34m(\u001b[0m\u001b[0;34m\"Well done!\"\u001b[0m\u001b[0;34m)\u001b[0m\u001b[0;34m\u001b[0m\u001b[0;34m\u001b[0m\u001b[0m\n",
      "\u001b[0;31mAssertionError\u001b[0m: Please train for at least 85% recall on test set. You may need to change vectorizer model for that."
     ]
    }
   ],
   "source": [
    "print(\"Mean recall:\", np.mean(dev_recall_history[-10:]))\n",
    "assert np.mean(dev_recall_history[-10:]) > 0.85, \"Please train for at least 85% recall on test set. \"\\\n",
    "                                                  \"You may need to change vectorizer model for that.\"\n",
    "print(\"Well done!\")"
   ]
  },
  {
   "cell_type": "markdown",
   "metadata": {
    "collapsed": true,
    "id": "YMsVSsaScLU-",
    "jupyter": {
     "outputs_hidden": true
    }
   },
   "source": [
    "# Retriever evaluation (2 point)\n",
    "\n",
    "Let's see how well does our model perform on actual question answering.\n",
    "\n",
    "Given a question and a set of possible answers, pick answer with highest similarity to estimate accuracy."
   ]
  },
  {
   "cell_type": "code",
   "execution_count": 28,
   "metadata": {
    "execution": {
     "iopub.execute_input": "2025-05-07T00:08:56.882037Z",
     "iopub.status.busy": "2025-05-07T00:08:56.881762Z",
     "iopub.status.idle": "2025-05-07T00:08:56.886828Z",
     "shell.execute_reply": "2025-05-07T00:08:56.886159Z",
     "shell.execute_reply.started": "2025-05-07T00:08:56.882018Z"
    },
    "id": "drbFaxidcLU-",
    "trusted": true
   },
   "outputs": [],
   "source": [
    "# optional: any additional preparations, e.g. build index\n",
    "# <...>\n",
    "\n",
    "def select_best_answer(question, possible_answers):\n",
    "    \"\"\"\n",
    "    Predicts which answer best fits the question\n",
    "    :param question: a single string containing a question\n",
    "    :param possible_answers: a list of strings containing possible answers\n",
    "    :returns: integer - the index of best answer in possible_answer\n",
    "    \"\"\"\n",
    "    # <YOUR CODE>\n",
    "    # return <...>\n",
    "    question_vectorizer.eval()\n",
    "    answer_vectorizer.eval()\n",
    "\n",
    "    with torch.no_grad():\n",
    "        # Vectorize question\n",
    "        q_vec = question_vectorizer([question]).squeeze(0)\n",
    "\n",
    "        # Vectorize all possible answers\n",
    "        a_vecs = answer_vectorizer(possible_answers)\n",
    "\n",
    "        # Compute dot product similarities\n",
    "        similarities = (a_vecs * q_vec).sum(dim=1)\n",
    "\n",
    "        # Return index of maximum similarity\n",
    "        return torch.argmax(similarities).item()\n"
   ]
  },
  {
   "cell_type": "code",
   "execution_count": 29,
   "metadata": {
    "colab": {
     "base_uri": "https://localhost:8080/",
     "height": 232
    },
    "execution": {
     "iopub.execute_input": "2025-05-07T00:09:01.480981Z",
     "iopub.status.busy": "2025-05-07T00:09:01.480386Z",
     "iopub.status.idle": "2025-05-07T00:21:11.618877Z",
     "shell.execute_reply": "2025-05-07T00:21:11.618094Z",
     "shell.execute_reply.started": "2025-05-07T00:09:01.480958Z"
    },
    "id": "9aLwahCxcLU-",
    "outputId": "fa1db851-47da-4037-babc-d02c96f2c1c1",
    "trusted": true
   },
   "outputs": [
    {
     "name": "stderr",
     "output_type": "stream",
     "text": [
      "100%|██████████| 26970/26970 [12:10<00:00, 36.94it/s]"
     ]
    },
    {
     "name": "stdout",
     "output_type": "stream",
     "text": [
      "Accuracy: 0.56930\n"
     ]
    },
    {
     "name": "stderr",
     "output_type": "stream",
     "text": [
      "\n"
     ]
    },
    {
     "ename": "AssertionError",
     "evalue": "we need more accuracy!",
     "output_type": "error",
     "traceback": [
      "\u001b[0;31m---------------------------------------------------------------------------\u001b[0m",
      "\u001b[0;31mAssertionError\u001b[0m                            Traceback (most recent call last)",
      "\u001b[0;32m/tmp/ipykernel_31/60879639.py\u001b[0m in \u001b[0;36m<cell line: 0>\u001b[0;34m()\u001b[0m\n\u001b[1;32m      9\u001b[0m ])\n\u001b[1;32m     10\u001b[0m \u001b[0mprint\u001b[0m\u001b[0;34m(\u001b[0m\u001b[0;34m\"Accuracy: %0.5f\"\u001b[0m \u001b[0;34m%\u001b[0m \u001b[0maccuracy\u001b[0m\u001b[0;34m)\u001b[0m\u001b[0;34m\u001b[0m\u001b[0;34m\u001b[0m\u001b[0m\n\u001b[0;32m---> 11\u001b[0;31m \u001b[0;32massert\u001b[0m \u001b[0maccuracy\u001b[0m \u001b[0;34m>\u001b[0m \u001b[0;36m0.65\u001b[0m\u001b[0;34m,\u001b[0m \u001b[0;34m\"we need more accuracy!\"\u001b[0m\u001b[0;34m\u001b[0m\u001b[0;34m\u001b[0m\u001b[0m\n\u001b[0m\u001b[1;32m     12\u001b[0m \u001b[0mprint\u001b[0m\u001b[0;34m(\u001b[0m\u001b[0;34m\"Great job!\"\u001b[0m\u001b[0;34m)\u001b[0m\u001b[0;34m\u001b[0m\u001b[0;34m\u001b[0m\u001b[0m\n",
      "\u001b[0;31mAssertionError\u001b[0m: we need more accuracy!"
     ]
    }
   ],
   "source": [
    "predicted_answers = [\n",
    "    select_best_answer(question, possible_answers)\n",
    "    for i, (question, possible_answers) in tqdm(test[['question', 'options']].iterrows(), total=len(test))\n",
    "]\n",
    "\n",
    "accuracy = np.mean([\n",
    "    answer in correct_ix\n",
    "    for answer, correct_ix in zip(predicted_answers, test['correct_indices'].values)\n",
    "])\n",
    "print(\"Accuracy: %0.5f\" % accuracy)\n",
    "assert accuracy > 0.65, \"we need more accuracy!\"\n",
    "print(\"Great job!\")"
   ]
  },
  {
   "cell_type": "code",
   "execution_count": 31,
   "metadata": {
    "execution": {
     "iopub.execute_input": "2025-05-07T00:21:15.571426Z",
     "iopub.status.busy": "2025-05-07T00:21:15.571152Z",
     "iopub.status.idle": "2025-05-07T00:21:15.576175Z",
     "shell.execute_reply": "2025-05-07T00:21:15.575462Z",
     "shell.execute_reply.started": "2025-05-07T00:21:15.571404Z"
    },
    "id": "w3ODWG4kcLU_",
    "trusted": true
   },
   "outputs": [],
   "source": [
    "def draw_results(question, possible_answers, predicted_index, correct_indices):\n",
    "    print(\"Q:\", question, end='\\n\\n')\n",
    "    for i, answer in enumerate(possible_answers):\n",
    "        print(\"#%i: %s %s\" % (i, '[*]' if i == predicted_index else '[ ]', answer))\n",
    "\n",
    "    print(\"\\nVerdict:\", \"CORRECT\" if predicted_index in correct_indices else \"INCORRECT\",\n",
    "          \"(ref: %s)\" % correct_indices, end='\\n' * 3)"
   ]
  },
  {
   "cell_type": "code",
   "execution_count": 32,
   "metadata": {
    "colab": {
     "base_uri": "https://localhost:8080/"
    },
    "execution": {
     "iopub.execute_input": "2025-05-07T00:21:19.292673Z",
     "iopub.status.busy": "2025-05-07T00:21:19.291862Z",
     "iopub.status.idle": "2025-05-07T00:21:19.299070Z",
     "shell.execute_reply": "2025-05-07T00:21:19.298277Z",
     "shell.execute_reply.started": "2025-05-07T00:21:19.292639Z"
    },
    "id": "sLbpRSSmcLU_",
    "outputId": "86ff1ab7-a2c2-4bf7-fbc7-a65fc6e11b63",
    "trusted": true
   },
   "outputs": [
    {
     "name": "stdout",
     "output_type": "stream",
     "text": [
      "Q: Which three countries did Beyonce's song \"Work It Out\" achieve top ten status?\n",
      "\n",
      "#0: [*] In July 2002, Beyoncé continued her acting career playing Foxxy Cleopatra alongside Mike Myers in the comedy film, Austin Powers in Goldmember, which spent its first weekend atop the US box office and grossed $73 million.\n",
      "#1: [ ] Beyoncé released \"Work It Out\" as the lead single from its soundtrack album which entered the top ten in the UK, Norway, and Belgium.\n",
      "#2: [ ] In 2003, Beyoncé starred opposite Cuba Gooding, Jr., in the musical comedy The Fighting Temptations as Lilly, a single mother whom Gooding's character falls in love with.\n",
      "#3: [ ] The film received mixed reviews from critics but grossed $30 million in the U.S. Beyoncé released \"Fighting Temptation\" as the lead single from the film's soundtrack album, with Missy Elliott, MC Lyte, and Free which was also used to promote the film.\n",
      "#4: [ ] Another of Beyoncé's contributions to the soundtrack, \"Summertime\", fared better on the US charts.\n",
      "\n",
      "Verdict: INCORRECT (ref: [1])\n",
      "\n",
      "\n",
      "Q: Jay Z has a website called what?\n",
      "\n",
      "#0: [*] On January 7, 2012, Beyoncé gave birth to a daughter, Blue Ivy Carter, at Lenox Hill Hospital in New York under heavy security.\n",
      "#1: [ ] Two days later, Jay Z released \"Glory\", a song dedicated to their child, on his website Lifeandtimes.com.\n",
      "#2: [ ] The song detailed the couple's pregnancy struggles, including a miscarriage Beyoncé suffered before becoming pregnant with Blue Ivy.\n",
      "#3: [ ] Blue Ivy's cries are included at the end of the song, and she was officially credited as \"B.I.C.\"\n",
      "#4: [ ] on it. At two days old, she became the youngest person ever to appear on a Billboard chart when \"Glory\" debuted on the Hot R&B/Hip-Hop Songs chart.\n",
      "\n",
      "Verdict: INCORRECT (ref: [1])\n",
      "\n",
      "\n",
      "Q: In what year did the state of New York pass a law to free the slaves?\n",
      "\n",
      "#0: [*] Under New York State's gradual abolition act of 1799, children of slave mothers were born to be eventually liberated but were held in indentured servitude until their mid-to-late twenties.\n",
      "#1: [ ] Together with slaves freed by their masters after the Revolutionary War and escaped slaves, a significant free-black population gradually developed in Manhattan.\n",
      "#2: [ ] Under such influential United States founders as Alexander Hamilton and John Jay, the New York Manumission Society worked for abolition and established the African Free School to educate black children.\n",
      "#3: [ ] It was not until 1827 that slavery was completely abolished in the state, and free blacks struggled afterward with discrimination.\n",
      "#4: [ ] New York interracial abolitionist activism continued; among its leaders were graduates of the African Free School.\n",
      "#5: [ ] The city's black population reached more than 16,000 in 1840.\n",
      "\n",
      "Verdict: CORRECT (ref: [0])\n",
      "\n",
      "\n",
      "Q: How many Special Police protected the relay event?\n",
      "\n",
      "#0: [ ] Malaysia: The event was held in the capital city, Kuala Lumpur, on April 21.\n",
      "#1: [ ] The 16.5 km long-relay began from the historic Independence Square, passed in front of several city landmarks before coming to an end at the iconic Petronas Twin Towers.\n",
      "#2: [ ] Among the landmarks the Olympic flame passed next to were the Parliament House, National Mosque, KL Tower and Merdeka Stadium.\n",
      "#3: [*] A team of 1000 personnel from the Malaysian police Special Action Squad guarded the event and escorted the torchbearers.\n",
      "#4: [ ] The last time an Olympic torch relay was held in Malaysia was the 1964 Tokyo edition.\n",
      "\n",
      "Verdict: CORRECT (ref: [3])\n",
      "\n",
      "\n",
      "Q: When the Soviet Union ended in 1991, what was the RSFSR government called?\n",
      "\n",
      "#0: [ ] The Government was known officially as the Council of People's Commissars (1917–1946), Council of Ministers (1946–1978) and Council of Ministers–Government (1978–1991).\n",
      "#1: [*] The first government was headed by Vladimir Lenin as \"Chairman of the Council of People's Commissars of the Russian SFSR\" and the last by Boris Yeltsin as both head of government and head of state under the title \"President\".\n",
      "\n",
      "Verdict: INCORRECT (ref: [0])\n",
      "\n",
      "\n",
      "Q: What radio station format is facing demographic pressures in the present day?\n",
      "\n",
      "#0: [*] The soft AC format may soon be facing the demographic pressures that the jazz and big band formats faced in the 1960s and 1970s and that the oldies format is starting to face today, with the result that one may hear soft AC less on over-the-air radio and more on satellite radio systems in coming years.\n",
      "#1: [ ] Much of the music and artists that were traditionally played on soft AC stations have been relegated to the adult standards format, which is itself disappearing because of aging demographics.\n",
      "#2: [ ] Some soft AC stations have found a niche by incorporating more oldies into their playlists and are more open to playing softer songs that fit the \"traditional\" definition of AC.\n",
      "\n",
      "Verdict: CORRECT (ref: [0])\n",
      "\n",
      "\n",
      "Q: Where was the street named after Tito that was found unconstitutional located?\n",
      "\n",
      "#0: [ ] In the years following the dissolution of Yugoslavia, some historians stated that human rights were suppressed in Yugoslavia under Tito, particularly in the first decade up until the Tito-Stalin split.\n",
      "#1: [*] On 4 October 2011, the Slovenian Constitutional Court found a 2009 naming of a street in Ljubljana after Tito to be unconstitutional.\n",
      "#2: [ ] While several public areas in Slovenia (named during the Yugoslav period) do already bear Tito's name, on the issue of renaming an additional street the court ruled that:\n",
      "\n",
      "Verdict: CORRECT (ref: [1])\n",
      "\n",
      "\n"
     ]
    }
   ],
   "source": [
    "for i in [1, 100, 1000, 2000, 3000, 4000, 5000]:\n",
    "    draw_results(test.iloc[i].question, test.iloc[i].options,\n",
    "                 predicted_answers[i], test.iloc[i].correct_indices)"
   ]
  },
  {
   "cell_type": "code",
   "execution_count": 33,
   "metadata": {
    "colab": {
     "base_uri": "https://localhost:8080/"
    },
    "execution": {
     "iopub.execute_input": "2025-05-07T00:21:27.572863Z",
     "iopub.status.busy": "2025-05-07T00:21:27.572585Z",
     "iopub.status.idle": "2025-05-07T00:21:27.602925Z",
     "shell.execute_reply": "2025-05-07T00:21:27.602343Z",
     "shell.execute_reply.started": "2025-05-07T00:21:27.572841Z"
    },
    "id": "Ki4qVJo_cLU_",
    "outputId": "7796305d-d224-434e-c475-292d7d038a93",
    "trusted": true
   },
   "outputs": [
    {
     "name": "stdout",
     "output_type": "stream",
     "text": [
      "Q: What is my name?\n",
      "\n",
      "#0: [ ] Names are typically given at birth\n",
      "#1: [*] Your name is specified in your birth certificate\n",
      "#2: [ ] Personal names vary across cultures\n",
      "\n",
      "Verdict: INCORRECT (ref: [0])\n",
      "\n",
      "\n"
     ]
    }
   ],
   "source": [
    "question = \"What is my name?\" # your question here!\n",
    "possible_answers = [\n",
    "    # <...>\n",
    "    # # ^- your options.\n",
    "    \"Names are typically given at birth\",\n",
    "    \"Your name is specified in your birth certificate\",\n",
    "    \"Personal names vary across cultures\"\n",
    "]\n",
    "predicted_answer = select_best_answer(question, possible_answers)\n",
    "\n",
    "draw_results(question, possible_answers,\n",
    "             predicted_answer, [0])"
   ]
  },
  {
   "cell_type": "markdown",
   "metadata": {
    "id": "Yw0l5dyAcLU_"
   },
   "source": [
    "### Part 2: to prompt a generator (3 points)\n",
    "\n",
    "You have built a model that can select the most relevant sentence from a text document. However, this is still not the same as question answering - at least not how humans understand it. The full question answering system shoud answer your question in a dialogue - and perhap even let you ask follow-up questions."
   ]
  },
  {
   "cell_type": "code",
   "execution_count": null,
   "metadata": {
    "colab": {
     "base_uri": "https://localhost:8080/"
    },
    "id": "arP5tXkatT5M",
    "outputId": "10f81230-6df5-4cf8-b1cc-6fa19849757f",
    "trusted": true
   },
   "outputs": [],
   "source": []
  },
  {
   "cell_type": "code",
   "execution_count": null,
   "metadata": {
    "execution": {
     "iopub.execute_input": "2025-05-07T00:26:14.228218Z",
     "iopub.status.busy": "2025-05-07T00:26:14.227926Z",
     "iopub.status.idle": "2025-05-07T00:26:14.865344Z",
     "shell.execute_reply": "2025-05-07T00:26:14.864735Z",
     "shell.execute_reply.started": "2025-05-07T00:26:14.228197Z"
    },
    "trusted": true
   },
   "outputs": [],
   "source": [
    "\n",
    "torch.save({\n",
    "    'question_state_dict': question_vectorizer.state_dict(),\n",
    "    'answer_state_dict': answer_vectorizer.state_dict(),\n",
    "    'hidden_size': question_vectorizer.hid_size,\n",
    "    'tokenizer': tokenizer  # Save tokenizer if using custom one\n",
    "}, '/kaggle/working/retriever_model.pth')  # Save in Kaggle working directory\n"
   ]
  },
  {
   "cell_type": "code",
   "execution_count": null,
   "metadata": {
    "execution": {
     "iopub.status.busy": "2025-05-07T00:08:42.659425Z",
     "iopub.status.idle": "2025-05-07T00:08:42.659720Z",
     "shell.execute_reply": "2025-05-07T00:08:42.659609Z",
     "shell.execute_reply.started": "2025-05-07T00:08:42.659596Z"
    },
    "trusted": true
   },
   "outputs": [],
   "source": [
    "#For loading retriever\n",
    "# checkpoint = torch.load(filename, map_location=device)\n",
    "# model = Vectorizer(hid_size=checkpoint['hidden_size']).to(device)\n",
    "# model.question_vectorizer.load_state_dict(checkpoint['question_state_dict'])\n",
    "# model.answer_vectorizer.load_state_dict(checkpoint['answer_state_dict'])    \n",
    "# optimizer = torch.optim.AdamW(model.parameters())\n",
    "# optimizer.load_state_dict(checkpoint['optimizer_state_dict'])    "
   ]
  },
  {
   "cell_type": "code",
   "execution_count": null,
   "metadata": {
    "execution": {
     "iopub.execute_input": "2025-05-07T00:26:58.787034Z",
     "iopub.status.busy": "2025-05-07T00:26:58.786757Z",
     "iopub.status.idle": "2025-05-07T00:28:02.686161Z",
     "shell.execute_reply": "2025-05-07T00:28:02.685546Z",
     "shell.execute_reply.started": "2025-05-07T00:26:58.787016Z"
    },
    "trusted": true
   },
   "outputs": [
    {
     "name": "stderr",
     "output_type": "stream",
     "text": [
      "huggingface/tokenizers: The current process just got forked, after parallelism has already been used. Disabling parallelism to avoid deadlocks...\n",
      "To disable this warning, you can either:\n",
      "\t- Avoid using `tokenizers` before the fork if possible\n",
      "\t- Explicitly set the environment variable TOKENIZERS_PARALLELISM=(true | false)\n"
     ]
    },
    {
     "name": "stdout",
     "output_type": "stream",
     "text": [
      "Collecting transformers==4.35.0\n",
      "  Downloading transformers-4.35.0-py3-none-any.whl.metadata (123 kB)\n",
      "\u001b[2K     \u001b[90m━━━━━━━━━━━━━━━━━━━━━━━━━━━━━━━━━━━━━━━━\u001b[0m \u001b[32m123.1/123.1 kB\u001b[0m \u001b[31m2.7 MB/s\u001b[0m eta \u001b[36m0:00:00\u001b[0m00:01\u001b[0m\n",
      "\u001b[?25hCollecting auto-gptq==0.7.1\n",
      "  Downloading auto_gptq-0.7.1-cp311-cp311-manylinux_2_17_x86_64.manylinux2014_x86_64.whl.metadata (18 kB)\n",
      "Collecting optimum==1.16.0\n",
      "  Downloading optimum-1.16.0-py3-none-any.whl.metadata (17 kB)\n",
      "Requirement already satisfied: filelock in /usr/local/lib/python3.11/dist-packages (from transformers==4.35.0) (3.18.0)\n",
      "Requirement already satisfied: huggingface-hub<1.0,>=0.16.4 in /usr/local/lib/python3.11/dist-packages (from transformers==4.35.0) (0.30.2)\n",
      "Requirement already satisfied: numpy>=1.17 in /usr/local/lib/python3.11/dist-packages (from transformers==4.35.0) (1.26.4)\n",
      "Requirement already satisfied: packaging>=20.0 in /usr/local/lib/python3.11/dist-packages (from transformers==4.35.0) (24.2)\n",
      "Requirement already satisfied: pyyaml>=5.1 in /usr/local/lib/python3.11/dist-packages (from transformers==4.35.0) (6.0.2)\n",
      "Requirement already satisfied: regex!=2019.12.17 in /usr/local/lib/python3.11/dist-packages (from transformers==4.35.0) (2024.11.6)\n",
      "Requirement already satisfied: requests in /usr/local/lib/python3.11/dist-packages (from transformers==4.35.0) (2.32.3)\n",
      "Collecting tokenizers<0.15,>=0.14 (from transformers==4.35.0)\n",
      "  Downloading tokenizers-0.14.1-cp311-cp311-manylinux_2_17_x86_64.manylinux2014_x86_64.whl.metadata (6.7 kB)\n",
      "Requirement already satisfied: safetensors>=0.3.1 in /usr/local/lib/python3.11/dist-packages (from transformers==4.35.0) (0.5.2)\n",
      "Requirement already satisfied: tqdm>=4.27 in /usr/local/lib/python3.11/dist-packages (from transformers==4.35.0) (4.67.1)\n",
      "Collecting accelerate>=0.26.0 (from auto-gptq==0.7.1)\n",
      "  Using cached accelerate-1.6.0-py3-none-any.whl.metadata (19 kB)\n",
      "Requirement already satisfied: datasets in /usr/local/lib/python3.11/dist-packages (from auto-gptq==0.7.1) (3.5.0)\n",
      "Requirement already satisfied: sentencepiece in /usr/local/lib/python3.11/dist-packages (from auto-gptq==0.7.1) (0.1.99)\n",
      "Requirement already satisfied: rouge in /usr/local/lib/python3.11/dist-packages (from auto-gptq==0.7.1) (1.0.1)\n",
      "Collecting gekko (from auto-gptq==0.7.1)\n",
      "  Downloading gekko-1.3.0-py3-none-any.whl.metadata (3.0 kB)\n",
      "Requirement already satisfied: torch>=1.13.0 in /usr/local/lib/python3.11/dist-packages (from auto-gptq==0.7.1) (2.5.1+cu124)\n",
      "Requirement already satisfied: peft>=0.5.0 in /usr/local/lib/python3.11/dist-packages (from auto-gptq==0.7.1) (0.14.0)\n",
      "Requirement already satisfied: coloredlogs in /usr/local/lib/python3.11/dist-packages (from optimum==1.16.0) (15.0.1)\n",
      "Requirement already satisfied: sympy in /usr/local/lib/python3.11/dist-packages (from optimum==1.16.0) (1.13.1)\n",
      "Requirement already satisfied: psutil in /usr/local/lib/python3.11/dist-packages (from accelerate>=0.26.0->auto-gptq==0.7.1) (7.0.0)\n",
      "Requirement already satisfied: fsspec>=2023.5.0 in /usr/local/lib/python3.11/dist-packages (from huggingface-hub<1.0,>=0.16.4->transformers==4.35.0) (2024.12.0)\n",
      "Requirement already satisfied: typing-extensions>=3.7.4.3 in /usr/local/lib/python3.11/dist-packages (from huggingface-hub<1.0,>=0.16.4->transformers==4.35.0) (4.13.1)\n",
      "Requirement already satisfied: mkl_fft in /usr/local/lib/python3.11/dist-packages (from numpy>=1.17->transformers==4.35.0) (1.3.8)\n",
      "Requirement already satisfied: mkl_random in /usr/local/lib/python3.11/dist-packages (from numpy>=1.17->transformers==4.35.0) (1.2.4)\n",
      "Requirement already satisfied: mkl_umath in /usr/local/lib/python3.11/dist-packages (from numpy>=1.17->transformers==4.35.0) (0.1.1)\n",
      "Requirement already satisfied: mkl in /usr/local/lib/python3.11/dist-packages (from numpy>=1.17->transformers==4.35.0) (2025.1.0)\n",
      "Requirement already satisfied: tbb4py in /usr/local/lib/python3.11/dist-packages (from numpy>=1.17->transformers==4.35.0) (2022.1.0)\n",
      "Requirement already satisfied: mkl-service in /usr/local/lib/python3.11/dist-packages (from numpy>=1.17->transformers==4.35.0) (2.4.1)\n",
      "INFO: pip is looking at multiple versions of tokenizers to determine which version is compatible with other requirements. This could take a while.\n",
      "Collecting tokenizers<0.15,>=0.14 (from transformers==4.35.0)\n",
      "  Downloading tokenizers-0.14.0-cp311-cp311-manylinux_2_17_x86_64.manylinux2014_x86_64.whl.metadata (6.7 kB)\n",
      "Collecting peft>=0.5.0 (from auto-gptq==0.7.1)\n",
      "  Downloading peft-0.15.2-py3-none-any.whl.metadata (13 kB)\n",
      "  Downloading peft-0.15.1-py3-none-any.whl.metadata (13 kB)\n",
      "  Downloading peft-0.15.0-py3-none-any.whl.metadata (13 kB)\n",
      "INFO: pip is still looking at multiple versions of tokenizers to determine which version is compatible with other requirements. This could take a while.\n",
      "  Downloading peft-0.14.0-py3-none-any.whl.metadata (13 kB)\n",
      "  Downloading peft-0.13.2-py3-none-any.whl.metadata (13 kB)\n",
      "  Downloading peft-0.13.1-py3-none-any.whl.metadata (13 kB)\n",
      "INFO: This is taking longer than usual. You might need to provide the dependency resolver with stricter constraints to reduce runtime. See https://pip.pypa.io/warnings/backtracking for guidance. If you want to abort this run, press Ctrl + C.\n",
      "  Downloading peft-0.13.0-py3-none-any.whl.metadata (13 kB)\n",
      "  Downloading peft-0.12.0-py3-none-any.whl.metadata (13 kB)\n",
      "  Downloading peft-0.11.1-py3-none-any.whl.metadata (13 kB)\n",
      "  Downloading peft-0.11.0-py3-none-any.whl.metadata (13 kB)\n",
      "  Downloading peft-0.10.0-py3-none-any.whl.metadata (13 kB)\n",
      "  Downloading peft-0.9.0-py3-none-any.whl.metadata (13 kB)\n",
      "  Downloading peft-0.8.2-py3-none-any.whl.metadata (25 kB)\n",
      "  Downloading peft-0.8.1-py3-none-any.whl.metadata (25 kB)\n",
      "  Downloading peft-0.8.0-py3-none-any.whl.metadata (25 kB)\n",
      "  Downloading peft-0.7.1-py3-none-any.whl.metadata (25 kB)\n",
      "  Downloading peft-0.7.0-py3-none-any.whl.metadata (25 kB)\n",
      "  Downloading peft-0.6.2-py3-none-any.whl.metadata (23 kB)\n",
      "  Downloading peft-0.6.1-py3-none-any.whl.metadata (23 kB)\n",
      "Collecting accelerate>=0.26.0 (from auto-gptq==0.7.1)\n",
      "  Downloading accelerate-1.5.2-py3-none-any.whl.metadata (19 kB)\n",
      "  Downloading accelerate-1.5.1-py3-none-any.whl.metadata (19 kB)\n",
      "  Downloading accelerate-1.5.0-py3-none-any.whl.metadata (19 kB)\n",
      "  Downloading accelerate-1.4.0-py3-none-any.whl.metadata (19 kB)\n",
      "  Downloading accelerate-1.3.0-py3-none-any.whl.metadata (19 kB)\n",
      "  Downloading accelerate-1.2.1-py3-none-any.whl.metadata (19 kB)\n",
      "  Downloading accelerate-1.2.0-py3-none-any.whl.metadata (19 kB)\n",
      "  Downloading accelerate-1.1.1-py3-none-any.whl.metadata (19 kB)\n",
      "  Downloading accelerate-1.1.0-py3-none-any.whl.metadata (19 kB)\n",
      "  Downloading accelerate-1.0.1-py3-none-any.whl.metadata (19 kB)\n",
      "  Downloading accelerate-1.0.0-py3-none-any.whl.metadata (19 kB)\n",
      "  Downloading accelerate-0.34.2-py3-none-any.whl.metadata (19 kB)\n",
      "  Downloading accelerate-0.34.1-py3-none-any.whl.metadata (19 kB)\n",
      "  Downloading accelerate-0.34.0-py3-none-any.whl.metadata (19 kB)\n",
      "  Downloading accelerate-0.33.0-py3-none-any.whl.metadata (18 kB)\n",
      "  Downloading accelerate-0.32.1-py3-none-any.whl.metadata (18 kB)\n",
      "Collecting huggingface-hub<1.0,>=0.16.4 (from transformers==4.35.0)\n",
      "  Downloading huggingface_hub-0.17.3-py3-none-any.whl.metadata (13 kB)\n",
      "INFO: pip is looking at multiple versions of peft to determine which version is compatible with other requirements. This could take a while.\n",
      "Requirement already satisfied: networkx in /usr/local/lib/python3.11/dist-packages (from torch>=1.13.0->auto-gptq==0.7.1) (3.4.2)\n",
      "Requirement already satisfied: jinja2 in /usr/local/lib/python3.11/dist-packages (from torch>=1.13.0->auto-gptq==0.7.1) (3.1.6)\n",
      "Requirement already satisfied: nvidia-cuda-nvrtc-cu12==12.4.127 in /usr/local/lib/python3.11/dist-packages (from torch>=1.13.0->auto-gptq==0.7.1) (12.4.127)\n",
      "Requirement already satisfied: nvidia-cuda-runtime-cu12==12.4.127 in /usr/local/lib/python3.11/dist-packages (from torch>=1.13.0->auto-gptq==0.7.1) (12.4.127)\n",
      "Requirement already satisfied: nvidia-cuda-cupti-cu12==12.4.127 in /usr/local/lib/python3.11/dist-packages (from torch>=1.13.0->auto-gptq==0.7.1) (12.4.127)\n",
      "Requirement already satisfied: nvidia-cudnn-cu12==9.1.0.70 in /usr/local/lib/python3.11/dist-packages (from torch>=1.13.0->auto-gptq==0.7.1) (9.1.0.70)\n",
      "Requirement already satisfied: nvidia-cublas-cu12==12.4.5.8 in /usr/local/lib/python3.11/dist-packages (from torch>=1.13.0->auto-gptq==0.7.1) (12.4.5.8)\n",
      "Requirement already satisfied: nvidia-cufft-cu12==11.2.1.3 in /usr/local/lib/python3.11/dist-packages (from torch>=1.13.0->auto-gptq==0.7.1) (11.2.1.3)\n",
      "Requirement already satisfied: nvidia-curand-cu12==10.3.5.147 in /usr/local/lib/python3.11/dist-packages (from torch>=1.13.0->auto-gptq==0.7.1) (10.3.5.147)\n",
      "Requirement already satisfied: nvidia-cusolver-cu12==11.6.1.9 in /usr/local/lib/python3.11/dist-packages (from torch>=1.13.0->auto-gptq==0.7.1) (11.6.1.9)\n",
      "Requirement already satisfied: nvidia-cusparse-cu12==12.3.1.170 in /usr/local/lib/python3.11/dist-packages (from torch>=1.13.0->auto-gptq==0.7.1) (12.3.1.170)\n",
      "Requirement already satisfied: nvidia-nccl-cu12==2.21.5 in /usr/local/lib/python3.11/dist-packages (from torch>=1.13.0->auto-gptq==0.7.1) (2.21.5)\n",
      "Requirement already satisfied: nvidia-nvtx-cu12==12.4.127 in /usr/local/lib/python3.11/dist-packages (from torch>=1.13.0->auto-gptq==0.7.1) (12.4.127)\n",
      "Requirement already satisfied: nvidia-nvjitlink-cu12==12.4.127 in /usr/local/lib/python3.11/dist-packages (from torch>=1.13.0->auto-gptq==0.7.1) (12.4.127)\n",
      "Requirement already satisfied: triton==3.1.0 in /usr/local/lib/python3.11/dist-packages (from torch>=1.13.0->auto-gptq==0.7.1) (3.1.0)\n",
      "Requirement already satisfied: mpmath<1.4,>=1.1.0 in /usr/local/lib/python3.11/dist-packages (from sympy->optimum==1.16.0) (1.3.0)\n",
      "Requirement already satisfied: protobuf in /usr/local/lib/python3.11/dist-packages (from transformers[sentencepiece]>=4.26.0->optimum==1.16.0) (3.20.3)\n",
      "Requirement already satisfied: humanfriendly>=9.1 in /usr/local/lib/python3.11/dist-packages (from coloredlogs->optimum==1.16.0) (10.0)\n",
      "Requirement already satisfied: pyarrow>=15.0.0 in /usr/local/lib/python3.11/dist-packages (from datasets->auto-gptq==0.7.1) (19.0.1)\n",
      "Requirement already satisfied: dill<0.3.9,>=0.3.0 in /usr/local/lib/python3.11/dist-packages (from datasets->auto-gptq==0.7.1) (0.3.8)\n",
      "Requirement already satisfied: pandas in /usr/local/lib/python3.11/dist-packages (from datasets->auto-gptq==0.7.1) (2.2.3)\n",
      "Requirement already satisfied: xxhash in /usr/local/lib/python3.11/dist-packages (from datasets->auto-gptq==0.7.1) (3.5.0)\n",
      "Requirement already satisfied: multiprocess<0.70.17 in /usr/local/lib/python3.11/dist-packages (from datasets->auto-gptq==0.7.1) (0.70.16)\n",
      "Requirement already satisfied: aiohttp in /usr/local/lib/python3.11/dist-packages (from datasets->auto-gptq==0.7.1) (3.11.16)\n",
      "INFO: pip is looking at multiple versions of datasets to determine which version is compatible with other requirements. This could take a while.\n",
      "Collecting datasets (from auto-gptq==0.7.1)\n",
      "  Downloading datasets-3.5.1-py3-none-any.whl.metadata (19 kB)\n",
      "  Downloading datasets-3.4.1-py3-none-any.whl.metadata (19 kB)\n",
      "  Downloading datasets-3.4.0-py3-none-any.whl.metadata (19 kB)\n",
      "  Downloading datasets-3.3.2-py3-none-any.whl.metadata (19 kB)\n",
      "  Downloading datasets-3.3.1-py3-none-any.whl.metadata (19 kB)\n",
      "  Downloading datasets-3.3.0-py3-none-any.whl.metadata (19 kB)\n",
      "  Downloading datasets-3.2.0-py3-none-any.whl.metadata (20 kB)\n",
      "Collecting fsspec (from huggingface-hub<1.0,>=0.16.4->transformers==4.35.0)\n",
      "  Downloading fsspec-2024.9.0-py3-none-any.whl.metadata (11 kB)\n",
      "INFO: pip is still looking at multiple versions of datasets to determine which version is compatible with other requirements. This could take a while.\n",
      "Collecting datasets (from auto-gptq==0.7.1)\n",
      "  Downloading datasets-3.1.0-py3-none-any.whl.metadata (20 kB)\n",
      "  Downloading datasets-3.0.2-py3-none-any.whl.metadata (20 kB)\n",
      "  Downloading datasets-3.0.1-py3-none-any.whl.metadata (20 kB)\n",
      "Collecting fsspec (from huggingface-hub<1.0,>=0.16.4->transformers==4.35.0)\n",
      "  Downloading fsspec-2024.6.1-py3-none-any.whl.metadata (11 kB)\n",
      "Collecting datasets (from auto-gptq==0.7.1)\n",
      "  Downloading datasets-3.0.0-py3-none-any.whl.metadata (19 kB)\n",
      "  Downloading datasets-2.21.0-py3-none-any.whl.metadata (21 kB)\n",
      "INFO: This is taking longer than usual. You might need to provide the dependency resolver with stricter constraints to reduce runtime. See https://pip.pypa.io/warnings/backtracking for guidance. If you want to abort this run, press Ctrl + C.\n",
      "  Downloading datasets-2.20.0-py3-none-any.whl.metadata (19 kB)\n",
      "Collecting pyarrow-hotfix (from datasets->auto-gptq==0.7.1)\n",
      "  Downloading pyarrow_hotfix-0.7-py3-none-any.whl.metadata (3.6 kB)\n",
      "Collecting fsspec (from huggingface-hub<1.0,>=0.16.4->transformers==4.35.0)\n",
      "  Downloading fsspec-2024.5.0-py3-none-any.whl.metadata (11 kB)\n",
      "Collecting datasets (from auto-gptq==0.7.1)\n",
      "  Downloading datasets-2.19.2-py3-none-any.whl.metadata (19 kB)\n",
      "Collecting fsspec (from huggingface-hub<1.0,>=0.16.4->transformers==4.35.0)\n",
      "  Downloading fsspec-2024.3.1-py3-none-any.whl.metadata (6.8 kB)\n",
      "Collecting datasets (from auto-gptq==0.7.1)\n",
      "  Downloading datasets-2.19.1-py3-none-any.whl.metadata (19 kB)\n",
      "  Downloading datasets-2.19.0-py3-none-any.whl.metadata (19 kB)\n",
      "  Downloading datasets-2.18.0-py3-none-any.whl.metadata (20 kB)\n",
      "Collecting fsspec (from huggingface-hub<1.0,>=0.16.4->transformers==4.35.0)\n",
      "  Downloading fsspec-2024.2.0-py3-none-any.whl.metadata (6.8 kB)\n",
      "Collecting datasets (from auto-gptq==0.7.1)\n",
      "  Downloading datasets-2.17.1-py3-none-any.whl.metadata (20 kB)\n",
      "Collecting fsspec (from huggingface-hub<1.0,>=0.16.4->transformers==4.35.0)\n",
      "  Downloading fsspec-2023.10.0-py3-none-any.whl.metadata (6.8 kB)\n",
      "Collecting datasets (from auto-gptq==0.7.1)\n",
      "  Downloading datasets-2.17.0-py3-none-any.whl.metadata (20 kB)\n",
      "  Downloading datasets-2.16.1-py3-none-any.whl.metadata (20 kB)\n",
      "Collecting dill<0.3.8,>=0.3.0 (from datasets->auto-gptq==0.7.1)\n",
      "  Downloading dill-0.3.7-py3-none-any.whl.metadata (9.9 kB)\n",
      "Collecting datasets (from auto-gptq==0.7.1)\n",
      "  Downloading datasets-2.16.0-py3-none-any.whl.metadata (20 kB)\n",
      "  Downloading datasets-2.15.0-py3-none-any.whl.metadata (20 kB)\n",
      "  Downloading datasets-2.14.7-py3-none-any.whl.metadata (19 kB)\n",
      "Requirement already satisfied: charset-normalizer<4,>=2 in /usr/local/lib/python3.11/dist-packages (from requests->transformers==4.35.0) (3.4.1)\n",
      "Requirement already satisfied: idna<4,>=2.5 in /usr/local/lib/python3.11/dist-packages (from requests->transformers==4.35.0) (3.10)\n",
      "Requirement already satisfied: urllib3<3,>=1.21.1 in /usr/local/lib/python3.11/dist-packages (from requests->transformers==4.35.0) (2.3.0)\n",
      "Requirement already satisfied: certifi>=2017.4.17 in /usr/local/lib/python3.11/dist-packages (from requests->transformers==4.35.0) (2025.1.31)\n",
      "Requirement already satisfied: six in /usr/local/lib/python3.11/dist-packages (from rouge->auto-gptq==0.7.1) (1.17.0)\n",
      "Requirement already satisfied: aiohappyeyeballs>=2.3.0 in /usr/local/lib/python3.11/dist-packages (from aiohttp->datasets->auto-gptq==0.7.1) (2.6.1)\n",
      "Requirement already satisfied: aiosignal>=1.1.2 in /usr/local/lib/python3.11/dist-packages (from aiohttp->datasets->auto-gptq==0.7.1) (1.3.2)\n",
      "Requirement already satisfied: attrs>=17.3.0 in /usr/local/lib/python3.11/dist-packages (from aiohttp->datasets->auto-gptq==0.7.1) (25.3.0)\n",
      "Requirement already satisfied: frozenlist>=1.1.1 in /usr/local/lib/python3.11/dist-packages (from aiohttp->datasets->auto-gptq==0.7.1) (1.5.0)\n",
      "Requirement already satisfied: multidict<7.0,>=4.5 in /usr/local/lib/python3.11/dist-packages (from aiohttp->datasets->auto-gptq==0.7.1) (6.2.0)\n",
      "Requirement already satisfied: propcache>=0.2.0 in /usr/local/lib/python3.11/dist-packages (from aiohttp->datasets->auto-gptq==0.7.1) (0.3.1)\n",
      "Requirement already satisfied: yarl<2.0,>=1.17.0 in /usr/local/lib/python3.11/dist-packages (from aiohttp->datasets->auto-gptq==0.7.1) (1.19.0)\n",
      "Requirement already satisfied: MarkupSafe>=2.0 in /usr/local/lib/python3.11/dist-packages (from jinja2->torch>=1.13.0->auto-gptq==0.7.1) (3.0.2)\n",
      "Requirement already satisfied: intel-openmp<2026,>=2024 in /usr/local/lib/python3.11/dist-packages (from mkl->numpy>=1.17->transformers==4.35.0) (2024.2.0)\n",
      "Requirement already satisfied: tbb==2022.* in /usr/local/lib/python3.11/dist-packages (from mkl->numpy>=1.17->transformers==4.35.0) (2022.1.0)\n",
      "Requirement already satisfied: tcmlib==1.* in /usr/local/lib/python3.11/dist-packages (from tbb==2022.*->mkl->numpy>=1.17->transformers==4.35.0) (1.2.0)\n",
      "Requirement already satisfied: intel-cmplr-lib-rt in /usr/local/lib/python3.11/dist-packages (from mkl_umath->numpy>=1.17->transformers==4.35.0) (2024.2.0)\n",
      "INFO: pip is looking at multiple versions of multiprocess to determine which version is compatible with other requirements. This could take a while.\n",
      "Collecting multiprocess (from datasets->auto-gptq==0.7.1)\n",
      "  Downloading multiprocess-0.70.18-py311-none-any.whl.metadata (7.5 kB)\n",
      "  Downloading multiprocess-0.70.17-py311-none-any.whl.metadata (7.2 kB)\n",
      "  Downloading multiprocess-0.70.15-py311-none-any.whl.metadata (7.2 kB)\n",
      "Requirement already satisfied: python-dateutil>=2.8.2 in /usr/local/lib/python3.11/dist-packages (from pandas->datasets->auto-gptq==0.7.1) (2.9.0.post0)\n",
      "Requirement already satisfied: pytz>=2020.1 in /usr/local/lib/python3.11/dist-packages (from pandas->datasets->auto-gptq==0.7.1) (2025.2)\n",
      "Requirement already satisfied: tzdata>=2022.7 in /usr/local/lib/python3.11/dist-packages (from pandas->datasets->auto-gptq==0.7.1) (2025.2)\n",
      "Requirement already satisfied: intel-cmplr-lib-ur==2024.2.0 in /usr/local/lib/python3.11/dist-packages (from intel-openmp<2026,>=2024->mkl->numpy>=1.17->transformers==4.35.0) (2024.2.0)\n",
      "Downloading transformers-4.35.0-py3-none-any.whl (7.9 MB)\n",
      "\u001b[2K   \u001b[90m━━━━━━━━━━━━━━━━━━━━━━━━━━━━━━━━━━━━━━━━\u001b[0m \u001b[32m7.9/7.9 MB\u001b[0m \u001b[31m75.7 MB/s\u001b[0m eta \u001b[36m0:00:00\u001b[0m:00:01\u001b[0m0:01\u001b[0m\n",
      "\u001b[?25hDownloading auto_gptq-0.7.1-cp311-cp311-manylinux_2_17_x86_64.manylinux2014_x86_64.whl (23.5 MB)\n",
      "\u001b[2K   \u001b[90m━━━━━━━━━━━━━━━━━━━━━━━━━━━━━━━━━━━━━━━━\u001b[0m \u001b[32m23.5/23.5 MB\u001b[0m \u001b[31m70.8 MB/s\u001b[0m eta \u001b[36m0:00:00\u001b[0m:00:01\u001b[0m00:01\u001b[0m\n",
      "\u001b[?25hDownloading optimum-1.16.0-py3-none-any.whl (403 kB)\n",
      "\u001b[2K   \u001b[90m━━━━━━━━━━━━━━━━━━━━━━━━━━━━━━━━━━━━━━━━\u001b[0m \u001b[32m403.4/403.4 kB\u001b[0m \u001b[31m19.8 MB/s\u001b[0m eta \u001b[36m0:00:00\u001b[0m\n",
      "\u001b[?25hDownloading accelerate-0.32.1-py3-none-any.whl (314 kB)\n",
      "\u001b[2K   \u001b[90m━━━━━━━━━━━━━━━━━━━━━━━━━━━━━━━━━━━━━━━━\u001b[0m \u001b[32m314.1/314.1 kB\u001b[0m \u001b[31m17.1 MB/s\u001b[0m eta \u001b[36m0:00:00\u001b[0m\n",
      "\u001b[?25hDownloading tokenizers-0.14.1-cp311-cp311-manylinux_2_17_x86_64.manylinux2014_x86_64.whl (3.8 MB)\n",
      "\u001b[2K   \u001b[90m━━━━━━━━━━━━━━━━━━━━━━━━━━━━━━━━━━━━━━━━\u001b[0m \u001b[32m3.8/3.8 MB\u001b[0m \u001b[31m90.9 MB/s\u001b[0m eta \u001b[36m0:00:00\u001b[0m:00:01\u001b[0m\n",
      "\u001b[?25hDownloading huggingface_hub-0.17.3-py3-none-any.whl (295 kB)\n",
      "\u001b[2K   \u001b[90m━━━━━━━━━━━━━━━━━━━━━━━━━━━━━━━━━━━━━━━━\u001b[0m \u001b[32m295.0/295.0 kB\u001b[0m \u001b[31m15.8 MB/s\u001b[0m eta \u001b[36m0:00:00\u001b[0m\n",
      "\u001b[?25hDownloading peft-0.13.2-py3-none-any.whl (320 kB)\n",
      "\u001b[2K   \u001b[90m━━━━━━━━━━━━━━━━━━━━━━━━━━━━━━━━━━━━━━━━\u001b[0m \u001b[32m320.7/320.7 kB\u001b[0m \u001b[31m16.6 MB/s\u001b[0m eta \u001b[36m0:00:00\u001b[0m\n",
      "\u001b[?25hDownloading datasets-2.14.7-py3-none-any.whl (520 kB)\n",
      "\u001b[2K   \u001b[90m━━━━━━━━━━━━━━━━━━━━━━━━━━━━━━━━━━━━━━━━\u001b[0m \u001b[32m520.4/520.4 kB\u001b[0m \u001b[31m25.7 MB/s\u001b[0m eta \u001b[36m0:00:00\u001b[0m\n",
      "\u001b[?25hDownloading gekko-1.3.0-py3-none-any.whl (13.2 MB)\n",
      "\u001b[2K   \u001b[90m━━━━━━━━━━━━━━━━━━━━━━━━━━━━━━━━━━━━━━━━\u001b[0m \u001b[32m13.2/13.2 MB\u001b[0m \u001b[31m99.1 MB/s\u001b[0m eta \u001b[36m0:00:00\u001b[0m:00:01\u001b[0m0:01\u001b[0m\n",
      "\u001b[?25hDownloading dill-0.3.7-py3-none-any.whl (115 kB)\n",
      "\u001b[2K   \u001b[90m━━━━━━━━━━━━━━━━━━━━━━━━━━━━━━━━━━━━━━━━\u001b[0m \u001b[32m115.3/115.3 kB\u001b[0m \u001b[31m6.1 MB/s\u001b[0m eta \u001b[36m0:00:00\u001b[0m\n",
      "\u001b[?25hDownloading fsspec-2023.10.0-py3-none-any.whl (166 kB)\n",
      "\u001b[2K   \u001b[90m━━━━━━━━━━━━━━━━━━━━━━━━━━━━━━━━━━━━━━━━\u001b[0m \u001b[32m166.4/166.4 kB\u001b[0m \u001b[31m9.6 MB/s\u001b[0m eta \u001b[36m0:00:00\u001b[0m\n",
      "\u001b[?25hDownloading multiprocess-0.70.15-py311-none-any.whl (135 kB)\n",
      "\u001b[2K   \u001b[90m━━━━━━━━━━━━━━━━━━━━━━━━━━━━━━━━━━━━━━━━\u001b[0m \u001b[32m135.4/135.4 kB\u001b[0m \u001b[31m8.2 MB/s\u001b[0m eta \u001b[36m0:00:00\u001b[0m\n",
      "\u001b[?25hDownloading pyarrow_hotfix-0.7-py3-none-any.whl (7.9 kB)\n",
      "Installing collected packages: pyarrow-hotfix, fsspec, dill, multiprocess, huggingface-hub, tokenizers, transformers, accelerate, peft, gekko, datasets, optimum, auto-gptq\n",
      "  Attempting uninstall: fsspec\n",
      "    Found existing installation: fsspec 2024.12.0\n",
      "    Uninstalling fsspec-2024.12.0:\n",
      "      Successfully uninstalled fsspec-2024.12.0\n",
      "  Attempting uninstall: dill\n",
      "    Found existing installation: dill 0.3.8\n",
      "    Uninstalling dill-0.3.8:\n",
      "      Successfully uninstalled dill-0.3.8\n",
      "  Attempting uninstall: multiprocess\n",
      "    Found existing installation: multiprocess 0.70.16\n",
      "    Uninstalling multiprocess-0.70.16:\n",
      "      Successfully uninstalled multiprocess-0.70.16\n",
      "  Attempting uninstall: huggingface-hub\n",
      "    Found existing installation: huggingface-hub 0.30.2\n",
      "    Uninstalling huggingface-hub-0.30.2:\n",
      "      Successfully uninstalled huggingface-hub-0.30.2\n",
      "  Attempting uninstall: tokenizers\n",
      "    Found existing installation: tokenizers 0.15.2\n",
      "    Uninstalling tokenizers-0.15.2:\n",
      "      Successfully uninstalled tokenizers-0.15.2\n",
      "  Attempting uninstall: transformers\n",
      "    Found existing installation: transformers 4.36.2\n",
      "    Uninstalling transformers-4.36.2:\n",
      "      Successfully uninstalled transformers-4.36.2\n",
      "  Attempting uninstall: accelerate\n",
      "    Found existing installation: accelerate 0.24.0\n",
      "    Uninstalling accelerate-0.24.0:\n",
      "      Successfully uninstalled accelerate-0.24.0\n",
      "  Attempting uninstall: peft\n",
      "    Found existing installation: peft 0.14.0\n",
      "    Uninstalling peft-0.14.0:\n",
      "      Successfully uninstalled peft-0.14.0\n",
      "  Attempting uninstall: datasets\n",
      "    Found existing installation: datasets 3.5.0\n",
      "    Uninstalling datasets-3.5.0:\n",
      "      Successfully uninstalled datasets-3.5.0\n",
      "  Attempting uninstall: optimum\n",
      "    Found existing installation: optimum 1.13.2\n",
      "    Uninstalling optimum-1.13.2:\n",
      "      Successfully uninstalled optimum-1.13.2\n",
      "  Attempting uninstall: auto-gptq\n",
      "    Found existing installation: auto-gptq 0.4.2\n",
      "    Uninstalling auto-gptq-0.4.2:\n",
      "      Successfully uninstalled auto-gptq-0.4.2\n",
      "\u001b[31mERROR: pip's dependency resolver does not currently take into account all the packages that are installed. This behaviour is the source of the following dependency conflicts.\n",
      "pathos 0.3.2 requires dill>=0.3.8, but you have dill 0.3.7 which is incompatible.\n",
      "pathos 0.3.2 requires multiprocess>=0.70.16, but you have multiprocess 0.70.15 which is incompatible.\n",
      "diffusers 0.32.2 requires huggingface-hub>=0.23.2, but you have huggingface-hub 0.17.3 which is incompatible.\n",
      "sentence-transformers 3.4.1 requires huggingface-hub>=0.20.0, but you have huggingface-hub 0.17.3 which is incompatible.\n",
      "sentence-transformers 3.4.1 requires transformers<5.0.0,>=4.41.0, but you have transformers 4.35.0 which is incompatible.\n",
      "gcsfs 2024.10.0 requires fsspec==2024.10.0, but you have fsspec 2023.10.0 which is incompatible.\n",
      "bigframes 1.36.0 requires rich<14,>=12.4.4, but you have rich 14.0.0 which is incompatible.\u001b[0m\u001b[31m\n",
      "\u001b[0mSuccessfully installed accelerate-0.32.1 auto-gptq-0.7.1 datasets-2.14.7 dill-0.3.7 fsspec-2023.10.0 gekko-1.3.0 huggingface-hub-0.17.3 multiprocess-0.70.15 optimum-1.16.0 peft-0.13.2 pyarrow-hotfix-0.7 tokenizers-0.14.1 transformers-4.35.0\n"
     ]
    },
    {
     "name": "stderr",
     "output_type": "stream",
     "text": [
      "/usr/local/lib/python3.11/dist-packages/auto_gptq/nn_modules/triton_utils/kernels.py:410: FutureWarning: `torch.cuda.amp.custom_fwd(args...)` is deprecated. Please use `torch.amp.custom_fwd(args..., device_type='cuda')` instead.\n",
      "  @custom_fwd\n",
      "/usr/local/lib/python3.11/dist-packages/auto_gptq/nn_modules/triton_utils/kernels.py:418: FutureWarning: `torch.cuda.amp.custom_bwd(args...)` is deprecated. Please use `torch.amp.custom_bwd(args..., device_type='cuda')` instead.\n",
      "  @custom_bwd\n",
      "/usr/local/lib/python3.11/dist-packages/auto_gptq/nn_modules/triton_utils/kernels.py:461: FutureWarning: `torch.cuda.amp.custom_fwd(args...)` is deprecated. Please use `torch.amp.custom_fwd(args..., device_type='cuda')` instead.\n",
      "  @custom_fwd(cast_inputs=torch.float16)\n",
      "/usr/local/lib/python3.11/dist-packages/huggingface_hub/file_download.py:896: FutureWarning: `resume_download` is deprecated and will be removed in version 1.0.0. Downloads always resume when possible. If you want to force a new download, use `force_download=True`.\n",
      "  warnings.warn(\n"
     ]
    },
    {
     "data": {
      "application/vnd.jupyter.widget-view+json": {
       "model_id": "bbf2ea3b20874e1ea339c12b13c1fe90",
       "version_major": 2,
       "version_minor": 0
      },
      "text/plain": [
       "config.json:   0%|          | 0.00/1.08k [00:00<?, ?B/s]"
      ]
     },
     "metadata": {},
     "output_type": "display_data"
    },
    {
     "name": "stderr",
     "output_type": "stream",
     "text": [
      "WARNING - Exllamav2 kernel is not installed, reset disable_exllamav2 to True. This may because you installed auto_gptq using a pre-build wheel on Windows, in which exllama_kernels are not compiled. To use exllama_kernels to further speedup inference, you can re-install auto_gptq from source.\n",
      "WARNING - CUDA kernels for auto_gptq are not installed, this will result in very slow inference speed. This may because:\n",
      "1. You disabled CUDA extensions compilation by setting BUILD_CUDA_EXT=0 when install auto_gptq from source.\n",
      "2. You are using pytorch without CUDA support.\n",
      "3. CUDA and nvcc are not installed in your device.\n"
     ]
    },
    {
     "data": {
      "application/vnd.jupyter.widget-view+json": {
       "model_id": "d63184c5407d45be9ad0c14f3dc3613b",
       "version_major": 2,
       "version_minor": 0
      },
      "text/plain": [
       "quantize_config.json:   0%|          | 0.00/186 [00:00<?, ?B/s]"
      ]
     },
     "metadata": {},
     "output_type": "display_data"
    },
    {
     "name": "stderr",
     "output_type": "stream",
     "text": [
      "Xet Storage is enabled for this repo, but the 'hf_xet' package is not installed. Falling back to regular HTTP download. For better performance, install the package with: `pip install huggingface_hub[hf_xet]` or `pip install hf_xet`\n"
     ]
    },
    {
     "data": {
      "application/vnd.jupyter.widget-view+json": {
       "model_id": "97e31d2471e145f29bb938c628f968d9",
       "version_major": 2,
       "version_minor": 0
      },
      "text/plain": [
       "model.safetensors:   0%|          | 0.00/4.16G [00:00<?, ?B/s]"
      ]
     },
     "metadata": {},
     "output_type": "display_data"
    },
    {
     "name": "stderr",
     "output_type": "stream",
     "text": [
      "INFO - The layer lm_head is not quantized.\n"
     ]
    },
    {
     "data": {
      "application/vnd.jupyter.widget-view+json": {
       "model_id": "",
       "version_major": 2,
       "version_minor": 0
      },
      "text/plain": [
       "  0%|          | 0/1187 [00:00<?, ?w/s]"
      ]
     },
     "metadata": {},
     "output_type": "display_data"
    },
    {
     "data": {
      "application/vnd.jupyter.widget-view+json": {
       "model_id": "dd0461c222494b22a4b1ad68c876df2e",
       "version_major": 2,
       "version_minor": 0
      },
      "text/plain": [
       "tokenizer_config.json:   0%|          | 0.00/1.46k [00:00<?, ?B/s]"
      ]
     },
     "metadata": {},
     "output_type": "display_data"
    },
    {
     "name": "stderr",
     "output_type": "stream",
     "text": [
      "Xet Storage is enabled for this repo, but the 'hf_xet' package is not installed. Falling back to regular HTTP download. For better performance, install the package with: `pip install huggingface_hub[hf_xet]` or `pip install hf_xet`\n"
     ]
    },
    {
     "data": {
      "application/vnd.jupyter.widget-view+json": {
       "model_id": "1aae7842957e43cabc4600f6e8b24e46",
       "version_major": 2,
       "version_minor": 0
      },
      "text/plain": [
       "tokenizer.model:   0%|          | 0.00/493k [00:00<?, ?B/s]"
      ]
     },
     "metadata": {},
     "output_type": "display_data"
    },
    {
     "data": {
      "application/vnd.jupyter.widget-view+json": {
       "model_id": "23ba10133898440a9b9a4d1c77300f69",
       "version_major": 2,
       "version_minor": 0
      },
      "text/plain": [
       "tokenizer.json:   0%|          | 0.00/1.80M [00:00<?, ?B/s]"
      ]
     },
     "metadata": {},
     "output_type": "display_data"
    },
    {
     "data": {
      "application/vnd.jupyter.widget-view+json": {
       "model_id": "c137ea04c9f84f14a60a783734d25804",
       "version_major": 2,
       "version_minor": 0
      },
      "text/plain": [
       "special_tokens_map.json:   0%|          | 0.00/72.0 [00:00<?, ?B/s]"
      ]
     },
     "metadata": {},
     "output_type": "display_data"
    }
   ],
   "source": [
    "\n",
    "!pip install -U transformers==4.35.0 auto-gptq==0.7.1 optimum==1.16.0\n",
    "\n",
    "from auto_gptq import AutoGPTQForCausalLM\n",
    "from transformers import AutoTokenizer\n",
    "\n",
    "model_name = 'TheBloke/Mistral-7B-Instruct-v0.2-GPTQ'\n",
    "device = \"cuda\" if torch.cuda.is_available() else \"cpu\"\n",
    "\n",
    "# Load with AutoGPTQ's optimized loader\n",
    "model = AutoGPTQForCausalLM.from_quantized(\n",
    "    model_name,\n",
    "    use_safetensors=True,\n",
    "    trust_remote_code=True,\n",
    "    device_map=\"auto\",\n",
    "    inject_fused_attention=False  # Disable problematic fused attention\n",
    ")\n",
    "\n",
    "tokenizer = AutoTokenizer.from_pretrained(model_name)"
   ]
  },
  {
   "cell_type": "code",
   "execution_count": 36,
   "metadata": {
    "execution": {
     "iopub.execute_input": "2025-05-07T00:29:04.101710Z",
     "iopub.status.busy": "2025-05-07T00:29:04.100949Z",
     "iopub.status.idle": "2025-05-07T00:29:04.107377Z",
     "shell.execute_reply": "2025-05-07T00:29:04.106698Z",
     "shell.execute_reply.started": "2025-05-07T00:29:04.101682Z"
    },
    "id": "3b_lFbiPcLVA",
    "trusted": true
   },
   "outputs": [
    {
     "name": "stdout",
     "output_type": "stream",
     "text": [
      "QUESTION What was the first album Beyoncé released as a solo artist? \n",
      "\n",
      "TEXT SENTENCES\n",
      "[ ] Beyoncé Giselle Knowles-Carter (/biːˈjɒnseɪ/ bee-YON-say) (born September 4, 1981) is an American singer, songwriter, record producer and actress.\n",
      "[ ] Born and raised in Houston, Texas, she performed in various singing and dancing competitions as a child, and rose to fame in the late 1990s as lead singer of R&B girl-group Destiny's Child.\n",
      "[ ] Managed by her father, Mathew Knowles, the group became one of the world's best-selling girl groups of all time.\n",
      "[v] Their hiatus saw the release of Beyoncé's debut album, Dangerously in Love (2003), which established her as a solo artist worldwide, earned five Grammy Awards and featured the Billboard Hot 100 number-one singles \"Crazy in Love\" and \"Baby Boy\".\n"
     ]
    }
   ],
   "source": [
    "pid, question, options, correct_indices, wrong_indices = train.iloc[10]\n",
    "print('QUESTION', question, '\\n')\n",
    "print('TEXT SENTENCES')\n",
    "for i, cand in enumerate(options):\n",
    "    print(['[ ]', '[v]'][i in correct_indices], cand)"
   ]
  },
  {
   "cell_type": "code",
   "execution_count": null,
   "metadata": {
    "execution": {
     "iopub.execute_input": "2025-05-07T00:29:10.287546Z",
     "iopub.status.busy": "2025-05-07T00:29:10.287264Z",
     "iopub.status.idle": "2025-05-07T00:29:40.179224Z",
     "shell.execute_reply": "2025-05-07T00:29:40.178598Z",
     "shell.execute_reply.started": "2025-05-07T00:29:10.287526Z"
    },
    "id": "bhQ9r0RycLVA",
    "trusted": true
   },
   "outputs": [
    {
     "name": "stdout",
     "output_type": "stream",
     "text": [
      "Question: What was the first album Beyoncé released as a solo artist?\n",
      "Generated Answer: The first album Beyoncé released as a solo artist was \"Dangerously in Love\" in 2003.\n"
     ]
    }
   ],
   "source": [
    "\n",
    "def generate_answer_with_context(question, context_sentences):\n",
    "    \"\"\"Generate answer using LLM with retrieved context\"\"\"\n",
    "    # Format context\n",
    "    context_str = \"\\n\".join([\n",
    "        f\"{i+1}. {sentence}\"\n",
    "        for i, sentence in enumerate(context_sentences)\n",
    "    ])\n",
    "\n",
    "    # Create prompt using chat template\n",
    "    messages = [\n",
    "        {\"role\": \"user\", \"content\": \"Answer questions using ONLY the provided context. Keep answers concise.\"},\n",
    "        {\"role\": \"assistant\", \"content\": \"Understood! Please provide the question and context.\"},\n",
    "        {\"role\": \"user\", \"content\": f\"Question: {question}\\nContext:\\n{context_str}\"}\n",
    "    ]\n",
    "\n",
    "    # Tokenize and generate\n",
    "    input_ids = tokenizer.apply_chat_template(\n",
    "        messages,\n",
    "        return_tensors=\"pt\"\n",
    "    ).to(device)\n",
    "\n",
    "    outputs = model.generate(\n",
    "        inputs=input_ids,  # Changed to keyword argument\n",
    "        max_new_tokens=100,\n",
    "        do_sample=True,\n",
    "        temperature=0.7,\n",
    "        top_p=0.9,\n",
    "        pad_token_id=tokenizer.eos_token_id\n",
    "    )\n",
    "\n",
    "    return tokenizer.decode(outputs[0][input_ids.shape[1]:], skip_special_tokens=True)\n",
    "    \n",
    "# Example usage with data from dataset\n",
    "pid, question, options, correct_indices, wrong_indices = train.iloc[10]\n",
    "\n",
    "# Get relevant context using our retriever\n",
    "context_sentences = [options[i] for i in correct_indices]\n",
    "\n",
    "# Generate final answer\n",
    "answer = generate_answer_with_context(question, context_sentences)\n",
    "print(\"Question:\", question)\n",
    "print(\"Generated Answer:\", answer)"
   ]
  },
  {
   "cell_type": "markdown",
   "metadata": {
    "id": "35yibHtVcLVB"
   },
   "source": [
    "### Optional tasks for bonus points\n",
    "\n",
    "There are many ways to improve our question answering model. Here's a bunch of things you can do to increase your understanding and get bonus points.\n",
    "\n",
    "### 1.  Hard Negatives (2+ pts)\n",
    "\n",
    "Not all wrong answers are equally wrong. As the training progresses, _most negative examples $a^-$ will be to easy._ So easy in fact, that loss function and gradients on such negatives is exactly __0.0__. To improve training efficiency, one can __mine hard negative samples__.\n",
    "\n",
    "Given a list of answers,\n",
    "* __Hard negative__ is the wrong answer with highest similarity with question,\n",
    "\n",
    "$$a^-_{hard} = \\underset {a^-} {argmax} \\space sim[V_q(q), V_a(a^-)]$$\n",
    "\n",
    "* __Semi-hard negative__ is the one with highest similarity _among wrong answers that are farther than positive one. This option is more useful if some wrong answers may actually be mislabelled correct answers.\n",
    "\n",
    "* One can also __sample__ negatives proportionally to $$P(a^-_i) \\sim e ^ {sim[V_q(q), V_a(a^-_i)]}$$\n",
    "\n",
    "\n",
    "The task is to implement at least __hard negative__ sampling and apply it for model training.\n",
    "\n",
    "\n",
    "### 2. Better prompting (2+ pts)\n",
    "\n",
    "In the previous example, we manually engineer a prompt for an LLM to solve produce an answer. However, by this point you know multiple ways to make LLM do your bidding. In this assignment, you should try at least some of them:\n",
    "- try few-shot learning with several handcrafted examples (or hand-picked model inputs)\n",
    "- compare several instruct and/or non-instruct models; for non-instruct models\n",
    "  - please not that you should not use apply_chat_template for non-instruct models\n",
    "- provide some means of quality evaluation to compare your approach against the default one\n",
    "\n",
    "At the minimum, several (10-20) side-by-side examples would do the trick. However, we'd appreciate creative means of evaluation here (crowdsourcing, asking another LM, anything exotic as long as you can explain it).\n",
    "\n",
    "### 3. Search engine (3+ pts)\n",
    "\n",
    "Our basic model only selects answers from 2-5 available sentences in paragraph. You can extend it to search over __the whole dataset__. All sentences in all other paragraphs are viable answers.\n",
    "\n",
    "The goal is to train such a model and use it to __quickly find top-10 answers from the whole set__.\n",
    "\n",
    "* You can ask such model a question of your own making - to see which answers it can find among the entire training dataset or even the entire wikipedia.\n",
    "* Searching for top-K neighbors is easier if you use specialized methods: [KD-Tree](https://scikit-learn.org/stable/modules/generated/sklearn.neighbors.KDTree.html) or [HNSW](https://github.com/nmslib/hnswlib).\n",
    "* This task is much easier to train if you use hard or semi-hard negatives. You can even find hard negatives for one question from correct answers to other questions in batch - do so in-graph for maximum efficiency. See [1.] for more details.\n"
   ]
  }
 ],
 "metadata": {
  "accelerator": "GPU",
  "colab": {
   "gpuType": "T4",
   "provenance": []
  },
  "kaggle": {
   "accelerator": "nvidiaTeslaT4",
   "dataSources": [],
   "dockerImageVersionId": 31011,
   "isGpuEnabled": true,
   "isInternetEnabled": true,
   "language": "python",
   "sourceType": "notebook"
  },
  "kernelspec": {
   "display_name": "Python 3",
   "language": "python",
   "name": "python3"
  },
  "language_info": {
   "codemirror_mode": {
    "name": "ipython",
    "version": 3
   },
   "file_extension": ".py",
   "mimetype": "text/x-python",
   "name": "python",
   "nbconvert_exporter": "python",
   "pygments_lexer": "ipython3",
   "version": "3.11.11"
  }
 },
 "nbformat": 4,
 "nbformat_minor": 4
}
